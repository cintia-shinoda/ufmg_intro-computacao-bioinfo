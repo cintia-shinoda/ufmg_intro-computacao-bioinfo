{
  "nbformat": 4,
  "nbformat_minor": 0,
  "metadata": {
    "colab": {
      "provenance": []
    },
    "kernelspec": {
      "name": "python3",
      "display_name": "Python 3"
    },
    "language_info": {
      "name": "python"
    }
  },
  "cells": [
    {
      "cell_type": "markdown",
      "source": [
        "# Aula 13 - Tuplas"
      ],
      "metadata": {
        "id": "Zaxn_O6zZp_5"
      }
    },
    {
      "cell_type": "markdown",
      "source": [
        "- imutável e ordenado\n",
        "- ```t = ('20', 'segunda-feira', 'Março', 2023)```\n",
        "- a tupla **não permite a adição ou remoção  de elementos**\n",
        "- tem seus elementos **delimitados por parânteses** (a lista é delimitada por colchetes)\n",
        "- a ordenação dos elementos será a ordem na qual estes foram definidos (não é possível ordenar em tempo de execução)\n",
        "- primeiro elemento tem índice igual a zero\n",
        "- o último elemento tem índice n-1\n",
        "- os parênteses não definem uma tupla, são as vírgulas"
      ],
      "metadata": {
        "id": "l4Pvrxcyp6Zn"
      }
    },
    {
      "cell_type": "markdown",
      "source": [
        "## Formas de declarar tuplas:"
      ],
      "metadata": {
        "id": "3pB6J8-BtZIT"
      }
    },
    {
      "cell_type": "code",
      "execution_count": 1,
      "metadata": {
        "id": "EvaURsMHZnHz"
      },
      "outputs": [],
      "source": [
        "# tupla declarada sem o uso de parênteses\n",
        "t1 = 1, 2, 3"
      ]
    },
    {
      "cell_type": "code",
      "source": [
        "# tupla declarada com o uso de parênteses\n",
        "t2 = (1, 2, 3)"
      ],
      "metadata": {
        "id": "7DdqwMaUtiDb"
      },
      "execution_count": 2,
      "outputs": []
    },
    {
      "cell_type": "code",
      "source": [
        "# tupla com um único elemento\n",
        "t3 = 1,"
      ],
      "metadata": {
        "id": "vr2uqCt0tnCS"
      },
      "execution_count": 3,
      "outputs": []
    },
    {
      "cell_type": "code",
      "source": [
        "# tupla vazia\n",
        "t4 = ()"
      ],
      "metadata": {
        "id": "COz0WfBdtrh0"
      },
      "execution_count": 4,
      "outputs": []
    },
    {
      "cell_type": "markdown",
      "source": [
        "## Operadores para Manipulação de Tuplas"
      ],
      "metadata": {
        "id": "kYMnoiJ3t1VQ"
      }
    },
    {
      "cell_type": "markdown",
      "source": [
        "### ```in```\n",
        "- para retornar se um determinado elemento existe (pertence a ) uma tupla"
      ],
      "metadata": {
        "id": "cixCEmN5uhDa"
      }
    },
    {
      "cell_type": "code",
      "source": [
        "5 in t1  # retornará True ou False"
      ],
      "metadata": {
        "colab": {
          "base_uri": "https://localhost:8080/"
        },
        "id": "sLqhkU41tuP6",
        "outputId": "952c3ea0-12f4-46ad-e2d5-3439ea81d56b"
      },
      "execution_count": 5,
      "outputs": [
        {
          "output_type": "execute_result",
          "data": {
            "text/plain": [
              "False"
            ]
          },
          "metadata": {},
          "execution_count": 5
        }
      ]
    },
    {
      "cell_type": "markdown",
      "source": [
        "### Soma e Multiplicaçãoo de Tuplas\n",
        "\n",
        "- efeito de concatenação"
      ],
      "metadata": {
        "id": "mxzD8OcxvLOh"
      }
    },
    {
      "cell_type": "code",
      "source": [
        "# soma\n",
        "t = ('a', 'b') + ('c',)\n",
        "print(t)\n",
        "print(id(t))"
      ],
      "metadata": {
        "colab": {
          "base_uri": "https://localhost:8080/"
        },
        "id": "V6RPsbc2uytu",
        "outputId": "f189845a-883d-48fe-a9a9-10a8acacfd8b"
      },
      "execution_count": 11,
      "outputs": [
        {
          "output_type": "stream",
          "name": "stdout",
          "text": [
            "('a', 'b', 'c')\n",
            "139719182077248\n"
          ]
        }
      ]
    },
    {
      "cell_type": "code",
      "source": [
        "t += (3,)\n",
        "print(t)\n",
        "print(id(t))   # criou um novo objeto"
      ],
      "metadata": {
        "colab": {
          "base_uri": "https://localhost:8080/"
        },
        "id": "7j_8xx0cvmOh",
        "outputId": "b3e7c4e8-05d8-4477-9b71-2163b75b6a50"
      },
      "execution_count": 12,
      "outputs": [
        {
          "output_type": "stream",
          "name": "stdout",
          "text": [
            "('a', 'b', 'c', 3)\n",
            "139718567006592\n"
          ]
        }
      ]
    },
    {
      "cell_type": "code",
      "source": [
        "# multiplicação\n",
        "t = t * 3\n",
        "print(t)"
      ],
      "metadata": {
        "colab": {
          "base_uri": "https://localhost:8080/"
        },
        "id": "4Dr-zdHYvmax",
        "outputId": "6529ef53-3ccb-4c75-81ba-43bc37f1c2d0"
      },
      "execution_count": 9,
      "outputs": [
        {
          "output_type": "stream",
          "name": "stdout",
          "text": [
            "('a', 'b', 'c', 3, 'a', 'b', 'c', 3, 'a', 'b', 'c', 3)\n"
          ]
        }
      ]
    },
    {
      "cell_type": "markdown",
      "source": [
        "### Encontrar a posição de um elemento\n",
        "- método ```.index()```"
      ],
      "metadata": {
        "id": "RGWIJIB6xDpj"
      }
    },
    {
      "cell_type": "code",
      "source": [
        "print(t)\n",
        "t.index(3)"
      ],
      "metadata": {
        "colab": {
          "base_uri": "https://localhost:8080/"
        },
        "id": "Nh_vmJ9hv5OS",
        "outputId": "98935f05-f45c-46ef-fbdf-d7980397b0de"
      },
      "execution_count": 16,
      "outputs": [
        {
          "output_type": "stream",
          "name": "stdout",
          "text": [
            "('a', 'b', 'c', 3)\n"
          ]
        },
        {
          "output_type": "execute_result",
          "data": {
            "text/plain": [
              "3"
            ]
          },
          "metadata": {},
          "execution_count": 16
        }
      ]
    },
    {
      "cell_type": "markdown",
      "source": [
        "### Contagem de ocorrências de elementos\n",
        "- método ```.count()```"
      ],
      "metadata": {
        "id": "Peem_VoVxtNH"
      }
    },
    {
      "cell_type": "code",
      "source": [
        "print(t)\n",
        "t.count('a')"
      ],
      "metadata": {
        "colab": {
          "base_uri": "https://localhost:8080/"
        },
        "id": "anBvQ_jrxRbb",
        "outputId": "eddeff1f-c4bc-46e1-badf-9d0da13db91e"
      },
      "execution_count": 17,
      "outputs": [
        {
          "output_type": "stream",
          "name": "stdout",
          "text": [
            "('a', 'b', 'c', 3)\n"
          ]
        },
        {
          "output_type": "execute_result",
          "data": {
            "text/plain": [
              "1"
            ]
          },
          "metadata": {},
          "execution_count": 17
        }
      ]
    },
    {
      "cell_type": "markdown",
      "source": [
        "### Obtendo partes de tuplas\n",
        "- como nas strings, usa-se indexação"
      ],
      "metadata": {
        "id": "7id5PekfyKLC"
      }
    },
    {
      "cell_type": "code",
      "source": [
        "t[1:2]"
      ],
      "metadata": {
        "colab": {
          "base_uri": "https://localhost:8080/"
        },
        "id": "Rie_PMlGx81R",
        "outputId": "9bfaf22c-c461-4961-d956-a3c5ca30a66b"
      },
      "execution_count": 18,
      "outputs": [
        {
          "output_type": "execute_result",
          "data": {
            "text/plain": [
              "('b',)"
            ]
          },
          "metadata": {},
          "execution_count": 18
        }
      ]
    },
    {
      "cell_type": "code",
      "source": [
        "t[:2]"
      ],
      "metadata": {
        "colab": {
          "base_uri": "https://localhost:8080/"
        },
        "id": "SJcS7L3wyVyl",
        "outputId": "4b5f3057-bb3e-429b-8ded-99a7f314212c"
      },
      "execution_count": 19,
      "outputs": [
        {
          "output_type": "execute_result",
          "data": {
            "text/plain": [
              "('a', 'b')"
            ]
          },
          "metadata": {},
          "execution_count": 19
        }
      ]
    },
    {
      "cell_type": "code",
      "source": [
        "t[2:]"
      ],
      "metadata": {
        "colab": {
          "base_uri": "https://localhost:8080/"
        },
        "id": "HtGjqcqWyY5v",
        "outputId": "98c3ac26-2958-45fa-f148-e1018d479c8f"
      },
      "execution_count": 20,
      "outputs": [
        {
          "output_type": "execute_result",
          "data": {
            "text/plain": [
              "('c', 3)"
            ]
          },
          "metadata": {},
          "execution_count": 20
        }
      ]
    },
    {
      "cell_type": "code",
      "source": [
        "t[-2]"
      ],
      "metadata": {
        "colab": {
          "base_uri": "https://localhost:8080/",
          "height": 35
        },
        "id": "ByHUO4XHya-b",
        "outputId": "04ad32a5-d2cc-41eb-8d62-4f08518acda1"
      },
      "execution_count": 21,
      "outputs": [
        {
          "output_type": "execute_result",
          "data": {
            "text/plain": [
              "'c'"
            ],
            "application/vnd.google.colaboratory.intrinsic+json": {
              "type": "string"
            }
          },
          "metadata": {},
          "execution_count": 21
        }
      ]
    },
    {
      "cell_type": "markdown",
      "source": [
        "### Tamanho de uma tupla\n",
        "- método ```.len()```"
      ],
      "metadata": {
        "id": "Bzj4Frlvypgf"
      }
    },
    {
      "cell_type": "code",
      "source": [
        "len(t)"
      ],
      "metadata": {
        "colab": {
          "base_uri": "https://localhost:8080/"
        },
        "id": "m9UQp3dpythq",
        "outputId": "cbe55dcb-8df7-4d8e-bb58-73ca5e80805a"
      },
      "execution_count": 23,
      "outputs": [
        {
          "output_type": "execute_result",
          "data": {
            "text/plain": [
              "4"
            ]
          },
          "metadata": {},
          "execution_count": 23
        }
      ]
    },
    {
      "cell_type": "code",
      "source": [],
      "metadata": {
        "id": "PJ0lrTPb0cI3"
      },
      "execution_count": null,
      "outputs": []
    }
  ]
}