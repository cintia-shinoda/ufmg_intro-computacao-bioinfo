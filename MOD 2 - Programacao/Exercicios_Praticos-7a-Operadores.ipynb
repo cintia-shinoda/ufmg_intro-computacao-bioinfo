{
  "nbformat": 4,
  "nbformat_minor": 0,
  "metadata": {
    "colab": {
      "provenance": []
    },
    "kernelspec": {
      "name": "python3",
      "display_name": "Python 3"
    },
    "language_info": {
      "name": "python"
    }
  },
  "cells": [
    {
      "cell_type": "markdown",
      "source": [
        "# Exercício 1\n",
        "\n",
        "Dados 2 números contidos em variáveis de um programa em Python, verifique e imprima se eles são\n",
        "iguais."
      ],
      "metadata": {
        "id": "EaylMqxmolOW"
      }
    },
    {
      "cell_type": "code",
      "execution_count": 1,
      "metadata": {
        "id": "2DqZJVuAoeyX"
      },
      "outputs": [],
      "source": [
        "a = 5\n",
        "b = 28"
      ]
    },
    {
      "cell_type": "code",
      "source": [
        "a == b"
      ],
      "metadata": {
        "colab": {
          "base_uri": "https://localhost:8080/"
        },
        "id": "R9-Ctm-Xo65F",
        "outputId": "43df3a63-5489-4899-8113-b5aeab128670"
      },
      "execution_count": 2,
      "outputs": [
        {
          "output_type": "execute_result",
          "data": {
            "text/plain": [
              "False"
            ]
          },
          "metadata": {},
          "execution_count": 2
        }
      ]
    },
    {
      "cell_type": "markdown",
      "source": [
        "# Exercício 2\n",
        "\n",
        "Dados 5 números contidos em variáveis de um programa em Python, usando operadores aritméticos,\n",
        "calcule e imprima a média entre eles."
      ],
      "metadata": {
        "id": "gq9aNW1Gopld"
      }
    },
    {
      "cell_type": "code",
      "source": [
        "nota1 = 8\n",
        "nota2 = 9.5\n",
        "nota3 = 10\n",
        "nota4 = 8.5\n",
        "nota5 = 9\n",
        "\n",
        "media = (nota1 + nota2 + nota3 + nota4 + nota5)/5\n",
        "print(media)"
      ],
      "metadata": {
        "colab": {
          "base_uri": "https://localhost:8080/"
        },
        "id": "WyDyCZi1orKW",
        "outputId": "de0ca4aa-50e0-4cad-9d0b-639abe5bdd3a"
      },
      "execution_count": 4,
      "outputs": [
        {
          "output_type": "stream",
          "name": "stdout",
          "text": [
            "9.0\n"
          ]
        }
      ]
    },
    {
      "cell_type": "markdown",
      "source": [
        "# Exercicio 3\n",
        "\n",
        "Dados 2 números, base e expoente, escreva um trecho de código em Python que calcule e imprima a\n",
        "potência correspondente."
      ],
      "metadata": {
        "id": "LVEf8c8Coriw"
      }
    },
    {
      "cell_type": "code",
      "source": [
        "base = 2\n",
        "exp = 3\n",
        "\n",
        "print(2 ** 3)"
      ],
      "metadata": {
        "colab": {
          "base_uri": "https://localhost:8080/"
        },
        "id": "Q1oean1botqo",
        "outputId": "c42fa3fe-3976-49be-ec57-39eee2f831a2"
      },
      "execution_count": 5,
      "outputs": [
        {
          "output_type": "execute_result",
          "data": {
            "text/plain": [
              "8"
            ]
          },
          "metadata": {},
          "execution_count": 5
        }
      ]
    },
    {
      "cell_type": "markdown",
      "source": [
        "# Exercicio 4\n",
        "\n",
        "Dados dois números contidos em variáveis em um programa em Python, determine e imprima se o\n",
        "primeiro número é ou não divisível pelo segundo."
      ],
      "metadata": {
        "id": "eJtH8mi28H5o"
      }
    },
    {
      "cell_type": "code",
      "source": [
        "num1 = 98\n",
        "num2 = 5\n",
        "\n",
        "(num1 % num2) == 0"
      ],
      "metadata": {
        "colab": {
          "base_uri": "https://localhost:8080/"
        },
        "id": "ZF7Tzj0d8HGg",
        "outputId": "8049a66b-aa36-4199-9d30-3521372f61a8"
      },
      "execution_count": 6,
      "outputs": [
        {
          "output_type": "execute_result",
          "data": {
            "text/plain": [
              "False"
            ]
          },
          "metadata": {},
          "execution_count": 6
        }
      ]
    },
    {
      "cell_type": "markdown",
      "source": [
        "# Exercicio 5\n",
        "\n",
        "Considerando os mesmos dois números usados no exercício anterior, calcule e imprima o quociente da\n",
        "divisão inteira entre o primeiro pelo segundo número."
      ],
      "metadata": {
        "id": "hcPrByEO8qOt"
      }
    },
    {
      "cell_type": "code",
      "source": [
        "num1 // num2"
      ],
      "metadata": {
        "colab": {
          "base_uri": "https://localhost:8080/"
        },
        "id": "GQVWCMsp8pD9",
        "outputId": "42c2d24e-dcc3-4c47-ed32-d56afc7e70bf"
      },
      "execution_count": 7,
      "outputs": [
        {
          "output_type": "execute_result",
          "data": {
            "text/plain": [
              "19"
            ]
          },
          "metadata": {},
          "execution_count": 7
        }
      ]
    },
    {
      "cell_type": "markdown",
      "source": [
        "# Exercicio 6\n",
        "\n",
        "Considere que você tem uma variável com um tamanho de uma sequência biológica. Imprima se essa\n",
        "sequência se encontra ou não no intervalo [5,30]"
      ],
      "metadata": {
        "id": "Bx5Qv7LM81N9"
      }
    },
    {
      "cell_type": "code",
      "source": [
        "tam_seq_bio = 67\n",
        "tam_seq_bio >= 5 and tam_seq_bio <= 30"
      ],
      "metadata": {
        "colab": {
          "base_uri": "https://localhost:8080/"
        },
        "id": "titNGA2F8z3L",
        "outputId": "3afcced3-c6e4-4ae9-f983-cd10226f29ec"
      },
      "execution_count": 12,
      "outputs": [
        {
          "output_type": "execute_result",
          "data": {
            "text/plain": [
              "False"
            ]
          },
          "metadata": {},
          "execution_count": 12
        }
      ]
    },
    {
      "cell_type": "markdown",
      "source": [
        "# Exercicio 7\n",
        "\n",
        "Considere que você tem uma variável com um tamanho de uma sequência biológica. Imprima se essa\n",
        "sequência se encontra ou não no intervalo (5,30]."
      ],
      "metadata": {
        "id": "WaTKOSOt9NtL"
      }
    },
    {
      "cell_type": "code",
      "source": [
        "tam_se_bio = 67\n",
        "tam_seq_bio > 5 and tam_seq_bio <= 30"
      ],
      "metadata": {
        "colab": {
          "base_uri": "https://localhost:8080/"
        },
        "id": "JO6oG34fB4yI",
        "outputId": "e5d24814-f00f-4c0d-87b8-286f5abc83dc"
      },
      "execution_count": 13,
      "outputs": [
        {
          "output_type": "execute_result",
          "data": {
            "text/plain": [
              "False"
            ]
          },
          "metadata": {},
          "execution_count": 13
        }
      ]
    },
    {
      "cell_type": "markdown",
      "source": [
        "# Exercicio 8\n",
        "\n",
        "Considere a seguinte lista de aminoácidos e uma variável contendo uma letra. Decida e imprima se uma\n",
        "dada letra é ou não um dos aminoácidos da lista: 'A', 'C', 'D', 'E', 'F', 'G', 'H', 'I',\n",
        "'K', 'L', 'M', 'N', 'P', 'Q', 'R', 'S', 'T', 'V', 'W', ‘Y'"
      ],
      "metadata": {
        "id": "6vuNyKia-l-I"
      }
    },
    {
      "cell_type": "code",
      "source": [
        "aa_lista = ['A', 'C', 'D', 'E', 'F', 'G', 'H', 'I', \\\n",
        "'K', 'L', 'M', 'N', 'P', 'Q', 'R', 'S', 'T', 'V', 'W', 'Y']\n",
        "\n",
        "letra = 'C'\n",
        "\n",
        "letra in aa_lista"
      ],
      "metadata": {
        "colab": {
          "base_uri": "https://localhost:8080/"
        },
        "id": "3yAj5C4S9O6-",
        "outputId": "6e96b8f0-22fa-4639-aff6-bff008f6b267"
      },
      "execution_count": 14,
      "outputs": [
        {
          "output_type": "execute_result",
          "data": {
            "text/plain": [
              "True"
            ]
          },
          "metadata": {},
          "execution_count": 14
        }
      ]
    },
    {
      "cell_type": "markdown",
      "source": [
        "# Exercicio 9\n",
        "\n",
        "Considere a lista de aminoácidos positivos e aminoácidos negativos:\n",
        "\n",
        "- pos=['H', 'K', 'R']\n",
        "- neg=['D', ‘E’]\n",
        "\n",
        "Dado um aminoácido, imprima se ele é carregado ou neutro."
      ],
      "metadata": {
        "id": "-HZOKar_B-om"
      }
    },
    {
      "cell_type": "code",
      "source": [
        "pos=['H', 'K', 'R']\n",
        "neg=['D', 'E']\n",
        "AA = 'C'\n",
        "\n",
        "print('Carregado?', AA in pos or AA in neg)\n",
        "print('Neutro?', (not AA in pos) and (not AA in neg))"
      ],
      "metadata": {
        "colab": {
          "base_uri": "https://localhost:8080/"
        },
        "id": "daoISLBT9sOi",
        "outputId": "c663e4f3-c5c2-4139-c61b-29fc682aed72"
      },
      "execution_count": 18,
      "outputs": [
        {
          "output_type": "stream",
          "name": "stdout",
          "text": [
            "Carregado? False\n",
            "Neutro? True\n"
          ]
        }
      ]
    }
  ]
}