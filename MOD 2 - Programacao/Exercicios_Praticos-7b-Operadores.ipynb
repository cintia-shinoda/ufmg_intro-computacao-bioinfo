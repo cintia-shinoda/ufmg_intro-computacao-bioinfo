{
  "nbformat": 4,
  "nbformat_minor": 0,
  "metadata": {
    "colab": {
      "provenance": []
    },
    "kernelspec": {
      "name": "python3",
      "display_name": "Python 3"
    },
    "language_info": {
      "name": "python"
    }
  },
  "cells": [
    {
      "cell_type": "markdown",
      "source": [
        "# Exercicio 1\n",
        "\n",
        "Um problema comum em bioinformática estrutural é a comparação entre estruturas moleculares.\n",
        "Nesse exercício, alinhamos estruturalmente dois resíduos de glicina (amarela e roxa - Figura 1) e\n",
        "apresentamos as coordenadas tridimensionais (x, y, z) (Tabelas 1 e 2). Considerando estas tabelas de\n",
        "coordenadas x, y, z dos átomos dos dois resíduos de glicina, calcule o RMSD (Root Mean Square Deviation)\n",
        "entre elas segundo a Equação:\n",
        "<br><br>\n",
        "\n",
        "$$RMSD = \\sqrt{\\frac{1}{N}\\sum_{i=1...N}{(x_{i1}-x_{i2})^2+(y_{i1}-y_{i2})^2+(z_{i1}-z_{i2})^2}}$$"
      ],
      "metadata": {
        "id": "5ULJMrJIGHRv"
      }
    },
    {
      "cell_type": "code",
      "execution_count": 1,
      "metadata": {
        "colab": {
          "base_uri": "https://localhost:8080/"
        },
        "id": "LAGHKoFkF-kU",
        "outputId": "b836fdcd-3830-4c25-a018-7dc9faff70f1"
      },
      "outputs": [
        {
          "output_type": "stream",
          "name": "stdout",
          "text": [
            "1.3864716008631346\n"
          ]
        }
      ],
      "source": [
        "import math\n",
        "\n",
        "aa1=[[108.304, 100.827, 67.992], [108.477, 100.389, 69.362], [109.907, 100.555, 69.817], [110.821, 100.799, 69.027]]\n",
        "aa2=[[107.670, 101.359, 70.074], [108.477, 100.389, 69.362], [109.513, 101.011, 68.450], [110.667, 100.572, 68.425]]\n",
        "\n",
        "tmpN = (aa1[0][0]-aa2[0][0])**2+(aa1[0][1]-aa2[0][1])**2+(aa1[0][2]-aa2[0][2])**2\n",
        "tmpCA = (aa1[1][0]-aa2[1][0])**2+(aa1[1][1]-aa2[1][1])**2+(aa1[1][2]-aa2[1][2])**2\n",
        "tmpC = (aa1[2][0]-aa2[2][0])**2+(aa1[2][1]-aa2[2][1])**2+(aa1[2][2]-aa2[2][2])**2\n",
        "tmpO = (aa1[3][0]-aa2[3][0])**2+(aa1[3][1]-aa2[3][1])**2+(aa1[3][2]-aa2[3][2])**2\n",
        "\n",
        "soma = tmpN + tmpCA + tmpC + tmpO\n",
        "quoc = soma/len(aa1)\n",
        "rmsd = math.sqrt(quoc)\n",
        "\n",
        "print(rmsd)"
      ]
    },
    {
      "cell_type": "markdown",
      "source": [
        "# Exercicio 2\n",
        "\n",
        "Em biologia molecular, o conteúdo GC (guanina e citosina) é o percentual de bases nitrogenadas em uma\n",
        "molécula de DNA ou RNA que são guanina ou citosina (dentre as quatro bases possíveis). Para as seguintes\n",
        "sequências calcule usando os operadores vistos em aula o percentual de conteúdo GC, imprimindo os\n",
        "resultados:\n",
        "\n",
        "Sequência A: ATGATCTCGTAATTAACCGGAATTTTGGGCC\n",
        "\n",
        "Saída esperada: 41.93\n",
        "<br>\n",
        "\n",
        "Sequência B: GGCCTTAAGTTTAACCCGGAATTTAAAGGCCCCAAA\n",
        "\n",
        "Saída esperada: 44.44 "
      ],
      "metadata": {
        "id": "8tg70MAuGKQc"
      }
    },
    {
      "cell_type": "code",
      "source": [
        "seq_a =  'ATGATCTCGTAATTAACCGGAATTTTGGGCC'\n",
        "cont_c = seq_a.count('C')\n",
        "cont_g = seq_a.count('G')\n",
        "comp = len(seq_a)\n",
        "perc_cg = ((cont_c + cont_g)/comp) * 100\n",
        "print(perc_cg)"
      ],
      "metadata": {
        "colab": {
          "base_uri": "https://localhost:8080/"
        },
        "id": "6TH-EqO7GLlE",
        "outputId": "46df7bf5-fa97-4596-ddaa-8c405779794a"
      },
      "execution_count": 5,
      "outputs": [
        {
          "output_type": "stream",
          "name": "stdout",
          "text": [
            "41.935483870967744\n"
          ]
        }
      ]
    },
    {
      "cell_type": "code",
      "source": [
        "seq_b =  'GGCCTTAAGTTTAACCCGGAATTTAAAGGCCCCAAA'\n",
        "cont_c = seq_b.count('C')\n",
        "cont_g = seq_b.count('G')\n",
        "comp = len(seq_b)\n",
        "perc_cg = ((cont_c + cont_g)/comp) * 100\n",
        "print(perc_cg)"
      ],
      "metadata": {
        "colab": {
          "base_uri": "https://localhost:8080/"
        },
        "id": "IKjfJJsYG8a_",
        "outputId": "6c50f35e-e045-456a-953d-03fbbabd6ecc"
      },
      "execution_count": 7,
      "outputs": [
        {
          "output_type": "stream",
          "name": "stdout",
          "text": [
            "44.44444444444444\n"
          ]
        }
      ]
    }
  ]
}