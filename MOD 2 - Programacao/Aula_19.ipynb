{
  "nbformat": 4,
  "nbformat_minor": 0,
  "metadata": {
    "colab": {
      "provenance": []
    },
    "kernelspec": {
      "name": "python3",
      "display_name": "Python 3"
    },
    "language_info": {
      "name": "python"
    }
  },
  "cells": [
    {
      "cell_type": "markdown",
      "source": [
        "# Aula 19 - Últimas considerações"
      ],
      "metadata": {
        "id": "6clEWES3apBI"
      }
    },
    {
      "cell_type": "markdown",
      "source": [
        "## Nomeando variáveis\n",
        "\n",
        "- devem iniciar com uma letra ou underscore\n",
        "- conter ao longo do nome: letras, underscores e dígitos"
      ],
      "metadata": {
        "id": "Zbhd1En_atNU"
      }
    },
    {
      "cell_type": "markdown",
      "source": [
        "## Escopo de variáveis\n",
        "\n",
        "- Python não exige que variáveis sejam declaradas e tipadas\n",
        "- porém, por uma questão de escopo é interessante declarar variáveis\n",
        "- até o momento, todas as variáveis utilizadas são **globais** (são visíveis e acessíveis ao longo de todo o programa)\n",
        "- o escopo de uma variável indica sua visibilidade (onde no código a variável é acessível"
      ],
      "metadata": {
        "id": "ouX6k-nmbMtS"
      }
    },
    {
      "cell_type": "markdown",
      "source": [
        "**Local**\n",
        "\n",
        "- variáveis criadas dentro de uma função e que existem apenas dentro da função onde foi declarada\n",
        "- inicializadas a cada nova chamada à função\n",
        "- não é possível acessar seu valor fora da função onde ela foi declarada\n",
        "- pra poder interagir com variáveis locais, passamos parâmetros e retornamos valores nas funções"
      ],
      "metadata": {
        "id": "cH-boZaZca5Y"
      }
    },
    {
      "cell_type": "markdown",
      "source": [
        "**Global**\n",
        "- é declarada (criada) fora das funções e pode ser acesssada por todas as funções presentes no módulo onde é definida\n",
        "- podem ser acessadas por outros módulos, caso importe o módulo onde a variável foi definida\n",
        "- uma aplicação útil: armazenamento de valores constantes no programa, acessíveis a todas as funções"
      ],
      "metadata": {
        "id": "1-VSyBgHcm0G"
      }
    },
    {
      "cell_type": "code",
      "execution_count": null,
      "metadata": {
        "id": "vzjyF6JfadRf"
      },
      "outputs": [],
      "source": []
    }
  ]
}