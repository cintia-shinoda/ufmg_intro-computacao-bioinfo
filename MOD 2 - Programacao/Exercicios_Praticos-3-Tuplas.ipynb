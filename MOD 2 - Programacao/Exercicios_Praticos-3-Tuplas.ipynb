{
  "nbformat": 4,
  "nbformat_minor": 0,
  "metadata": {
    "colab": {
      "provenance": []
    },
    "kernelspec": {
      "name": "python3",
      "display_name": "Python 3"
    },
    "language_info": {
      "name": "python"
    }
  },
  "cells": [
    {
      "cell_type": "markdown",
      "source": [
        "Construa um tupla contendo os seguintes aminoácidos:\n",
        "\n",
        "A, C, D, E, F, G, H, I, K, L, M, N, P, Q, R, S, T, V, W, Y\n",
        "\n",
        "Realize as seguintes tarefas através de códigos em Python:"
      ],
      "metadata": {
        "id": "PyMNfH2U4lgB"
      }
    },
    {
      "cell_type": "code",
      "source": [
        "tupla = ('A', 'C', 'D',  'E', 'F', 'G', 'H', 'I', 'K', 'L', 'M', 'N', 'P', 'Q', 'R', 'S', 'T', 'V', 'W', 'Y')"
      ],
      "metadata": {
        "id": "JoVLLbBQzd5V"
      },
      "execution_count": null,
      "outputs": []
    },
    {
      "cell_type": "markdown",
      "source": [
        "## A\n",
        "\n",
        "Conte e imprima o número de elementos contidos na tupla criada."
      ],
      "metadata": {
        "id": "ZmTe1O62zV8W"
      }
    },
    {
      "cell_type": "code",
      "execution_count": null,
      "metadata": {
        "colab": {
          "base_uri": "https://localhost:8080/"
        },
        "id": "zDo9RAmczQ6s",
        "outputId": "c4fdb9a1-1168-4245-d97c-2c06ac88f8ed"
      },
      "outputs": [
        {
          "output_type": "stream",
          "name": "stdout",
          "text": [
            "20\n"
          ]
        }
      ],
      "source": [
        "print(len(tupla))"
      ]
    },
    {
      "cell_type": "markdown",
      "source": [
        "## B\n",
        "\n",
        "Verifique e imprima se o aminoácido Serina (S) pertence à tupla."
      ],
      "metadata": {
        "id": "w2Rz3L2Wz-a0"
      }
    },
    {
      "cell_type": "code",
      "source": [
        "'S' in tupla"
      ],
      "metadata": {
        "colab": {
          "base_uri": "https://localhost:8080/"
        },
        "id": "l740vRPgz4iG",
        "outputId": "924665c4-4b63-47c3-c50e-b7f9a5d58ea2"
      },
      "execution_count": null,
      "outputs": [
        {
          "output_type": "execute_result",
          "data": {
            "text/plain": [
              "True"
            ]
          },
          "metadata": {},
          "execution_count": 5
        }
      ]
    },
    {
      "cell_type": "markdown",
      "source": [
        "## C\n",
        "\n",
        "Crie uma segunda tupla contendo os elementos Prolina (P), Glicina (G), Asparagina (N), Tirosina (Y), Valina\n",
        "(V) e Triptofano (W)."
      ],
      "metadata": {
        "id": "n71WuJU6z_nr"
      }
    },
    {
      "cell_type": "code",
      "source": [
        "tupla_2 = ('P', 'G', 'N', 'Y', 'V', 'W')"
      ],
      "metadata": {
        "id": "Jba1EYU20FFs"
      },
      "execution_count": null,
      "outputs": []
    },
    {
      "cell_type": "markdown",
      "source": [
        "## D\n",
        "\n",
        "Some as tuplas construídas e imprima o resultado."
      ],
      "metadata": {
        "id": "xWZCUhFD0Ff9"
      }
    },
    {
      "cell_type": "code",
      "source": [
        "tupla_3 = (tupla + tupla_2)\n",
        "print(tupla_3)"
      ],
      "metadata": {
        "colab": {
          "base_uri": "https://localhost:8080/"
        },
        "id": "ATBvpD-70WhZ",
        "outputId": "0a8784cb-0442-4d58-dbfc-ec0a8e0c7413"
      },
      "execution_count": null,
      "outputs": [
        {
          "output_type": "stream",
          "name": "stdout",
          "text": [
            "('A', 'C', 'D', 'E', 'F', 'G', 'H', 'I', 'K', 'L', 'M', 'N', 'P', 'Q', 'R', 'S', 'T', 'V', 'W', 'Y', 'P', 'G', 'N', 'Y', 'V', 'W')\n"
          ]
        }
      ]
    },
    {
      "cell_type": "markdown",
      "source": [
        "## E\n",
        "\n",
        "Conte a ocorrência dos elementos Glicina (G), Asparagina (N) e Cisteína (C)."
      ],
      "metadata": {
        "id": "7XljLsJm0XF8"
      }
    },
    {
      "cell_type": "code",
      "source": [
        "print('ocorrências de G: ' , tupla_3.count('G'))\n",
        "print('ocorrências de N: ' , tupla_3.count('N'))\n",
        "print('ocorrências de C: ' , tupla_3.count('C'))"
      ],
      "metadata": {
        "colab": {
          "base_uri": "https://localhost:8080/"
        },
        "id": "AgW-wXd_0nBy",
        "outputId": "ce835540-281b-40c0-c3f6-89be61b5c6b2"
      },
      "execution_count": null,
      "outputs": [
        {
          "output_type": "stream",
          "name": "stdout",
          "text": [
            "ocorrências de G:  2\n",
            "ocorrências de N:  2\n",
            "ocorrências de C:  1\n"
          ]
        }
      ]
    },
    {
      "cell_type": "markdown",
      "source": [
        "## F\n",
        "\n",
        "Retorne a posição do primeiro elemento Asparagina (N)."
      ],
      "metadata": {
        "id": "aAkCSQXj0npD"
      }
    },
    {
      "cell_type": "code",
      "source": [
        "print(tupla_3.index('N'))"
      ],
      "metadata": {
        "colab": {
          "base_uri": "https://localhost:8080/"
        },
        "id": "AsR4qsE71J_v",
        "outputId": "6e0cb7ce-f834-46c6-cf7a-382c18db1c6b"
      },
      "execution_count": null,
      "outputs": [
        {
          "output_type": "stream",
          "name": "stdout",
          "text": [
            "11\n"
          ]
        }
      ]
    },
    {
      "cell_type": "markdown",
      "source": [
        "## G\n",
        "\n",
        "Retorne os 5 últimos elementos da tupla."
      ],
      "metadata": {
        "id": "vwJvP3z81KrU"
      }
    },
    {
      "cell_type": "code",
      "source": [
        "print(tupla_3[-5:])"
      ],
      "metadata": {
        "colab": {
          "base_uri": "https://localhost:8080/"
        },
        "id": "1p3AwAJM1XJF",
        "outputId": "0232e41e-715d-42d5-ec1d-be8d9a51fa75"
      },
      "execution_count": null,
      "outputs": [
        {
          "output_type": "stream",
          "name": "stdout",
          "text": [
            "('G', 'N', 'Y', 'V', 'W')\n"
          ]
        }
      ]
    }
  ]
}