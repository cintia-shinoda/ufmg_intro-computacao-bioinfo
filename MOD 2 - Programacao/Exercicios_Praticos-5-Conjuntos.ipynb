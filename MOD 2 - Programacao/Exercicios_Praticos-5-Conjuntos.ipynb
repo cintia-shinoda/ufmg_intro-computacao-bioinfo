{
  "nbformat": 4,
  "nbformat_minor": 0,
  "metadata": {
    "colab": {
      "provenance": []
    },
    "kernelspec": {
      "name": "python3",
      "display_name": "Python 3"
    },
    "language_info": {
      "name": "python"
    }
  },
  "cells": [
    {
      "cell_type": "markdown",
      "source": [
        "# Exercicio 1\n",
        "\n",
        "Em um experimento de docking molecular utilizando três ferramentas diferentes, foram obtidos os três três\n",
        "conjuntos de RMSD da tabela abaixo. Considerando os valores desta tabela, crie os 3 conjuntos usando\n",
        "variáveis do tipo conjunto em Python. \n",
        "\n",
        "A seguir, codifique em Python as seguintes tarefas: "
      ],
      "metadata": {
        "id": "VnAnRLFNT4s4"
      }
    },
    {
      "cell_type": "code",
      "execution_count": 1,
      "metadata": {
        "id": "0p9llM3ETy3G"
      },
      "outputs": [],
      "source": [
        "ferramenta1 = {1.9, 1.8, 5.7, 1.6, 5.8, 1.7, 9.6, 5.9, 9.5, 6.5, 6.2, 1.1, 4.4, 3.5, 2.9, 4.7,\n",
        "4.6, 5.2, 5.3}\n",
        "ferramenta2 = {4.7, 3.6, 6.2, 7.1, 7, 5.6, 5.7, 3.4, 3.3, 2.1, 3.8, 3.9, 5, 5.1, 1.9, 9.5,\n",
        "1.0, 1.3, 5.4}\n",
        "ferramenta3 = {2.2, 3.3, 5.1, 3, 3.7, 9.1, 8.8, 8.5, 2, 4.1, 6.1, 4.9, 1.1, 0.5, 0.8, 3.2,\n",
        "6.9, 9.3, 9.5}"
      ]
    },
    {
      "cell_type": "markdown",
      "source": [
        "## A\n",
        "\n",
        "Verifique as diferenças entre os conjuntos (1,2) (1,3) e (2,3) "
      ],
      "metadata": {
        "id": "YsQ7D_oVUffM"
      }
    },
    {
      "cell_type": "code",
      "source": [
        "# (1,2)\n",
        "ferramenta1.difference(ferramenta2)"
      ],
      "metadata": {
        "colab": {
          "base_uri": "https://localhost:8080/"
        },
        "id": "FtStSzxHUptU",
        "outputId": "80ab65c6-0a8e-4600-f8c4-700fa30d6876"
      },
      "execution_count": 3,
      "outputs": [
        {
          "output_type": "execute_result",
          "data": {
            "text/plain": [
              "{1.1, 1.6, 1.7, 1.8, 2.9, 3.5, 4.4, 4.6, 5.2, 5.3, 5.8, 5.9, 6.5, 9.6}"
            ]
          },
          "metadata": {},
          "execution_count": 3
        }
      ]
    },
    {
      "cell_type": "code",
      "source": [
        "# (1,3)\n",
        "ferramenta1.difference(ferramenta3)"
      ],
      "metadata": {
        "colab": {
          "base_uri": "https://localhost:8080/"
        },
        "id": "0TT9-3VhU036",
        "outputId": "b0acefc6-55d1-4f1e-a815-551400b5c8b0"
      },
      "execution_count": 4,
      "outputs": [
        {
          "output_type": "execute_result",
          "data": {
            "text/plain": [
              "{1.6,\n",
              " 1.7,\n",
              " 1.8,\n",
              " 1.9,\n",
              " 2.9,\n",
              " 3.5,\n",
              " 4.4,\n",
              " 4.6,\n",
              " 4.7,\n",
              " 5.2,\n",
              " 5.3,\n",
              " 5.7,\n",
              " 5.8,\n",
              " 5.9,\n",
              " 6.2,\n",
              " 6.5,\n",
              " 9.6}"
            ]
          },
          "metadata": {},
          "execution_count": 4
        }
      ]
    },
    {
      "cell_type": "code",
      "source": [
        "# (2,3)\n",
        "ferramenta2.difference(ferramenta3)"
      ],
      "metadata": {
        "colab": {
          "base_uri": "https://localhost:8080/"
        },
        "id": "cpNhGcOEU7RX",
        "outputId": "957904a7-c6db-4024-8c52-13c48cbdad77"
      },
      "execution_count": 9,
      "outputs": [
        {
          "output_type": "execute_result",
          "data": {
            "text/plain": [
              "{1.0, 1.3, 1.9, 2.1, 3.4, 3.6, 3.8, 3.9, 4.7, 5, 5.4, 5.6, 5.7, 6.2, 7, 7.1}"
            ]
          },
          "metadata": {},
          "execution_count": 9
        }
      ]
    },
    {
      "cell_type": "markdown",
      "source": [
        "## B\n",
        "\n",
        "Retorne as intersecções entre (1,2) (1,3) e (2,3) "
      ],
      "metadata": {
        "id": "4IHQ8WGqVQRF"
      }
    },
    {
      "cell_type": "code",
      "source": [
        "# (1,2)\n",
        "ferramenta1.intersection(ferramenta2)"
      ],
      "metadata": {
        "colab": {
          "base_uri": "https://localhost:8080/"
        },
        "id": "mwfxyJTRVOx6",
        "outputId": "fa3ced5c-874c-4ea7-e542-cdd249cffc63"
      },
      "execution_count": 10,
      "outputs": [
        {
          "output_type": "execute_result",
          "data": {
            "text/plain": [
              "{1.9, 4.7, 5.7, 6.2, 9.5}"
            ]
          },
          "metadata": {},
          "execution_count": 10
        }
      ]
    },
    {
      "cell_type": "code",
      "source": [
        "# (1,3)\n",
        "ferramenta1.intersection(ferramenta3)"
      ],
      "metadata": {
        "colab": {
          "base_uri": "https://localhost:8080/"
        },
        "id": "Q-VH0IeiVfor",
        "outputId": "1dda58e5-e383-4a4c-e959-9bb0bef50e19"
      },
      "execution_count": 11,
      "outputs": [
        {
          "output_type": "execute_result",
          "data": {
            "text/plain": [
              "{1.1, 9.5}"
            ]
          },
          "metadata": {},
          "execution_count": 11
        }
      ]
    },
    {
      "cell_type": "code",
      "source": [
        "# (2,3)\n",
        "ferramenta2.intersection(ferramenta3)"
      ],
      "metadata": {
        "colab": {
          "base_uri": "https://localhost:8080/"
        },
        "id": "tPOL5V-QVkVc",
        "outputId": "0d018ead-739f-48bd-daeb-b8562e8c1c31"
      },
      "execution_count": 12,
      "outputs": [
        {
          "output_type": "execute_result",
          "data": {
            "text/plain": [
              "{3.3, 5.1, 9.5}"
            ]
          },
          "metadata": {},
          "execution_count": 12
        }
      ]
    },
    {
      "cell_type": "markdown",
      "source": [
        "## C\n",
        "\n",
        " Insira todos os elementos do conjunto 2 e 3 no conjunto 1 "
      ],
      "metadata": {
        "id": "y9cgRRC3VSR7"
      }
    },
    {
      "cell_type": "code",
      "source": [
        "ferramenta1.update(ferramenta2, ferramenta3)"
      ],
      "metadata": {
        "id": "sBhKp_RDVqk3"
      },
      "execution_count": 15,
      "outputs": []
    },
    {
      "cell_type": "markdown",
      "source": [
        "## D\n",
        "\n",
        "Retorne o tamanho do conjunto formado pela tarefa (c). "
      ],
      "metadata": {
        "id": "2T52PBJ9VrFc"
      }
    },
    {
      "cell_type": "code",
      "source": [
        "len(ferramenta1)"
      ],
      "metadata": {
        "colab": {
          "base_uri": "https://localhost:8080/"
        },
        "id": "oiaJMDAQWTDL",
        "outputId": "686e6490-0987-4f33-b93b-69ea0be16d72"
      },
      "execution_count": 16,
      "outputs": [
        {
          "output_type": "execute_result",
          "data": {
            "text/plain": [
              "48"
            ]
          },
          "metadata": {},
          "execution_count": 16
        }
      ]
    },
    {
      "cell_type": "markdown",
      "source": [
        "# Exercicio 2\n",
        "\n",
        "Dados os seguintes conjuntos\n",
        "\n",
        "A = {3, 6, 9, 12, 15, 18, 21, 24, 28, 27}\n",
        "\n",
        "B = {2, 6, 8, 10, 14, 16, 18, 20, 22, 24}\n",
        "\n",
        "C = {2, 6, 10, 18, 20}\n",
        "\n",
        "D = {1, 30, 5, 11, 17, 16, 22, 26} \n",
        "\n",
        "Codifique em Python as variáveis que os representam e realize as seguintes tarefas: "
      ],
      "metadata": {
        "id": "4m9WVutFWW2w"
      }
    },
    {
      "cell_type": "code",
      "source": [
        "A = {3, 6, 9, 12, 15, 18, 21, 24, 28, 27}\n",
        "B = {2, 6, 8, 10, 14, 16, 18, 20, 22, 24}\n",
        "C = {2, 6, 10, 18, 20}\n",
        "D = {1, 30, 5, 11, 17, 16, 22, 26} "
      ],
      "metadata": {
        "id": "7bU7trjxWUqg"
      },
      "execution_count": 17,
      "outputs": []
    },
    {
      "cell_type": "markdown",
      "source": [
        "## A\n",
        "\n",
        "Verifique a interseção e diferença entre o conjunto A e B."
      ],
      "metadata": {
        "id": "cK_VYCEyWgfI"
      }
    },
    {
      "cell_type": "code",
      "source": [
        "# interseção\n",
        "A.intersection(B)"
      ],
      "metadata": {
        "colab": {
          "base_uri": "https://localhost:8080/"
        },
        "id": "pEJShMdeWe-9",
        "outputId": "4253ce96-9baa-473d-d139-ecd35dcda935"
      },
      "execution_count": 18,
      "outputs": [
        {
          "output_type": "execute_result",
          "data": {
            "text/plain": [
              "{6, 18, 24}"
            ]
          },
          "metadata": {},
          "execution_count": 18
        }
      ]
    },
    {
      "cell_type": "code",
      "source": [
        "# diferença\n",
        "A.difference(B)"
      ],
      "metadata": {
        "colab": {
          "base_uri": "https://localhost:8080/"
        },
        "id": "pEfRKs5SWuGR",
        "outputId": "e204ee48-be19-45a3-997e-8be045b8cee2"
      },
      "execution_count": 19,
      "outputs": [
        {
          "output_type": "execute_result",
          "data": {
            "text/plain": [
              "{3, 9, 12, 15, 21, 27, 28}"
            ]
          },
          "metadata": {},
          "execution_count": 19
        }
      ]
    },
    {
      "cell_type": "markdown",
      "source": [
        "## B\n",
        "\n",
        "Verifique se o conjunto A e B são disjuntos ao conjunto D "
      ],
      "metadata": {
        "id": "KsKn7ZlqW0jB"
      }
    },
    {
      "cell_type": "code",
      "source": [
        "A.isdisjoint(D)"
      ],
      "metadata": {
        "colab": {
          "base_uri": "https://localhost:8080/"
        },
        "id": "2_TwPOWCWw4o",
        "outputId": "44cbf982-c5a5-477d-c877-eaae52c16c6c"
      },
      "execution_count": 20,
      "outputs": [
        {
          "output_type": "execute_result",
          "data": {
            "text/plain": [
              "True"
            ]
          },
          "metadata": {},
          "execution_count": 20
        }
      ]
    },
    {
      "cell_type": "code",
      "source": [
        "B.isdisjoint(D)"
      ],
      "metadata": {
        "colab": {
          "base_uri": "https://localhost:8080/"
        },
        "id": "g-uE3bL2XEZ1",
        "outputId": "1f18367b-c728-4291-d4c3-c5e93abf7ecf"
      },
      "execution_count": 21,
      "outputs": [
        {
          "output_type": "execute_result",
          "data": {
            "text/plain": [
              "False"
            ]
          },
          "metadata": {},
          "execution_count": 21
        }
      ]
    },
    {
      "cell_type": "markdown",
      "source": [
        "## C\n",
        "\n",
        "Retorne se o conjunto C é subconjunto de A e B "
      ],
      "metadata": {
        "id": "vYZs06urXIPY"
      }
    },
    {
      "cell_type": "code",
      "source": [
        "C.issubset(A)"
      ],
      "metadata": {
        "colab": {
          "base_uri": "https://localhost:8080/"
        },
        "id": "ZrOQeColXHNp",
        "outputId": "1815194f-5b6f-4461-e31c-6c30787651d0"
      },
      "execution_count": 22,
      "outputs": [
        {
          "output_type": "execute_result",
          "data": {
            "text/plain": [
              "False"
            ]
          },
          "metadata": {},
          "execution_count": 22
        }
      ]
    },
    {
      "cell_type": "code",
      "source": [
        "C.issubset(B)"
      ],
      "metadata": {
        "colab": {
          "base_uri": "https://localhost:8080/"
        },
        "id": "6BPKWa7_XUU2",
        "outputId": "6dfcc0b4-f967-4f7f-ccab-3e5dd2db9691"
      },
      "execution_count": 23,
      "outputs": [
        {
          "output_type": "execute_result",
          "data": {
            "text/plain": [
              "True"
            ]
          },
          "metadata": {},
          "execution_count": 23
        }
      ]
    },
    {
      "cell_type": "markdown",
      "source": [
        "## D\n",
        "\n",
        "Acrescente os elementos 18, 23, 25, 63 no conjunto D"
      ],
      "metadata": {
        "id": "AmLew8AUXXSr"
      }
    },
    {
      "cell_type": "code",
      "source": [
        "print(D)\n",
        "D.update([18, 23, 25, 63])\n",
        "print(D)"
      ],
      "metadata": {
        "colab": {
          "base_uri": "https://localhost:8080/"
        },
        "id": "unFiojImXWHv",
        "outputId": "f9c2dc3c-5824-4f7b-9128-b6f2aca4b1f1"
      },
      "execution_count": 24,
      "outputs": [
        {
          "output_type": "stream",
          "name": "stdout",
          "text": [
            "{1, 5, 11, 16, 17, 22, 26, 30}\n",
            "{1, 5, 11, 16, 17, 18, 22, 23, 25, 26, 30, 63}\n"
          ]
        }
      ]
    }
  ]
}