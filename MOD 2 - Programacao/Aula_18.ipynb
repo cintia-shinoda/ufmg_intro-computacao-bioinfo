{
  "nbformat": 4,
  "nbformat_minor": 0,
  "metadata": {
    "colab": {
      "provenance": []
    },
    "kernelspec": {
      "name": "python3",
      "display_name": "Python 3"
    },
    "language_info": {
      "name": "python"
    }
  },
  "cells": [
    {
      "cell_type": "markdown",
      "source": [
        "# Aula 18 - Dicionários\n",
        "\n",
        "- conjunto não ordenado\n",
        "- composta de pares chave-valor\n",
        "\n",
        "- função de transformação\n",
        "- tratamento de colisões\n",
        "\n",
        "- podem ficar espalhados em posições longínquas de memória conforme a alocação pelo interpretador e sistema operacional\n",
        "\n",
        "- as chaves são quaisquer cadeias de caracteres que devem obrigatoriamente ser transformadas em endereços de memória para serem usadas como chave"
      ],
      "metadata": {
        "id": "O2sFWPI2cmsF"
      }
    },
    {
      "cell_type": "markdown",
      "source": [
        "## Criando e Inicializando dicionários"
      ],
      "metadata": {
        "id": "p3fvNn3xa-B-"
      }
    },
    {
      "cell_type": "code",
      "execution_count": null,
      "metadata": {
        "id": "50h9_2bKckFB",
        "colab": {
          "base_uri": "https://localhost:8080/"
        },
        "outputId": "acc3d9e8-bd1a-4127-8918-dd0c44e354d5"
      },
      "outputs": [
        {
          "output_type": "execute_result",
          "data": {
            "text/plain": [
              "dict"
            ]
          },
          "metadata": {},
          "execution_count": 4
        }
      ],
      "source": [
        "d = {}\n",
        "type(d)"
      ]
    },
    {
      "cell_type": "code",
      "source": [
        "c = {1}\n",
        "type(c)"
      ],
      "metadata": {
        "colab": {
          "base_uri": "https://localhost:8080/"
        },
        "id": "d9_InZK6qxFs",
        "outputId": "a7dcb6af-1755-46be-e0a8-add63d228d44"
      },
      "execution_count": null,
      "outputs": [
        {
          "output_type": "execute_result",
          "data": {
            "text/plain": [
              "set"
            ]
          },
          "metadata": {},
          "execution_count": 5
        }
      ]
    },
    {
      "cell_type": "code",
      "source": [
        "aa = {'ALA':'A', 'CYS':'C', 'ASP':'D', 'GLU':'E'}\n",
        "print(aa)"
      ],
      "metadata": {
        "colab": {
          "base_uri": "https://localhost:8080/"
        },
        "id": "p_toyRtDqx9n",
        "outputId": "052ca5de-d0f7-480a-87f0-d9ee7d10e052"
      },
      "execution_count": null,
      "outputs": [
        {
          "output_type": "stream",
          "name": "stdout",
          "text": [
            "{'ALA': 'A', 'CYS': 'C', 'ASP': 'D', 'GLU': 'E'}\n"
          ]
        }
      ]
    },
    {
      "cell_type": "markdown",
      "source": [
        "## Adicionando itens"
      ],
      "metadata": {
        "id": "rLhV7z2trtu9"
      }
    },
    {
      "cell_type": "code",
      "source": [
        "aa['PHE'] = 'F'\n",
        "print(aa)\n",
        "\n",
        "# uma nova chave será criada no dicionário (caso ainda não exista)\n",
        "# caso já exista, o valor será atualizado"
      ],
      "metadata": {
        "colab": {
          "base_uri": "https://localhost:8080/"
        },
        "id": "VMOskPUSrqMi",
        "outputId": "685eee7a-aff5-47b7-fae6-2d0d4be8c656"
      },
      "execution_count": null,
      "outputs": [
        {
          "output_type": "stream",
          "name": "stdout",
          "text": [
            "{'ALA': 'A', 'CYS': 'C', 'ASP': 'D', 'GLU': 'E', 'PHE': 'F'}\n"
          ]
        }
      ]
    },
    {
      "cell_type": "code",
      "source": [
        "# mudar o valor\n",
        "aa['PHE'] = 'P'\n",
        "print(aa)"
      ],
      "metadata": {
        "colab": {
          "base_uri": "https://localhost:8080/"
        },
        "id": "gKuVCBNhs6-g",
        "outputId": "1c1859a0-8f29-4435-afce-04b5851c831b"
      },
      "execution_count": null,
      "outputs": [
        {
          "output_type": "stream",
          "name": "stdout",
          "text": [
            "{'ALA': 'A', 'CYS': 'C', 'ASP': 'D', 'GLU': 'E', 'PHE': 'P'}\n"
          ]
        }
      ]
    },
    {
      "cell_type": "code",
      "source": [
        "aa['PHE'] = 'F'"
      ],
      "metadata": {
        "id": "X_6cqWTptPUB"
      },
      "execution_count": null,
      "outputs": []
    },
    {
      "cell_type": "markdown",
      "source": [
        "## Acessando itens\n",
        "\n",
        "- obs: o acesso a itens inexistentes retornará um erro"
      ],
      "metadata": {
        "id": "EqjtgaixthlH"
      }
    },
    {
      "cell_type": "code",
      "source": [
        "print(aa['ALA'])"
      ],
      "metadata": {
        "colab": {
          "base_uri": "https://localhost:8080/"
        },
        "id": "WrNGNiAGtYsy",
        "outputId": "edd1961e-05c3-483a-829e-6286b4008ba6"
      },
      "execution_count": null,
      "outputs": [
        {
          "output_type": "stream",
          "name": "stdout",
          "text": [
            "A\n"
          ]
        }
      ]
    },
    {
      "cell_type": "markdown",
      "source": [
        "## Verificação da existência de itens\n",
        "\n",
        "- operador ```in```"
      ],
      "metadata": {
        "id": "Jc5DZhD5uEMi"
      }
    },
    {
      "cell_type": "code",
      "source": [
        "'CYS' in aa"
      ],
      "metadata": {
        "colab": {
          "base_uri": "https://localhost:8080/"
        },
        "id": "D7xvpVVyuChK",
        "outputId": "6919e5a6-6997-4a86-cc04-5ae770624dac"
      },
      "execution_count": null,
      "outputs": [
        {
          "output_type": "execute_result",
          "data": {
            "text/plain": [
              "True"
            ]
          },
          "metadata": {},
          "execution_count": 11
        }
      ]
    },
    {
      "cell_type": "code",
      "source": [
        "## versão complementar de in = not in\n",
        "'CYS' not in aa"
      ],
      "metadata": {
        "colab": {
          "base_uri": "https://localhost:8080/"
        },
        "id": "ACQa06sauR7m",
        "outputId": "0a6f7a52-4d39-44f1-df47-d43cb0f9912e"
      },
      "execution_count": null,
      "outputs": [
        {
          "output_type": "execute_result",
          "data": {
            "text/plain": [
              "False"
            ]
          },
          "metadata": {},
          "execution_count": 13
        }
      ]
    },
    {
      "cell_type": "markdown",
      "source": [
        "## Tamanho do dicionário\n",
        "- função ```len()```"
      ],
      "metadata": {
        "id": "xJXiZZ_yutAu"
      }
    },
    {
      "cell_type": "code",
      "source": [
        "print(len(aa))"
      ],
      "metadata": {
        "colab": {
          "base_uri": "https://localhost:8080/"
        },
        "id": "8TpXElfxuZU9",
        "outputId": "5de7c18e-2462-4530-bf32-f0f882419df6"
      },
      "execution_count": null,
      "outputs": [
        {
          "output_type": "stream",
          "name": "stdout",
          "text": [
            "5\n"
          ]
        }
      ]
    },
    {
      "cell_type": "markdown",
      "source": [
        "## Mesclando dois Dicionários\n",
        "\n",
        "- método ```.update()```\n",
        "- sobrescreve valores de chaves que já existem\n",
        "- remove redundâncias"
      ],
      "metadata": {
        "id": "Jo1PyV0wJqfa"
      }
    },
    {
      "cell_type": "code",
      "source": [
        "d1 = {'c1':1, 'c2':2, 'c3':3}"
      ],
      "metadata": {
        "id": "6cE2Vx6KJmWn"
      },
      "execution_count": null,
      "outputs": []
    },
    {
      "cell_type": "code",
      "source": [
        "d2 = {'c0':0, 'c1':100, 'c4':4}"
      ],
      "metadata": {
        "id": "CFAim1n_KYaM"
      },
      "execution_count": null,
      "outputs": []
    },
    {
      "cell_type": "code",
      "source": [
        "d1.update(d2)\n",
        "print(d1)\n",
        "print(d2)"
      ],
      "metadata": {
        "colab": {
          "base_uri": "https://localhost:8080/"
        },
        "id": "2Orr1rvEKtaK",
        "outputId": "6ad6759d-544c-467c-c7ea-e7177c136aa5"
      },
      "execution_count": null,
      "outputs": [
        {
          "output_type": "stream",
          "name": "stdout",
          "text": [
            "{'c1': 100, 'c2': 2, 'c3': 3, 'c0': 0, 'c4': 4}\n",
            "{'c0': 0, 'c1': 100, 'c4': 4}\n"
          ]
        }
      ]
    },
    {
      "cell_type": "markdown",
      "source": [
        "## Valores Mínimos e Máximos\n",
        "\n",
        "- ```min()```\n",
        "- ```max()```\n",
        "\n",
        "- maior e menor chave"
      ],
      "metadata": {
        "id": "V-N9VTw-LWGQ"
      }
    },
    {
      "cell_type": "code",
      "source": [
        "min(aa)"
      ],
      "metadata": {
        "colab": {
          "base_uri": "https://localhost:8080/",
          "height": 35
        },
        "id": "wO-1srVTK2g5",
        "outputId": "0a0bd827-efeb-4750-abb4-239b7fd04776"
      },
      "execution_count": null,
      "outputs": [
        {
          "output_type": "execute_result",
          "data": {
            "text/plain": [
              "'ALA'"
            ],
            "application/vnd.google.colaboratory.intrinsic+json": {
              "type": "string"
            }
          },
          "metadata": {},
          "execution_count": 21
        }
      ]
    },
    {
      "cell_type": "code",
      "source": [
        "max(aa)"
      ],
      "metadata": {
        "colab": {
          "base_uri": "https://localhost:8080/",
          "height": 35
        },
        "id": "pbABbSCwLdV5",
        "outputId": "b2e93613-a533-4be5-acf7-49456c37d0dd"
      },
      "execution_count": null,
      "outputs": [
        {
          "output_type": "execute_result",
          "data": {
            "text/plain": [
              "'PHE'"
            ],
            "application/vnd.google.colaboratory.intrinsic+json": {
              "type": "string"
            }
          },
          "metadata": {},
          "execution_count": 22
        }
      ]
    },
    {
      "cell_type": "markdown",
      "source": [
        "## Retornando e Removendo valores\n",
        "- método ```.pop()```"
      ],
      "metadata": {
        "id": "9rwhes_jLrkm"
      }
    },
    {
      "cell_type": "code",
      "source": [
        "print(aa)"
      ],
      "metadata": {
        "colab": {
          "base_uri": "https://localhost:8080/"
        },
        "id": "ZhkxXINnLfFK",
        "outputId": "905d4e2d-055a-4949-db07-52016a6f9f9f"
      },
      "execution_count": null,
      "outputs": [
        {
          "output_type": "stream",
          "name": "stdout",
          "text": [
            "{'ALA': 'A', 'CYS': 'C', 'ASP': 'D', 'GLU': 'E', 'PHE': 'F'}\n"
          ]
        }
      ]
    },
    {
      "cell_type": "code",
      "source": [
        "x = aa.pop('ALA')\n",
        "print(x)\n",
        "print(aa)"
      ],
      "metadata": {
        "id": "IfR9fihNL_1h"
      },
      "execution_count": null,
      "outputs": []
    },
    {
      "cell_type": "markdown",
      "source": [
        "### Retornando e Removendo valores aleatórios"
      ],
      "metadata": {
        "id": "AMdreWDpMuGb"
      }
    },
    {
      "cell_type": "code",
      "source": [
        "aa.popitem()\n",
        "print(aa)"
      ],
      "metadata": {
        "colab": {
          "base_uri": "https://localhost:8080/"
        },
        "id": "S0yFCsTOMDr8",
        "outputId": "feed4781-649e-4a52-89f2-b113d0a3b16c"
      },
      "execution_count": null,
      "outputs": [
        {
          "output_type": "stream",
          "name": "stdout",
          "text": [
            "{'CYS': 'C', 'ASP': 'D', 'GLU': 'E'}\n"
          ]
        }
      ]
    },
    {
      "cell_type": "markdown",
      "source": [
        "### Removendo itens pelo Valor\n",
        "\n",
        "- não há um método para remover pelo valor"
      ],
      "metadata": {
        "id": "4JycH6kYM0zr"
      }
    },
    {
      "cell_type": "markdown",
      "source": [
        "## Copiando dicionários\n",
        "\n",
        "- ter cuidado com a cópia de dicionários em Python\n",
        "- o comando ```dic2 = dic1```\n",
        "    - copia a referência do dic1 para dic2 (o nome dic2 apontará para o mesmo endereço de memória para o qual aponta dic1)\n",
        "    - quaisquer alterações feitas na estrutura/valor de dic1 se refletira em dic2 (são o mesmo objeto)"
      ],
      "metadata": {
        "id": "43TNvYoMNLsH"
      }
    },
    {
      "cell_type": "code",
      "source": [
        "d1 = {'c1':1, 'c2':2}\n",
        "d2 = {}\n",
        "d2 = d1"
      ],
      "metadata": {
        "id": "ysfVMtSlMeel"
      },
      "execution_count": null,
      "outputs": []
    },
    {
      "cell_type": "code",
      "source": [
        "print(d1)\n",
        "print(d2)"
      ],
      "metadata": {
        "colab": {
          "base_uri": "https://localhost:8080/"
        },
        "id": "hLLlFF-COcgW",
        "outputId": "b0b2820b-76df-403e-f986-0ac28b7d1c7a"
      },
      "execution_count": null,
      "outputs": [
        {
          "output_type": "stream",
          "name": "stdout",
          "text": [
            "{'c1': 1, 'c2': 2}\n",
            "{'c1': 1, 'c2': 2}\n"
          ]
        }
      ]
    },
    {
      "cell_type": "code",
      "source": [
        "d1['c1'] = 1000\n",
        "print(d1)\n",
        "print(d2)"
      ],
      "metadata": {
        "colab": {
          "base_uri": "https://localhost:8080/"
        },
        "id": "FBDE_8IYOe0L",
        "outputId": "73bf3c0e-d8a6-4184-babf-b1d220d8bc29"
      },
      "execution_count": null,
      "outputs": [
        {
          "output_type": "stream",
          "name": "stdout",
          "text": [
            "{'c1': 1000, 'c2': 2}\n",
            "{'c1': 1000, 'c2': 2}\n"
          ]
        }
      ]
    },
    {
      "cell_type": "code",
      "source": [
        "print(id(d1))\n",
        "print(id(d2))"
      ],
      "metadata": {
        "colab": {
          "base_uri": "https://localhost:8080/"
        },
        "id": "s_J14yJWOmIK",
        "outputId": "83fe0b5c-eb24-4b8d-f41e-4c5f33e893d4"
      },
      "execution_count": null,
      "outputs": [
        {
          "output_type": "stream",
          "name": "stdout",
          "text": [
            "140302269634304\n",
            "140302269634304\n"
          ]
        }
      ]
    },
    {
      "cell_type": "code",
      "source": [
        "# para fazer uma cópia (criando outro objeto)\n",
        "d2 = d1.copy"
      ],
      "metadata": {
        "id": "zsU6TX_hOsBM"
      },
      "execution_count": null,
      "outputs": []
    },
    {
      "cell_type": "code",
      "source": [
        "print(id(d1))\n",
        "print(id(d2))"
      ],
      "metadata": {
        "colab": {
          "base_uri": "https://localhost:8080/"
        },
        "id": "4WiobpNuPGAs",
        "outputId": "45c54cf4-85dd-4e30-ec05-cf8fac6a10ff"
      },
      "execution_count": null,
      "outputs": [
        {
          "output_type": "stream",
          "name": "stdout",
          "text": [
            "140302269634304\n",
            "140302268735872\n"
          ]
        }
      ]
    },
    {
      "cell_type": "code",
      "source": [
        "print(d1)\n",
        "d1['c1'] = 1"
      ],
      "metadata": {
        "colab": {
          "base_uri": "https://localhost:8080/"
        },
        "id": "0RCuTI9iPN0m",
        "outputId": "a52c6c74-37e6-490d-d39d-249c5472af9c"
      },
      "execution_count": null,
      "outputs": [
        {
          "output_type": "stream",
          "name": "stdout",
          "text": [
            "{'c1': 1000, 'c2': 2}\n"
          ]
        }
      ]
    },
    {
      "cell_type": "code",
      "source": [
        "print(d1)"
      ],
      "metadata": {
        "colab": {
          "base_uri": "https://localhost:8080/"
        },
        "id": "VI6tMTFYPb4s",
        "outputId": "b6b376d0-60dc-4dd4-9064-66c6629d483f"
      },
      "execution_count": null,
      "outputs": [
        {
          "output_type": "stream",
          "name": "stdout",
          "text": [
            "{'c1': 1, 'c2': 2}\n"
          ]
        }
      ]
    },
    {
      "cell_type": "markdown",
      "source": [
        "## Convertendo Dicionários em Lista\n",
        "\n",
        "- o tipo dos objetos retornados não são listas propriamente ditas"
      ],
      "metadata": {
        "id": "Dztplf-wPyft"
      }
    },
    {
      "cell_type": "markdown",
      "source": [
        "### Lista de Chaves\n",
        "- ```.keys()```\n",
        "- retorna ```dict_keys```"
      ],
      "metadata": {
        "id": "oYXreY8-P6B4"
      }
    },
    {
      "cell_type": "code",
      "source": [
        "aa.keys()"
      ],
      "metadata": {
        "colab": {
          "base_uri": "https://localhost:8080/"
        },
        "id": "ddixEwYWPwgx",
        "outputId": "77f7043b-0c54-44c4-81a9-14b30ec4c7ee"
      },
      "execution_count": null,
      "outputs": [
        {
          "output_type": "execute_result",
          "data": {
            "text/plain": [
              "dict_keys(['CYS', 'ASP', 'GLU'])"
            ]
          },
          "metadata": {},
          "execution_count": 39
        }
      ]
    },
    {
      "cell_type": "markdown",
      "source": [
        "### Lista de Valores\n",
        "\n",
        "- ```.values()```\n",
        "- retorna ```dict_values```"
      ],
      "metadata": {
        "id": "IyNVGPWoQAdj"
      }
    },
    {
      "cell_type": "code",
      "source": [
        "y = aa.values()\n",
        "print(y)"
      ],
      "metadata": {
        "colab": {
          "base_uri": "https://localhost:8080/"
        },
        "id": "HApezGUwQF6t",
        "outputId": "0bd928b1-2064-4167-f95b-5f35d82b5f18"
      },
      "execution_count": null,
      "outputs": [
        {
          "output_type": "stream",
          "name": "stdout",
          "text": [
            "dict_values(['C', 'D', 'E'])\n"
          ]
        }
      ]
    },
    {
      "cell_type": "markdown",
      "source": [
        "### Lista de Tuplas (pares chave-valor)\n",
        "- ```.items()```\n",
        "- retorna ```dict_items```"
      ],
      "metadata": {
        "id": "RIR-9uNCQGhM"
      }
    },
    {
      "cell_type": "code",
      "source": [
        "aa.items()"
      ],
      "metadata": {
        "colab": {
          "base_uri": "https://localhost:8080/"
        },
        "id": "Qr8MvgyvQLa3",
        "outputId": "8ae4235d-1cbc-408a-bb82-9229aceaa6e1"
      },
      "execution_count": null,
      "outputs": [
        {
          "output_type": "execute_result",
          "data": {
            "text/plain": [
              "dict_items([('CYS', 'C'), ('ASP', 'D'), ('GLU', 'E')])"
            ]
          },
          "metadata": {},
          "execution_count": 41
        }
      ]
    },
    {
      "cell_type": "markdown",
      "source": [
        "### Coerção de tipo (cast)  - dict -> list"
      ],
      "metadata": {
        "id": "7jrU8dFHRG1_"
      }
    },
    {
      "cell_type": "code",
      "source": [
        "y = list(y)\n",
        "print(type(y))\n",
        "print(y)"
      ],
      "metadata": {
        "colab": {
          "base_uri": "https://localhost:8080/"
        },
        "id": "c_P8sl-fRBBl",
        "outputId": "8a621298-b3bd-46fe-cfc7-8e2ff97678ec"
      },
      "execution_count": null,
      "outputs": [
        {
          "output_type": "stream",
          "name": "stdout",
          "text": [
            "<class 'list'>\n",
            "['C', 'D', 'E']\n"
          ]
        }
      ]
    },
    {
      "cell_type": "markdown",
      "source": [
        "## Convertendo Listas em Dicionário\n",
        "\n",
        "- se tivermos em uma lista um conjunto de chaves e em outra lista o conjunto de valores\n",
        "- método ```.zip()```\n",
        "- retorna uma lista contendo tuplas"
      ],
      "metadata": {
        "id": "gc0lygK6RyGc"
      }
    },
    {
      "cell_type": "code",
      "source": [
        "# listas\n",
        "aachaves = ['ALA', 'CYS', 'ASP']\n",
        "aavalores = ['A', 'C', 'G']\n",
        "\n",
        "list(zip(aachaves, aavalores))"
      ],
      "metadata": {
        "colab": {
          "base_uri": "https://localhost:8080/"
        },
        "id": "ZmS2pFDhRkeK",
        "outputId": "0c2c9637-d2e9-43af-bf06-1aa48c9a8c5c"
      },
      "execution_count": null,
      "outputs": [
        {
          "output_type": "execute_result",
          "data": {
            "text/plain": [
              "[('ALA', 'A'), ('CYS', 'C'), ('ASP', 'G')]"
            ]
          },
          "metadata": {},
          "execution_count": 48
        }
      ]
    },
    {
      "cell_type": "code",
      "source": [
        "dict(zip(aachaves, aavalores))"
      ],
      "metadata": {
        "colab": {
          "base_uri": "https://localhost:8080/"
        },
        "id": "sc7zOjTRS26W",
        "outputId": "ff978c82-6fe0-4faf-973d-23ea5a3d6537"
      },
      "execution_count": null,
      "outputs": [
        {
          "output_type": "execute_result",
          "data": {
            "text/plain": [
              "{'ALA': 'A', 'CYS': 'C', 'ASP': 'G'}"
            ]
          },
          "metadata": {},
          "execution_count": 49
        }
      ]
    },
    {
      "cell_type": "markdown",
      "source": [
        "## Ordenando itens\n",
        "\n",
        "- não faz sentido ordenar um dicionário\n",
        "- pode-se imprimir a lista de chaves e/ou valores em ordem alfabéticca ou de tamanho de chaves ou valores"
      ],
      "metadata": {
        "id": "U9_ELY4wTIEM"
      }
    },
    {
      "cell_type": "code",
      "source": [
        "# pelas chaves\n",
        "lista = list(aa.keys())\n",
        "lista.sort()\n",
        "print(lista)"
      ],
      "metadata": {
        "colab": {
          "base_uri": "https://localhost:8080/"
        },
        "id": "5sf7zSmnS7lD",
        "outputId": "fe26f503-e8a4-4667-aa1e-250335664827"
      },
      "execution_count": null,
      "outputs": [
        {
          "output_type": "stream",
          "name": "stdout",
          "text": [
            "['ASP', 'CYS', 'GLU']\n"
          ]
        }
      ]
    },
    {
      "cell_type": "code",
      "source": [],
      "metadata": {
        "id": "Xjwo6ajpTwts"
      },
      "execution_count": null,
      "outputs": []
    }
  ]
}