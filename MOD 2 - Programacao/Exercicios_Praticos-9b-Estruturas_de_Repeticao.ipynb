{
  "nbformat": 4,
  "nbformat_minor": 0,
  "metadata": {
    "colab": {
      "provenance": []
    },
    "kernelspec": {
      "name": "python3",
      "display_name": "Python 3"
    },
    "language_info": {
      "name": "python"
    }
  },
  "cells": [
    {
      "cell_type": "markdown",
      "source": [
        "# Exercicio 1\n",
        "\n",
        "Escreva um programa que calcule e escreva a tabela de graus Centígrados em função dos graus Farenheit\n",
        "que variem entre 1 e 150 de 1 em 1 conforme a fórmula a seguir\n",
        "\n",
        "$$C = \\frac{5}{9}(F - 32)$$"
      ],
      "metadata": {
        "id": "6lBudRgys-VX"
      }
    },
    {
      "cell_type": "code",
      "execution_count": null,
      "metadata": {
        "id": "saHg3Zdys3g4"
      },
      "outputs": [],
      "source": [
        "for f in range(1, 151):\n",
        "    c =  5/9*(f-32)\n",
        "    print('F: ', f, 'C: ', c )"
      ]
    },
    {
      "cell_type": "markdown",
      "source": [
        "# Exercicio 2\n",
        "\n",
        "Utilizando as estruturas de repetição, verifique se as seguintes sequências são uma sequência de DNA {A,\n",
        "G, T, C}, RNA {U, C, A, G}, PROTEÍNA {A, C, D, E, F, G, H, I, K, L, M, N, P, Q, R, S, T, V, W, Y} ou nenhuma\n",
        "delas (nesse caso, imprima as letras que não fazem parte do alfabeto):\n",
        "ATCDLASKWNWNHTLCAAHCIARRYRGGYCNSKAVCVCRN\n",
        "TATTAACCGGGTTTAAACTAGCATGCATGATTAACCAGTACATCTTTT\n",
        "ATCBDLASKWXWNHTLCAAHCIARRYRGGYCNSJAVCVCRN"
      ],
      "metadata": {
        "id": "OKfaHYR-tEMp"
      }
    },
    {
      "cell_type": "code",
      "source": [
        "seqs = ['ATCDLASKWNWNHTLCAAHCIARRYRGGYCNSKAVCVCRN',\n",
        "'TATTAACCGGGTTTAAACTAGCATGCATGATTAACCAGTACATCTTTT',\n",
        "'ATCBDLASKWXWNHTLCAAHCIARRYRGGYCNSJAVCVCRN']\n",
        "\n",
        "dna = {'A', 'G', 'T', 'C'}\n",
        "rna = {'U', 'C', 'A', 'G'}\n",
        "proteina = {'A', 'C', 'D', 'E', 'F', 'G', 'H', 'I', 'K', 'L', 'M', 'N', 'P','Q', 'R', 'S', 'T', 'V', 'W', 'Y'}\n",
        "\n",
        "for s in seqs:\n",
        "    erro = []\n",
        "    for l in s:\n",
        "        ehDNA = True\n",
        "        if (not l in dna):\n",
        "            ehDNA = False\n",
        "            erro.append(l)\n",
        "        ehRNA = True\n",
        "        if (not l in rna):\n",
        "            ehRNA = False\n",
        "            erro.append(l)\n",
        "        ehProteina = True\n",
        "        if (not l in proteina):\n",
        "            ehProteina = False\n",
        "            erro.append(l)\n",
        "    if (ehDNA):\n",
        "        print(s, 'é uma sequência de DNA.')  \n",
        "    elif (ehRNA):\n",
        "        print(s, 'é uma sequência de RNA.')  \n",
        "    elif (ehProteina):\n",
        "        print(s, 'é uma sequência de PROTEÍNA.')  \n",
        "    else:\n",
        "        erro_uniq = set(erro)\n",
        "        print(s, 'não é uma sequência de DNA, RNA ou PROTEÍNA. Letras incorretas:', erro_uniq)  "
      ],
      "metadata": {
        "id": "mheOIgRgtGOd",
        "colab": {
          "base_uri": "https://localhost:8080/"
        },
        "outputId": "3d1a053a-2e91-4592-f47d-fdc294d17b4c"
      },
      "execution_count": 2,
      "outputs": [
        {
          "output_type": "stream",
          "name": "stdout",
          "text": [
            "ATCDLASKWNWNHTLCAAHCIARRYRGGYCNSKAVCVCRN é uma sequência de PROTEÍNA.\n",
            "TATTAACCGGGTTTAAACTAGCATGCATGATTAACCAGTACATCTTTT é uma sequência de DNA.\n",
            "ATCBDLASKWXWNHTLCAAHCIARRYRGGYCNSJAVCVCRN é uma sequência de PROTEÍNA.\n"
          ]
        }
      ]
    },
    {
      "cell_type": "markdown",
      "source": [
        "# Exercicio 3\n",
        "\n",
        "Utilizando as estruturas de repetição, gere e imprima a sequência complemento reverso da seguinte\n",
        "sequência de DNA:\n",
        "TATTAACCGGGTTTAAACTAGCATGCATGATTAACCAGTACATCTTTT"
      ],
      "metadata": {
        "id": "azIQL4nWtGmG"
      }
    },
    {
      "cell_type": "code",
      "source": [
        "dna = 'TATTAACCGGGTTTAAACTAGCATGCATGATTAACCAGTACATCTTTT'\n",
        "tmp = list(dna)\n",
        "tmp.reverse()\n",
        "for i in range(0, len(tmp)):\n",
        "    if tmp[i] == 'A':\n",
        "        tmp[i] = 'T'\n",
        "    elif tmp[i] == 'T':\n",
        "        tmp[i] = 'A'\n",
        "    elif tmp[i] == 'C':\n",
        "        tmp[i] = 'G'\n",
        "    elif tmp[i] == 'G':\n",
        "        tmp[i] = 'C'\n",
        "comprev = ''.join(tmp)\n",
        "print(comprev, 'é o complemento reverso de ', dna)"
      ],
      "metadata": {
        "id": "OA005sLqtHhv",
        "colab": {
          "base_uri": "https://localhost:8080/"
        },
        "outputId": "59f19aaa-fe82-42f6-bd97-ead12d8f5e5d"
      },
      "execution_count": 3,
      "outputs": [
        {
          "output_type": "stream",
          "name": "stdout",
          "text": [
            "AAAAGATGTACTGGTTAATCATGCATGCTAGTTTAAACCCGGTTAATA é o complemento reverso de  TATTAACCGGGTTTAAACTAGCATGCATGATTAACCAGTACATCTTTT\n"
          ]
        }
      ]
    },
    {
      "cell_type": "markdown",
      "source": [
        "# Exercicio 4\n",
        "\n",
        "Escreva um programa que calcule o fatorial de um número recebido como entrada. Lembre-se que o\n",
        "fatorial de um número é igual ao número multiplicado n sucessivamente por n-1, n-2, .. 1. Exemplo: fat(6) = 6\n",
        "x 5 x 4 x 3 x 2 x 1 = 720. "
      ],
      "metadata": {
        "id": "iqINwOCltIz2"
      }
    },
    {
      "cell_type": "code",
      "source": [
        "n = 5\n",
        "fat = n\n",
        "for i in range(1, n): # [1,n)\n",
        "  fat = fat * i\n",
        "print(fat)"
      ],
      "metadata": {
        "id": "Sdm6PdQBtJkn",
        "colab": {
          "base_uri": "https://localhost:8080/"
        },
        "outputId": "3596350c-7b3f-49cf-ff4a-fbf706c1e74e"
      },
      "execution_count": 5,
      "outputs": [
        {
          "output_type": "stream",
          "name": "stdout",
          "text": [
            "120\n"
          ]
        }
      ]
    },
    {
      "cell_type": "markdown",
      "source": [
        "# Exercicio 5\n",
        "\n",
        "Escreva um programa que liste a tabuada (produtos) dos números de 1 a 15."
      ],
      "metadata": {
        "id": "UviqTBN3tKIV"
      }
    },
    {
      "cell_type": "code",
      "source": [
        "for n in range(1, 16):\n",
        "  for i in range(0,11):\n",
        "    print(n, \"x\", i, \"=\", n*i)"
      ],
      "metadata": {
        "id": "hW1tH2VKtLHg"
      },
      "execution_count": null,
      "outputs": []
    },
    {
      "cell_type": "markdown",
      "source": [
        "# Exercicio 6\n",
        "\n",
        "Considerando a seguinte sequência e tabela de massas (Tabela 1), escreva um programa em Python que\n",
        "calcule a massa molar da sequência:\n",
        "VRSSSRTPSDKPVAHVVANPQAEGQLQWLNRRANALLANGVELRDNQLVVPSEGLYLIYSQVLFKGQGCPSTHVLLTHT\n",
        "ISRIAVSYQTKVNLLSAIKSPCQRETPEGAEAKPWYEPIYLGGVFQLEKGDRLSAEINRPDYLLFAESGQVYFGIIAL"
      ],
      "metadata": {
        "id": "cIeuFr7LtLli"
      }
    },
    {
      "cell_type": "code",
      "source": [
        "seq = 'VRSSSRTPSDKPVAHVVANPQAEGQLQWLNRRANALLANGVELRDNQLVVPSEGLYLIYSQVLFKGQGCPSTHVLLTHTISRIAVSYQTKVNLLSAIKSPCQRETPEGAEAKPWYEPIYLGGVFQLEKGDRLSAEINRPDYLLFAESGQVYFGIIAL'\n",
        "massa = {'A': 71.03711, 'C': 103.00919, 'D': 115.02694, 'E': 129.04259, 'F': 147.06841, 'G': 57.02146, 'H': 137.05891, 'I': 113.08406, 'K': 128.09496, 'L': 113.08406, 'M': 131.04049, 'N': 114.04293, 'P': 97.05276, 'Q': 128.05858, 'R': 156.10111, 'S': 87.03203, 'T': 101.04768, 'V': 99.06841, 'W': 186.07931, 'Y': 163.06333}\n",
        "m = 0\n",
        "for aa in seq:\n",
        "    m += massa[aa]\n",
        "    #print(aa, massa[aa], m)\n",
        "print('A massa molar da sequência é ', m)"
      ],
      "metadata": {
        "id": "8d8Nqnj1tMUf",
        "colab": {
          "base_uri": "https://localhost:8080/"
        },
        "outputId": "de4deaf6-32f9-458a-a7ae-12451a3fc110"
      },
      "execution_count": 7,
      "outputs": [
        {
          "output_type": "stream",
          "name": "stdout",
          "text": [
            "A massa molar da sequência é  17322.07790999999\n"
          ]
        }
      ]
    },
    {
      "cell_type": "markdown",
      "source": [
        "# Exercicio 7\n",
        "\n",
        "Considerando a Tabela 2 que contem dados de defensinas de plantas, obtenha / calcule e imprima: \n",
        "\n",
        "- A) a menor sequência e seu comprimento\n",
        "- B) a maior sequência e seu comprimento\n",
        "- C) a média entre os comprimentos das sequências\n",
        "- D) a mediana entre os comprimentos das sequências "
      ],
      "metadata": {
        "id": "-93AGa3HtM_1"
      }
    },
    {
      "cell_type": "code",
      "source": [
        "defensinas = {'3PSM': 'KTCENLADTFRGPCFTDGSCDDHCKNKEHLIKGRCRDDFRCWCTRNC',\\\n",
        "              '2NY9': 'ATCDLASGFGVGSSLCAAHCLVKGYRGGYCKNKICHCRDKF',\\\n",
        "              '2NY8': 'ATCDLASGFGVGSSLCAAHCIARRYRGGYCNSKAVCVCRN',\\\n",
        "              '2NZ3': 'ATCDLASIFNVNHALCAAHCIARRYRGGYCNSKAVCVCRN',\\\n",
        "              '2E3G': 'ATCDLASKWNWNHTLCAAHCIARRYRGGYCNSKAVCVCRN',\\\n",
        "              '2E3F': 'ATCDLASFSSQWVTPNDSLCAAHCIARRYRGGYCNGKRVCVCR',\\\n",
        "              '2E3E': 'ATCDLASFSSQWVTPNDSLCAAHCLVKGYRGGYCKNKICHCRDKF'}\n",
        "#A, B, C, D)\n",
        "menorComp = 9999999\n",
        "maiorComp = -1\n",
        "soma = 0\n",
        "listaComp = []\n",
        "dicComp = {}\n",
        "for seq in defensinas.values():\n",
        "    if len(seq) > maiorComp:\n",
        "        maiorComp = len(seq)\n",
        "        maiorSeq = seq\n",
        "    if len(seq) < menorComp:\n",
        "        menorComp = len(seq)  \n",
        "        menorSeq = seq\n",
        "    soma += len(seq)\n",
        "    listaComp.append(len(seq))\n",
        "# Duplicação da base de dados\n",
        "    dicComp[len(seq)] = seq\n",
        "print('A menor sequência é', menorSeq, 'com tamanho', menorComp)\n",
        "print('A maior sequência é', maiorSeq, 'com tamanho', maiorComp)\n",
        "#C)\n",
        "media = soma/len(defensinas)\n",
        "print('As sequências tem um comprimento médio de', media)\n",
        "\n",
        "#D)\n",
        "print(listaComp)\n",
        "listaComp.sort()\n",
        "print(listaComp)\n",
        "mediana = listaComp[int(len(listaComp)/2)]\n",
        "print('As sequências tem um comprimento mediano de', mediana)\n",
        "\n",
        "print(dicComp[mediana])"
      ],
      "metadata": {
        "id": "4xQD-XPgtN7N",
        "colab": {
          "base_uri": "https://localhost:8080/"
        },
        "outputId": "04535a25-1cfa-41d9-8e06-a50676ec4770"
      },
      "execution_count": 8,
      "outputs": [
        {
          "output_type": "stream",
          "name": "stdout",
          "text": [
            "A menor sequência é ATCDLASGFGVGSSLCAAHCIARRYRGGYCNSKAVCVCRN com tamanho 40\n",
            "A maior sequência é KTCENLADTFRGPCFTDGSCDDHCKNKEHLIKGRCRDDFRCWCTRNC com tamanho 47\n",
            "As sequências tem um comprimento médio de 42.285714285714285\n",
            "[47, 41, 40, 40, 40, 43, 45]\n",
            "[40, 40, 40, 41, 43, 45, 47]\n",
            "As sequências tem um comprimento mediano de 41\n",
            "ATCDLASGFGVGSSLCAAHCLVKGYRGGYCKNKICHCRDKF\n"
          ]
        }
      ]
    },
    {
      "cell_type": "markdown",
      "source": [
        "# Exercicio 8\n",
        "\n",
        "Considerando as assinaturas moleculares (fingerprints) hipotéticas das tabelas abaixo, calcule a distância\n",
        "de Tanimoto conforme a equação a seguir: "
      ],
      "metadata": {
        "id": "ivdPGl6KtOZL"
      }
    },
    {
      "cell_type": "code",
      "source": [
        "tab1 = [0, 0, 1, 0, 0, 1, 1, 0, 1, 1, 0, 1]\n",
        "tab2 = [0, 1, 0, 0, 1, 1, 0, 1, 1, 0, 0, 0]\n",
        "\n",
        "AND = 0\n",
        "OR = 0\n",
        "for i in range(0, len(tab1)):\n",
        "  if tab1[i] == 1 and tab2[i] == 1:\n",
        "    AND += 1\n",
        "  if tab1[i] == 1 or tab2[i] == 1:\n",
        "    OR += 1\n",
        "\n",
        "D = AND/OR\n",
        "\n",
        "print('A distância de tanimoto entre', tab1, 'e', tab2, 'é', D)"
      ],
      "metadata": {
        "id": "ItLXFUsRtPAp",
        "colab": {
          "base_uri": "https://localhost:8080/"
        },
        "outputId": "c9579d18-148e-40d5-8ed2-14a66d806ec9"
      },
      "execution_count": 9,
      "outputs": [
        {
          "output_type": "stream",
          "name": "stdout",
          "text": [
            "A distância de tanimoto entre [0, 0, 1, 0, 0, 1, 1, 0, 1, 1, 0, 1] e [0, 1, 0, 0, 1, 1, 0, 1, 1, 0, 0, 0] é 0.2222222222222222\n"
          ]
        }
      ]
    },
    {
      "cell_type": "code",
      "source": [],
      "metadata": {
        "id": "bfy7SlMcmY6u"
      },
      "execution_count": null,
      "outputs": []
    }
  ]
}