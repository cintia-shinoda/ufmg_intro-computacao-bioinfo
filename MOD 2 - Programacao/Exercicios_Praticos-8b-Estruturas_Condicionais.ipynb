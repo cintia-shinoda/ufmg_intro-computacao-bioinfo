{
  "nbformat": 4,
  "nbformat_minor": 0,
  "metadata": {
    "colab": {
      "provenance": []
    },
    "kernelspec": {
      "name": "python3",
      "display_name": "Python 3"
    },
    "language_info": {
      "name": "python"
    }
  },
  "cells": [
    {
      "cell_type": "markdown",
      "source": [
        "Para os exercícios desta lista, considere a seguinte lista de sequências e faça programas em Python que\n",
        "execute as tarefas descritas abaixo:"
      ],
      "metadata": {
        "id": "gusmymyGdSfG"
      }
    },
    {
      "cell_type": "code",
      "execution_count": 1,
      "metadata": {
        "id": "3lKSIVv0T6S-"
      },
      "outputs": [],
      "source": [
        "seq_a ='LRSSSQNSSDKPVAHVVANHQVEEQLEWLSQRANALLANGMDLKDNQLVVPADGLYLVYSQVLFKGQGCPDYVLLTHTVSLRSSSDK'\n",
        "seq_b ='KPAAHLIGDPSKQNSLLWRANTDRAFLQDGFSLSNNSLLVPTSGIYFVYSQVVFSGKAYSPKATSSPLYLAHEVQLFSS'\n",
        "seq_c ='CPQGKYIHPQNNSICCTKCHKGTYLYNDCPGPGQDTDCRECESGSFTASENHLRHCLSCSKCRKEMGQVEISSCTVDRDTVCGCR'"
      ]
    },
    {
      "cell_type": "markdown",
      "source": [
        "# Exercicio 1\n",
        "\n",
        "Imprima apenas as sequências com 80 ou mais aminoácidos. "
      ],
      "metadata": {
        "id": "3OJFH3ymVkB5"
      }
    },
    {
      "cell_type": "code",
      "source": [
        "if len(seq_a) >= 80:\n",
        "    print('Sequência A: ', seq_a)\n",
        "if len(seq_b) >= 80:\n",
        "    print('Sequência B: ', seq_b)\n",
        "if len(seq_c) >= 80:\n",
        "    print('Sequência C: ', seq_c)"
      ],
      "metadata": {
        "colab": {
          "base_uri": "https://localhost:8080/",
          "height": 0
        },
        "id": "pNtdgQvlVhdP",
        "outputId": "fea54f7a-e1f4-4698-e8af-1b9b6b897fa8"
      },
      "execution_count": 3,
      "outputs": [
        {
          "output_type": "stream",
          "name": "stdout",
          "text": [
            "Sequência A:  LRSSSQNSSDKPVAHVVANHQVEEQLEWLSQRANALLANGMDLKDNQLVVPADGLYLVYSQVLFKGQGCPDYVLLTHTVSLRSSSDK\n",
            "Sequência C:  CPQGKYIHPQNNSICCTKCHKGTYLYNDCPGPGQDTDCRECESGSFTASENHLRHCLSCSKCRKEMGQVEISSCTVDRDTVCGCR\n"
          ]
        }
      ]
    },
    {
      "cell_type": "markdown",
      "source": [
        "# Exercicio 2\n",
        "\n",
        "Imprima apenas as sequências cujo tamanho seja maior que a média de tamanho das sequências. "
      ],
      "metadata": {
        "id": "8Oewg53JWQA5"
      }
    },
    {
      "cell_type": "code",
      "source": [
        "media_seq = (len(seq_a) + len(seq_b) + len(seq_c))/3\n",
        "print('Média: ', media_seq)\n",
        "\n",
        "if len(seq_a) > media_seq:\n",
        "    print('sequência A: ', seq_a, 'tamanho:', len(seq_a))\n",
        "if len(seq_b) > media_seq:\n",
        "    print('sequência B: ', seq_b, 'tamanho:', len(seq_b))\n",
        "if len(seq_c) > media_seq:\n",
        "    print('sequência C: ', seq_c, 'tamanho:', len(seq_c))"
      ],
      "metadata": {
        "colab": {
          "base_uri": "https://localhost:8080/",
          "height": 0
        },
        "id": "-qk9jKBeWKQu",
        "outputId": "c5cce56b-f7c4-4414-e5c3-9933ee86b58a"
      },
      "execution_count": 5,
      "outputs": [
        {
          "output_type": "stream",
          "name": "stdout",
          "text": [
            "Média:  83.66666666666667\n",
            "sequência A:  LRSSSQNSSDKPVAHVVANHQVEEQLEWLSQRANALLANGMDLKDNQLVVPADGLYLVYSQVLFKGQGCPDYVLLTHTVSLRSSSDK tamanho: 87\n",
            "sequência C:  CPQGKYIHPQNNSICCTKCHKGTYLYNDCPGPGQDTDCRECESGSFTASENHLRHCLSCSKCRKEMGQVEISSCTVDRDTVCGCR tamanho: 85\n"
          ]
        }
      ]
    },
    {
      "cell_type": "markdown",
      "source": [
        "# Exercicio 3\n",
        "\n",
        "Imprima apenas as sequências que possuam pelo menos uma histidina (H) e nenhuma prolina (P)."
      ],
      "metadata": {
        "id": "bC0CiUAvXaiQ"
      }
    },
    {
      "cell_type": "code",
      "source": [
        "if 'H' in seq_a and not 'P' in seq_a:\n",
        "    print('Sequência A:', seq_a)\n",
        "if 'H' in seq_b and not 'P' in seq_b:\n",
        "    print('Sequência B:', seq_b)\n",
        "if 'H' in seq_c and not 'P' in seq_c:\n",
        "    print('Sequência C:', seq_c)"
      ],
      "metadata": {
        "id": "M25BVDvoXHVu"
      },
      "execution_count": 6,
      "outputs": []
    },
    {
      "cell_type": "markdown",
      "source": [
        "# Exercicio 4\n",
        "\n",
        "Identifique e imprima a maior dentre as três sequências a seguir. "
      ],
      "metadata": {
        "id": "JEyDXQrcYGHI"
      }
    },
    {
      "cell_type": "code",
      "source": [
        "if len(seq_a) > len(seq_b) and len(seq_a) > len(seq_c):\n",
        "    print('Sequência A é a maior:', seq_a)\n",
        "if len(seq_b) > len(seq_a) and len(seq_b) > len(seq_c):\n",
        "    print('Sequência B é a maior:', seq_b)\n",
        "if len(seq_c) > len(seq_b) and len(seq_c) > len(seq_a):\n",
        "    print('Sequência C é a maior:', seq_c)"
      ],
      "metadata": {
        "colab": {
          "base_uri": "https://localhost:8080/",
          "height": 0
        },
        "id": "pEFvA8LRX5sK",
        "outputId": "a98621b4-c486-4447-abc0-6d1c6e2369fa"
      },
      "execution_count": 7,
      "outputs": [
        {
          "output_type": "stream",
          "name": "stdout",
          "text": [
            "Sequência A é a maior: LRSSSQNSSDKPVAHVVANHQVEEQLEWLSQRANALLANGMDLKDNQLVVPADGLYLVYSQVLFKGQGCPDYVLLTHTVSLRSSSDK\n"
          ]
        }
      ]
    },
    {
      "cell_type": "markdown",
      "source": [
        "# Eercicio 5\n",
        "\n",
        "Imprima as três sequências em ordem crescente de tamanho. "
      ],
      "metadata": {
        "id": "4BpPNF-eYzOQ"
      }
    },
    {
      "cell_type": "code",
      "source": [
        "if len(seq_a) < len(seq_b) and len(seq_a) < len(seq_c): # se A for o menor\n",
        "    print('A: ', seq_a)\n",
        "    if len(seq_b) < len(seq_c):\n",
        "        print('B: ', seq_b)\n",
        "        print('C: ', seq_c)\n",
        "    else:\n",
        "        print('C: ', seq_c)\n",
        "        print('B: ', seq_b)\n",
        "elif len(seq_b) < len(seq_a) and len(seq_b) < len(seq_c): # se B for o menor\n",
        "    print('B: ', seq_b)\n",
        "    if len(seq_a) < len(seq_c):\n",
        "        print('A: ', seq_a)\n",
        "        print('C: ', seq_c)\n",
        "    else:\n",
        "        print('C: ', seq_c)\n",
        "        print('A: ', seq_a)\n",
        "else:     # C será o menor\n",
        "    print('C: ', seq_c)\n",
        "    if len(seq_a) < len(seq_b):\n",
        "        print('A: ', seq_a)\n",
        "        print('B: ', seq_b)\n",
        "    else:\n",
        "        print('B: ', seq_b)\n",
        "        print('A: ', seq_a)\n",
        "\n",
        "print('Tamanho de A: ', len(seq_a))\n",
        "print('Tamanho de B: ', len(seq_b))\n",
        "print('Tamanho de C: ', len(seq_c))"
      ],
      "metadata": {
        "colab": {
          "base_uri": "https://localhost:8080/",
          "height": 0
        },
        "id": "bZln0sntYxPk",
        "outputId": "12ea0111-a583-4488-d092-c20f73e3a4ce"
      },
      "execution_count": 9,
      "outputs": [
        {
          "output_type": "stream",
          "name": "stdout",
          "text": [
            "B:  KPAAHLIGDPSKQNSLLWRANTDRAFLQDGFSLSNNSLLVPTSGIYFVYSQVVFSGKAYSPKATSSPLYLAHEVQLFSS\n",
            "C:  CPQGKYIHPQNNSICCTKCHKGTYLYNDCPGPGQDTDCRECESGSFTASENHLRHCLSCSKCRKEMGQVEISSCTVDRDTVCGCR\n",
            "A:  LRSSSQNSSDKPVAHVVANHQVEEQLEWLSQRANALLANGMDLKDNQLVVPADGLYLVYSQVLFKGQGCPDYVLLTHTVSLRSSSDK\n",
            "Tamanho de A:  87\n",
            "Tamanho de B:  79\n",
            "Tamanho de C:  85\n"
          ]
        }
      ]
    },
    {
      "cell_type": "code",
      "source": [],
      "metadata": {
        "id": "h15n9j6GblF6"
      },
      "execution_count": null,
      "outputs": []
    }
  ]
}