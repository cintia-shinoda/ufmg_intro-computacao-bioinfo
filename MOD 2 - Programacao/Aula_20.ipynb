{
  "nbformat": 4,
  "nbformat_minor": 0,
  "metadata": {
    "colab": {
      "provenance": []
    },
    "kernelspec": {
      "name": "python3",
      "display_name": "Python 3"
    },
    "language_info": {
      "name": "python"
    }
  },
  "cells": [
    {
      "cell_type": "markdown",
      "source": [
        "# Aula 20 - Operadores"
      ],
      "metadata": {
        "id": "0rXT9WvVkNnE"
      }
    },
    {
      "cell_type": "markdown",
      "source": [
        "## Operadores Padrão"
      ],
      "metadata": {
        "id": "-rc58awAkRKc"
      }
    },
    {
      "cell_type": "markdown",
      "source": [
        "- vem implementados por padrão (não é necessário incluir nenhum módulo para utilização)"
      ],
      "metadata": {
        "id": "ueDA2f6AkS01"
      }
    },
    {
      "cell_type": "markdown",
      "source": [
        "### Operadores Aritméticos\n",
        "\n",
        "| Operação | Operador |\n",
        "|---|---|\n",
        "| Adição | + |\n",
        "| Subtração | - |\n",
        "| Multiplicação | * |\n",
        "| Divisão | / | \n",
        "| Resto da divisão inteira | % |\n",
        "| Quociente inteiro da divisão | // |\n",
        "| Exponenciação | ** |\n"
      ],
      "metadata": {
        "id": "irYfKS_xkjnO"
      }
    },
    {
      "cell_type": "markdown",
      "source": [
        "### Operadores de Comparação\n",
        "\n",
        "| Operação | Operador |\n",
        "|---|---|\n",
        "| Igualdade | == |\n",
        "| Desigualdade | != |\n",
        "| Menor que | < |\n",
        "| Maior que | > |\n",
        "| Menor ou igual que | <= |\n",
        "| Maior ou igual que | >= |\n",
        "| dois operandos se referem ao mesmo objeto | is |\n",
        "| pertence | in |"
      ],
      "metadata": {
        "id": "ME4Hz_1ilDYZ"
      }
    },
    {
      "cell_type": "markdown",
      "source": [
        "### Operadores Lógicos\n",
        "\n",
        "| Operação | Operador  |\n",
        "|---|---|\n",
        "| E | and |\n",
        "| OU | or |\n",
        "| NÃO | not |"
      ],
      "metadata": {
        "id": "1GSLQ6C2lcE8"
      }
    },
    {
      "cell_type": "markdown",
      "source": [
        "### Diversos \n",
        "\n",
        "- Atribuição: ```=```"
      ],
      "metadata": {
        "id": "s45_R-C9llk4"
      }
    },
    {
      "cell_type": "markdown",
      "source": [
        "### Operadores Abreviados\n",
        "- operadores combinados com ```=```\n",
        "- ex: ```a += 2``` tem o efeito de ```a = a+2```\n",
        "- essa compressão da notação pode ser feita com\" ```+```, ```-```, ```*```, ```/```, ```//```, ```%```, ```%``` e ```**```"
      ],
      "metadata": {
        "id": "oPd8gZ-smE9h"
      }
    },
    {
      "cell_type": "code",
      "source": [
        "a = 4\n",
        "b = 8"
      ],
      "metadata": {
        "id": "S2aBV4ZOmk7z"
      },
      "execution_count": null,
      "outputs": []
    },
    {
      "cell_type": "code",
      "source": [
        "c = a + b\n",
        "print(c)"
      ],
      "metadata": {
        "colab": {
          "base_uri": "https://localhost:8080/"
        },
        "id": "6-VG2OAZm_AT",
        "outputId": "ddf82f44-caed-496a-fdb8-0a668578e093"
      },
      "execution_count": null,
      "outputs": [
        {
          "output_type": "stream",
          "name": "stdout",
          "text": [
            "12\n"
          ]
        }
      ]
    },
    {
      "cell_type": "code",
      "source": [
        "b = c - 2\n",
        "print(b)"
      ],
      "metadata": {
        "colab": {
          "base_uri": "https://localhost:8080/"
        },
        "id": "x2TOWD8vnA9a",
        "outputId": "5c7c2aa0-8d76-4daf-ec94-6a0fa486e652"
      },
      "execution_count": null,
      "outputs": [
        {
          "output_type": "stream",
          "name": "stdout",
          "text": [
            "10\n"
          ]
        }
      ]
    },
    {
      "cell_type": "code",
      "source": [
        "a = 23 * 9\n",
        "print(a)"
      ],
      "metadata": {
        "colab": {
          "base_uri": "https://localhost:8080/"
        },
        "id": "2sqxX89bnCwo",
        "outputId": "90469279-63ac-4a7d-98c6-f7798d16b73b"
      },
      "execution_count": null,
      "outputs": [
        {
          "output_type": "stream",
          "name": "stdout",
          "text": [
            "207\n"
          ]
        }
      ]
    },
    {
      "cell_type": "code",
      "source": [
        "c = 100/9\n",
        "print(c)"
      ],
      "metadata": {
        "colab": {
          "base_uri": "https://localhost:8080/"
        },
        "id": "DD18kDLUnKjd",
        "outputId": "c5142c90-55cf-4229-feb8-dba391fc522d"
      },
      "execution_count": null,
      "outputs": [
        {
          "output_type": "stream",
          "name": "stdout",
          "text": [
            "11.11111111111111\n"
          ]
        }
      ]
    },
    {
      "cell_type": "code",
      "source": [
        "b = (a * b)\n",
        "print(b)"
      ],
      "metadata": {
        "colab": {
          "base_uri": "https://localhost:8080/"
        },
        "id": "1Pr63vh5nNgO",
        "outputId": "1eaa0a8e-a824-403e-aab0-f0c43347391d"
      },
      "execution_count": null,
      "outputs": [
        {
          "output_type": "stream",
          "name": "stdout",
          "text": [
            "2070\n"
          ]
        }
      ]
    },
    {
      "cell_type": "code",
      "source": [
        "c = b % 2\n",
        "print(c)"
      ],
      "metadata": {
        "colab": {
          "base_uri": "https://localhost:8080/"
        },
        "id": "fq1XsjWwnQZw",
        "outputId": "96b94b48-d81a-4b96-dd4c-773c74111ec4"
      },
      "execution_count": null,
      "outputs": [
        {
          "output_type": "stream",
          "name": "stdout",
          "text": [
            "0\n"
          ]
        }
      ]
    },
    {
      "cell_type": "code",
      "source": [],
      "metadata": {
        "id": "PKvUodGInTxN"
      },
      "execution_count": null,
      "outputs": []
    }
  ]
}