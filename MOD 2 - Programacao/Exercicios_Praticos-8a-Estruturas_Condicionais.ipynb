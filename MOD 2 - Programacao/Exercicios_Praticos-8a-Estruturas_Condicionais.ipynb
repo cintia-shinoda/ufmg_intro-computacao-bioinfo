{
  "nbformat": 4,
  "nbformat_minor": 0,
  "metadata": {
    "colab": {
      "provenance": []
    },
    "kernelspec": {
      "name": "python3",
      "display_name": "Python 3"
    },
    "language_info": {
      "name": "python"
    }
  },
  "cells": [
    {
      "cell_type": "markdown",
      "source": [
        "# Exercicio 1\n",
        "\n",
        "Considere que você tem uma variável em Python com o tamanho de uma sequência biológica. Considere\n",
        "que essa sequência será aceita ou utilizada em uma análise se ela tiver tamanho igual ou superior a 50.\n",
        "Como você implementaria esse teste em Python?"
      ],
      "metadata": {
        "id": "4NKMKiQ7Do59"
      }
    },
    {
      "cell_type": "code",
      "execution_count": 2,
      "metadata": {
        "colab": {
          "base_uri": "https://localhost:8080/"
        },
        "id": "RN9R5BkgDdtP",
        "outputId": "cc3d3c9e-0692-4a28-e077-5ea3ab809f91"
      },
      "outputs": [
        {
          "output_type": "stream",
          "name": "stdout",
          "text": [
            "sequência não aceita\n"
          ]
        }
      ],
      "source": [
        "seq_bio = 45\n",
        "if seq_bio >= 50:\n",
        "    print('sequência aceita')\n",
        "else:\n",
        "    print('sequência não aceita')"
      ]
    },
    {
      "cell_type": "markdown",
      "source": [
        "# Exercicio 2\n",
        "\n",
        "Considere que peptídeos são cadeias formadas por 2 ou mais aminoácidos e não mais que 50\n",
        "aminoácidos. Dada uma sequência qualquer, verifique se é ou não um peptídeo considerando a definição\n",
        "de peptídeo aqui apresentada."
      ],
      "metadata": {
        "id": "zEox31iGEKKK"
      }
    },
    {
      "cell_type": "code",
      "source": [
        "seq = 'AAAA'\n",
        "if len(seq) >= 2 and len(seq) <= 50:\n",
        "    print('é um peptídeo')\n",
        "else:\n",
        "    print('não é um peptídeo')"
      ],
      "metadata": {
        "colab": {
          "base_uri": "https://localhost:8080/"
        },
        "id": "onXrfiOfEEm3",
        "outputId": "10e03d02-d1ca-4203-94fb-a82f0bdd40c3"
      },
      "execution_count": 3,
      "outputs": [
        {
          "output_type": "stream",
          "name": "stdout",
          "text": [
            "é um peptídeo\n"
          ]
        }
      ]
    },
    {
      "cell_type": "markdown",
      "source": [
        "# Exercicio 3\n",
        "\n",
        "Considere agora que peptídeos podem ser divididos em:\n",
        "• 2 aminoácidos: Dipeptídeo\n",
        "• 3 aminoácidos: Tripeptídeo\n",
        "• 4 ou mais aminoácidos (com até 50 aminoácidos): Polipeptídeo\n",
        "Imprima se é um peptídeo e a denominação adequada."
      ],
      "metadata": {
        "id": "TurinG_5E26o"
      }
    },
    {
      "cell_type": "code",
      "source": [
        "seq = 'AAAA'\n",
        "if len(seq) >= 2 and len(seq) <= 50:\n",
        "    print('é um peptídeo')\n",
        "    if len(seq) == 2:\n",
        "        print('Dipeptídeo')\n",
        "    elif len(seq) == 3:\n",
        "        print('Tripeptídeo')\n",
        "    else:\n",
        "        print('Polipeptídeo')\n",
        "else:\n",
        "    print('não é um peptídeo')"
      ],
      "metadata": {
        "colab": {
          "base_uri": "https://localhost:8080/"
        },
        "id": "oqhFwNcGE13r",
        "outputId": "809125b7-e573-448b-e8b7-a8458698e62e"
      },
      "execution_count": 13,
      "outputs": [
        {
          "output_type": "stream",
          "name": "stdout",
          "text": [
            "é um peptídeo\n",
            "Polipeptídeo\n"
          ]
        }
      ]
    },
    {
      "cell_type": "markdown",
      "source": [
        "# Exercicio 4\n",
        "\n",
        "Aminoácidos podem ser classificados segundo suas características e propriedades fisico-químicas.\n",
        "Considere as classes abaixo e, dado um aminoácido, imprima todas as suas características usando\n",
        "apenas estruturas condicionais."
      ],
      "metadata": {
        "id": "3bEAPPLEFv6M"
      }
    },
    {
      "cell_type": "code",
      "source": [
        "hidrofobico = ['I', 'V', 'L', 'M', 'C', 'A', 'T', 'F', 'Y', 'W', 'H', 'K']\n",
        "pequeno = ['P', 'A', 'G', 'C', 'S', 'T', 'D', 'N', 'V']\n",
        "polar = ['C', 'S', 'T', 'N', 'D', 'Q', 'Y', 'W', 'H', 'K', 'R', 'E']\n",
        "carregado = ['D', 'E', 'R', 'K', 'H']\n",
        "aromatico = ['F', 'Y', 'W', 'H']\n",
        "minusculo = ['A', 'C', 'G', 'S']\n",
        "alifatico = ['I', 'L', 'V']\n",
        "hidroxila = ['T', 'S']\n",
        "acido = ['N', 'Q']\n",
        "enxofre = ['C', 'M']"
      ],
      "metadata": {
        "id": "EPyc-vX2FSNZ"
      },
      "execution_count": 20,
      "outputs": []
    },
    {
      "cell_type": "code",
      "source": [
        "aa = 'A'\n",
        "if aa in hidrofobico:\n",
        "  print(\"Hidrofóbico\")\n",
        "if aa in pequeno:\n",
        "  print(\"Pequeno\")\n",
        "if aa in polar:\n",
        "  print(\"Polar\")\n",
        "if aa in carregado:\n",
        "  print(\"Carregado\")\n",
        "if aa in aromatico:\n",
        "  print(\"Aromatico\")\n",
        "if aa in minusculo:\n",
        "  print(\"Minúsculo\")\n",
        "if aa in hidroxila:\n",
        "  print(\"Hidroxila\")\n",
        "if aa in acido:\n",
        "  print(\"Ácido\")\n",
        "if aa in enxofre:\n",
        "  print(\"Enxofre\")"
      ],
      "metadata": {
        "colab": {
          "base_uri": "https://localhost:8080/"
        },
        "id": "HqFRRec1JluB",
        "outputId": "bf326e8d-dacd-4c29-bf8b-8bdad04e8308"
      },
      "execution_count": 30,
      "outputs": [
        {
          "output_type": "stream",
          "name": "stdout",
          "text": [
            "Hidrofóbico\n",
            "Pequeno\n",
            "Minúsculo\n"
          ]
        }
      ]
    },
    {
      "cell_type": "markdown",
      "source": [
        "# Exercicio 5\n",
        "\n",
        "Considerando as classes de aminoácidos da questão anterior, defina e imprima se um aminoácido é\n",
        "apolar ou tem carga neutra (não é carregado)."
      ],
      "metadata": {
        "id": "sL6TW3gIGNNK"
      }
    },
    {
      "cell_type": "code",
      "source": [
        "aa = 'I'\n",
        "if not aa in polar or not aa in carregado:\n",
        "    print('AA é Apolar ou tem Carga Neutra')"
      ],
      "metadata": {
        "colab": {
          "base_uri": "https://localhost:8080/"
        },
        "id": "aii62_XSGOWv",
        "outputId": "84b079a3-e80b-4b44-b239-f149e94e9304"
      },
      "execution_count": 32,
      "outputs": [
        {
          "output_type": "stream",
          "name": "stdout",
          "text": [
            "AA é Apolar ou tem Carga Neutra\n"
          ]
        }
      ]
    },
    {
      "cell_type": "markdown",
      "source": [
        "# Exercicio 6\n",
        "\n",
        "Dentre os quatro nucleotídeos adenina (A), citosina (C), guanina (G) e timina (T), dois são purinas (A e G) e\n",
        "duas são pirimidinas (C e T). Dada uma letra, verifique em primeiro lugar se é um nucletídeo válido e, a\n",
        "seguir, imprima se é uma purina ou uma pirimidina."
      ],
      "metadata": {
        "id": "kkJAy7JWGT__"
      }
    },
    {
      "cell_type": "code",
      "source": [
        "letra = 'C'\n",
        "\n",
        "if letra == 'A' or letra == 'C' or letra == 'G' or letra == 'T':\n",
        "    print('É um nucleotídeo válido')\n",
        "    if letra == 'A' or letra == 'G':\n",
        "        print('Purina')\n",
        "    else:\n",
        "        print('Pirimidina')\n",
        "else:\n",
        "    print('Não é um nucleotídeo válido')"
      ],
      "metadata": {
        "colab": {
          "base_uri": "https://localhost:8080/"
        },
        "id": "-FgVkwUBGVd8",
        "outputId": "ca3d3504-c530-401c-e151-cfeec68a75ac"
      },
      "execution_count": 19,
      "outputs": [
        {
          "output_type": "stream",
          "name": "stdout",
          "text": [
            "É um nucleotídeo válido\n",
            "Pirimidina\n"
          ]
        }
      ]
    },
    {
      "cell_type": "code",
      "source": [
        "# l = 'A'\n",
        "# nucleotideos = ['A', 'C', 'T', 'G']\n",
        "# purinas = ['A', 'G']\n",
        "# pirimidina = ['C', 'T']\n",
        "# if l in nucleotideos:\n",
        "#   print(\"É um nucleotídeo válido.\")\n",
        "#   if l in purinas:\n",
        "#     print(\"PURINA\")\n",
        "#   elif l in pirimidina:\n",
        "#     print(\"PIRIMIDINA\")    \n",
        "# else:\n",
        "#   print(\"É um nucleotídeo inválido.\")"
      ],
      "metadata": {
        "id": "lLmoBsLvHJp4"
      },
      "execution_count": null,
      "outputs": []
    }
  ]
}