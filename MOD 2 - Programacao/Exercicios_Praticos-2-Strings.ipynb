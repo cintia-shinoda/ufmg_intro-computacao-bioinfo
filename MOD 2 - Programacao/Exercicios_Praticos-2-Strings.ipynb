{
  "nbformat": 4,
  "nbformat_minor": 0,
  "metadata": {
    "colab": {
      "provenance": []
    },
    "kernelspec": {
      "name": "python3",
      "display_name": "Python 3"
    },
    "language_info": {
      "name": "python"
    }
  },
  "cells": [
    {
      "cell_type": "markdown",
      "source": [
        "# Exercicio 1\n",
        "\n",
        "O TNF alfa é uma citocina pró inflamatória capaz de provocar a apoptose (morte) de células tumorais. Dada\n",
        "a sua sequência de aminoácidos:\n",
        "\n",
        "VRSSSRTPSDKPVAHVVANPQAEGQLQWLNRRANALLANGVELRDNQLVVPSEGLYLIYSQVLFKGQGCPSTHVLLTHT\n",
        "ISRIAVSYQTKVNLLSAIKSPCQRETPEGAEAKPWYEPIYLGGVFQLEKGDRLSAEINRPDYLLFAESGQVYFGIIAL\n",
        "\n",
        "realize as seguintes tarefas:"
      ],
      "metadata": {
        "id": "fsBnUAQgNJTd"
      }
    },
    {
      "cell_type": "code",
      "source": [
        "tnf =  'VRSSSRTPSDKPVAHVVANPQAEGQLQWLNRRANALLANGVELRDNQLVVPSEGLYLIYSQVLFKGQGCPSTHVLLTHTISRIAVSYQTKVNLLSAIKSPCQRETPEGAEAKPWYEPIYLGGVFQLEKGDRLSAEINRPDYLLFAESGQVYFGIIAL'"
      ],
      "metadata": {
        "id": "PY9dT5wdNcC9"
      },
      "execution_count": null,
      "outputs": []
    },
    {
      "cell_type": "markdown",
      "source": [
        "## A\n",
        "\n",
        "Retorne o tamanho da sequência."
      ],
      "metadata": {
        "id": "RluaJztiNXB-"
      }
    },
    {
      "cell_type": "code",
      "execution_count": null,
      "metadata": {
        "colab": {
          "base_uri": "https://localhost:8080/"
        },
        "id": "4xoaIRIoNCfZ",
        "outputId": "79fe72e7-7e69-4317-ac00-a62e4eafb472"
      },
      "outputs": [
        {
          "output_type": "execute_result",
          "data": {
            "text/plain": [
              "157"
            ]
          },
          "metadata": {},
          "execution_count": 5
        }
      ],
      "source": [
        "len(tnf)"
      ]
    },
    {
      "cell_type": "markdown",
      "source": [
        "## B\n",
        "\n",
        "Realize a contagem da ocorrência de um sequência de leucinas (LL)."
      ],
      "metadata": {
        "id": "Pkif0PlDNzaT"
      }
    },
    {
      "cell_type": "code",
      "source": [
        "tnf.count('LL')"
      ],
      "metadata": {
        "colab": {
          "base_uri": "https://localhost:8080/"
        },
        "id": "XNviwhYQNxux",
        "outputId": "44c12f24-8270-4620-ca17-22456f6b97c3"
      },
      "execution_count": null,
      "outputs": [
        {
          "output_type": "execute_result",
          "data": {
            "text/plain": [
              "4"
            ]
          },
          "metadata": {},
          "execution_count": 6
        }
      ]
    },
    {
      "cell_type": "markdown",
      "source": [
        "## C\n",
        "\n",
        "Encontre na sequência as posições ocupadas por duas glicinas (GG) e duas argininas (RR)."
      ],
      "metadata": {
        "id": "aIrqsyCJN_v7"
      }
    },
    {
      "cell_type": "code",
      "source": [
        "tnf.find('GG')"
      ],
      "metadata": {
        "colab": {
          "base_uri": "https://localhost:8080/"
        },
        "id": "RMqL2aoJN9pc",
        "outputId": "e27d6a57-aa11-4bbf-8d05-7a4d97b7769a"
      },
      "execution_count": null,
      "outputs": [
        {
          "output_type": "execute_result",
          "data": {
            "text/plain": [
              "120"
            ]
          },
          "metadata": {},
          "execution_count": 8
        }
      ]
    },
    {
      "cell_type": "code",
      "source": [
        "tnf.find('RR')"
      ],
      "metadata": {
        "colab": {
          "base_uri": "https://localhost:8080/"
        },
        "id": "uIWXl28gOOWL",
        "outputId": "55ab54d6-7655-4eec-df43-114b12389929"
      },
      "execution_count": null,
      "outputs": [
        {
          "output_type": "execute_result",
          "data": {
            "text/plain": [
              "30"
            ]
          },
          "metadata": {},
          "execution_count": 9
        }
      ]
    },
    {
      "cell_type": "markdown",
      "source": [
        "## D\n",
        "\n",
        "Retorne os 100 primeiros aminoácidos da sequência."
      ],
      "metadata": {
        "id": "2EXO-US_OaWx"
      }
    },
    {
      "cell_type": "code",
      "source": [
        "tnf[:100]"
      ],
      "metadata": {
        "colab": {
          "base_uri": "https://localhost:8080/",
          "height": 35
        },
        "id": "fl9v-3bCOVnz",
        "outputId": "109d402f-9852-46c7-8133-781fcb00b7cc"
      },
      "execution_count": null,
      "outputs": [
        {
          "output_type": "execute_result",
          "data": {
            "text/plain": [
              "'VRSSSRTPSDKPVAHVVANPQAEGQLQWLNRRANALLANGVELRDNQLVVPSEGLYLIYSQVLFKGQGCPSTHVLLTHTISRIAVSYQTKVNLLSAIKSP'"
            ],
            "application/vnd.google.colaboratory.intrinsic+json": {
              "type": "string"
            }
          },
          "metadata": {},
          "execution_count": 10
        }
      ]
    },
    {
      "cell_type": "markdown",
      "source": [
        "## E\n",
        "\n",
        "Substitua o trecho da sequência com a ocorrência de 3 serinas e 1 arginina (SSSR) por alaninas."
      ],
      "metadata": {
        "id": "X667Z_wrOpcG"
      }
    },
    {
      "cell_type": "code",
      "source": [
        "tnf = tnf.replace('SSSR', 'AAAA')"
      ],
      "metadata": {
        "id": "OQ5Tf2MOOnh_"
      },
      "execution_count": null,
      "outputs": []
    },
    {
      "cell_type": "markdown",
      "source": [
        "## F\n",
        "\n",
        "Quebre a sequência no local onde a substituição foi realizada."
      ],
      "metadata": {
        "id": "4x5nOhWIPLqu"
      }
    },
    {
      "cell_type": "code",
      "source": [
        "tnf.split('AAAA')"
      ],
      "metadata": {
        "colab": {
          "base_uri": "https://localhost:8080/"
        },
        "id": "kYc4TR82PKIQ",
        "outputId": "285420fa-d3ce-4a01-bae1-9c36a793dcbd"
      },
      "execution_count": null,
      "outputs": [
        {
          "output_type": "execute_result",
          "data": {
            "text/plain": [
              "['VR',\n",
              " 'TPSDKPVAHVVANPQAEGQLQWLNRRANALLANGVELRDNQLVVPSEGLYLIYSQVLFKGQGCPSTHVLLTHTISRIAVSYQTKVNLLSAIKSPCQRETPEGAEAKPWYEPIYLGGVFQLEKGDRLSAEINRPDYLLFAESGQVYFGIIAL']"
            ]
          },
          "metadata": {},
          "execution_count": 14
        }
      ]
    },
    {
      "cell_type": "markdown",
      "source": [
        "# Exercicio 2\n",
        "\n",
        "Utilizando o texto abaixo:\n",
        "\n",
        "\"As proteínas são cadeias polipeptídicas formadas pela ligação peptídica entre resíduos de aminoácidos.\n",
        "Existem 20 tipos de aminoácidos comumente encontrados nos seres vivos. A esses aminoácidos, foram\n",
        "atribuídas abreviações de 3 letras e símbolos de 1 letra. As abreviações de 3 letras são bastante evidentes\n",
        "consistindo nas três primeiras letras do se nome.\"\n",
        "\n",
        "Realize as seguintes tarefas:"
      ],
      "metadata": {
        "id": "3JNqCUNBPmcs"
      }
    },
    {
      "cell_type": "code",
      "source": [
        "texto = \"As proteínas são cadeias polipeptídicas formadas pela ligação peptídica entre resíduos de aminoácidos. Existem 20 tipos de aminoácidos comumente encontrados nos seres vivos. A esses aminoácidos, foram atribuídas abreviações de 3 letras e símbolos de 1 letra. As abreviações de 3 letras são bastante evidentes consistindo nas três primeiras letras do se nome.\" "
      ],
      "metadata": {
        "id": "PHRMZVsCPZrm"
      },
      "execution_count": null,
      "outputs": []
    },
    {
      "cell_type": "markdown",
      "source": [
        "## A\n",
        "\n",
        "Passe todo o texto para letras maiúsculas."
      ],
      "metadata": {
        "id": "MIN9OzURQBPf"
      }
    },
    {
      "cell_type": "code",
      "source": [
        "texto.upper()"
      ],
      "metadata": {
        "colab": {
          "base_uri": "https://localhost:8080/",
          "height": 70
        },
        "id": "N_f6bXM5P_p7",
        "outputId": "2b69d545-eb5b-40ed-f88c-18c7a95fced9"
      },
      "execution_count": null,
      "outputs": [
        {
          "output_type": "execute_result",
          "data": {
            "text/plain": [
              "'AS PROTEÍNAS SÃO CADEIAS POLIPEPTÍDICAS FORMADAS PELA LIGAÇÃO PEPTÍDICA ENTRE RESÍDUOS DE AMINOÁCIDOS. EXISTEM 20 TIPOS DE AMINOÁCIDOS COMUMENTE ENCONTRADOS NOS SERES VIVOS. A ESSES AMINOÁCIDOS, FORAM ATRIBUÍDAS ABREVIAÇÕES DE 3 LETRAS E SÍMBOLOS DE 1 LETRA. AS ABREVIAÇÕES DE 3 LETRAS SÃO BASTANTE EVIDENTES CONSISTINDO NAS TRÊS PRIMEIRAS LETRAS DO SE NOME.'"
            ],
            "application/vnd.google.colaboratory.intrinsic+json": {
              "type": "string"
            }
          },
          "metadata": {},
          "execution_count": 17
        }
      ]
    },
    {
      "cell_type": "markdown",
      "source": [
        "## B\n",
        "\n",
        "Passe todo o texto para letras minúsculas."
      ],
      "metadata": {
        "id": "LKncckAiQIJG"
      }
    },
    {
      "cell_type": "code",
      "source": [
        "texto.lower()"
      ],
      "metadata": {
        "colab": {
          "base_uri": "https://localhost:8080/",
          "height": 70
        },
        "id": "ESSq4ffkQFAt",
        "outputId": "ddaaf1e0-7efc-421f-8814-9f40d5b29120"
      },
      "execution_count": null,
      "outputs": [
        {
          "output_type": "execute_result",
          "data": {
            "text/plain": [
              "'as proteínas são cadeias polipeptídicas formadas pela ligação peptídica entre resíduos de aminoácidos. existem 20 tipos de aminoácidos comumente encontrados nos seres vivos. a esses aminoácidos, foram atribuídas abreviações de 3 letras e símbolos de 1 letra. as abreviações de 3 letras são bastante evidentes consistindo nas três primeiras letras do se nome.'"
            ],
            "application/vnd.google.colaboratory.intrinsic+json": {
              "type": "string"
            }
          },
          "metadata": {},
          "execution_count": 18
        }
      ]
    },
    {
      "cell_type": "markdown",
      "source": [
        "## C\n",
        "\n",
        "Passe cada primeira letra de palavra em maiúsculo."
      ],
      "metadata": {
        "id": "1Qj1qAedQw2X"
      }
    },
    {
      "cell_type": "code",
      "source": [
        "texto.title()"
      ],
      "metadata": {
        "colab": {
          "base_uri": "https://localhost:8080/",
          "height": 70
        },
        "id": "mj0AKrbnQLxg",
        "outputId": "2bd3acc0-8a5b-409a-d7a1-cc38f83e22b0"
      },
      "execution_count": null,
      "outputs": [
        {
          "output_type": "execute_result",
          "data": {
            "text/plain": [
              "'As Proteínas São Cadeias Polipeptídicas Formadas Pela Ligação Peptídica Entre Resíduos De Aminoácidos. Existem 20 Tipos De Aminoácidos Comumente Encontrados Nos Seres Vivos. A Esses Aminoácidos, Foram Atribuídas Abreviações De 3 Letras E Símbolos De 1 Letra. As Abreviações De 3 Letras São Bastante Evidentes Consistindo Nas Três Primeiras Letras Do Se Nome.'"
            ],
            "application/vnd.google.colaboratory.intrinsic+json": {
              "type": "string"
            }
          },
          "metadata": {},
          "execution_count": 19
        }
      ]
    },
    {
      "cell_type": "markdown",
      "source": [
        "## D\n",
        "\n",
        "Transforme as letras maiúsculas em minúsculas e vice-versa."
      ],
      "metadata": {
        "id": "QIyf8taNQyqh"
      }
    },
    {
      "cell_type": "code",
      "source": [
        "texto.swapcase()"
      ],
      "metadata": {
        "colab": {
          "base_uri": "https://localhost:8080/",
          "height": 70
        },
        "id": "KfHLLdWCQPlE",
        "outputId": "07282efd-2b1b-461e-8bfe-ff495ec4b154"
      },
      "execution_count": null,
      "outputs": [
        {
          "output_type": "execute_result",
          "data": {
            "text/plain": [
              "'aS PROTEÍNAS SÃO CADEIAS POLIPEPTÍDICAS FORMADAS PELA LIGAÇÃO PEPTÍDICA ENTRE RESÍDUOS DE AMINOÁCIDOS. eXISTEM 20 TIPOS DE AMINOÁCIDOS COMUMENTE ENCONTRADOS NOS SERES VIVOS. a ESSES AMINOÁCIDOS, FORAM ATRIBUÍDAS ABREVIAÇÕES DE 3 LETRAS E SÍMBOLOS DE 1 LETRA. aS ABREVIAÇÕES DE 3 LETRAS SÃO BASTANTE EVIDENTES CONSISTINDO NAS TRÊS PRIMEIRAS LETRAS DO SE NOME.'"
            ],
            "application/vnd.google.colaboratory.intrinsic+json": {
              "type": "string"
            }
          },
          "metadata": {},
          "execution_count": 21
        }
      ]
    },
    {
      "cell_type": "markdown",
      "source": [
        "# Exercicio 3\n",
        "\n",
        "Utilizando a sequência:\n",
        "\n",
        "insulin_signal = “MALWMRLLPLLALLALWGPDPAAA”\n",
        "\n",
        "Realize as seguintes tarefas:"
      ],
      "metadata": {
        "id": "-NS8hwDWQY26"
      }
    },
    {
      "cell_type": "code",
      "source": [
        "insulin_signal = 'MALWMRLLPLLALLALWGPDPAAA'"
      ],
      "metadata": {
        "id": "4rYPnEpwQSat"
      },
      "execution_count": null,
      "outputs": []
    },
    {
      "cell_type": "markdown",
      "source": [
        "## A\n",
        "\n",
        "Retorne o tamanho da sequência apresentada."
      ],
      "metadata": {
        "id": "c2ie07NDQbU3"
      }
    },
    {
      "cell_type": "code",
      "source": [
        "len(insulin_signal)"
      ],
      "metadata": {
        "colab": {
          "base_uri": "https://localhost:8080/"
        },
        "id": "IqTgbtd-RB2d",
        "outputId": "82cccdd6-5bf4-4f4c-99b0-5ecdcc430b1a"
      },
      "execution_count": null,
      "outputs": [
        {
          "output_type": "execute_result",
          "data": {
            "text/plain": [
              "24"
            ]
          },
          "metadata": {},
          "execution_count": 26
        }
      ]
    },
    {
      "cell_type": "markdown",
      "source": [
        "## B\n",
        "\n",
        "Quebre a sequência no trecho “LLALLALWG\"."
      ],
      "metadata": {
        "id": "_Pv5VUTXQiBl"
      }
    },
    {
      "cell_type": "code",
      "source": [
        "insulin_signal.split('LLALLALWG')"
      ],
      "metadata": {
        "colab": {
          "base_uri": "https://localhost:8080/"
        },
        "id": "lFDeP0VNRIYC",
        "outputId": "2bc48548-a8b1-4dfa-86bf-0f68a6c85124"
      },
      "execution_count": null,
      "outputs": [
        {
          "output_type": "execute_result",
          "data": {
            "text/plain": [
              "['MALWMRLLP', 'PDPAAA']"
            ]
          },
          "metadata": {},
          "execution_count": 35
        }
      ]
    },
    {
      "cell_type": "markdown",
      "source": [
        "## C\n",
        "\n",
        "Concatene as sequências resultantes obtendo a seguinte sequência final MALWMRLLPPDPAAA."
      ],
      "metadata": {
        "id": "54ioj2cbRI5q"
      }
    },
    {
      "cell_type": "code",
      "source": [
        "''.join(insulin_signal)"
      ],
      "metadata": {
        "colab": {
          "base_uri": "https://localhost:8080/",
          "height": 35
        },
        "id": "C_XOFHnSRSYh",
        "outputId": "9e629acb-79aa-4620-e80a-362306a8027f"
      },
      "execution_count": null,
      "outputs": [
        {
          "output_type": "execute_result",
          "data": {
            "text/plain": [
              "'MALWMRLLPLLALLALWGPDPAAA'"
            ],
            "application/vnd.google.colaboratory.intrinsic+json": {
              "type": "string"
            }
          },
          "metadata": {},
          "execution_count": 36
        }
      ]
    },
    {
      "cell_type": "markdown",
      "source": [
        "## D\n",
        "\n",
        "Substitua o trecho \"DPAAA\" por “LLALL”."
      ],
      "metadata": {
        "id": "4JRu5ArzRS3L"
      }
    },
    {
      "cell_type": "code",
      "source": [
        "insulin_signal.replace('DPAAA', 'LLALL')"
      ],
      "metadata": {
        "colab": {
          "base_uri": "https://localhost:8080/",
          "height": 35
        },
        "id": "GvqwMHfKSGSF",
        "outputId": "ed67d5a2-2ba0-4b01-a1e2-b4b27ff9280a"
      },
      "execution_count": null,
      "outputs": [
        {
          "output_type": "execute_result",
          "data": {
            "text/plain": [
              "'MALWMRLLPLLALLALWGPLLALL'"
            ],
            "application/vnd.google.colaboratory.intrinsic+json": {
              "type": "string"
            }
          },
          "metadata": {},
          "execution_count": 37
        }
      ]
    },
    {
      "cell_type": "markdown",
      "source": [
        "# Exercicio 4\n",
        "\n",
        "Com base na sequência de DNA GATGGAACTTGACGTAAACCTATATT retorne a sequência de RNA\n",
        "correspondente sendo a mesma GAUGGAACUUGACGUAAACCUAUAUU."
      ],
      "metadata": {
        "id": "RN9VAeb_SHvP"
      }
    },
    {
      "cell_type": "code",
      "source": [
        "seq_dna = 'GATGGAACTTGACGTAAACCTATATT'"
      ],
      "metadata": {
        "id": "KXqUMmf2SoXX"
      },
      "execution_count": null,
      "outputs": []
    },
    {
      "cell_type": "code",
      "source": [
        "seq_dna.replace('T', 'U')"
      ],
      "metadata": {
        "colab": {
          "base_uri": "https://localhost:8080/",
          "height": 35
        },
        "id": "m1r0n16XStpF",
        "outputId": "318edad9-2bd4-46b7-eb77-e2897b8d5ab2"
      },
      "execution_count": null,
      "outputs": [
        {
          "output_type": "execute_result",
          "data": {
            "text/plain": [
              "'GAUGGAACUUGACGUAAACCUAUAUU'"
            ],
            "application/vnd.google.colaboratory.intrinsic+json": {
              "type": "string"
            }
          },
          "metadata": {},
          "execution_count": 39
        }
      ]
    }
  ]
}