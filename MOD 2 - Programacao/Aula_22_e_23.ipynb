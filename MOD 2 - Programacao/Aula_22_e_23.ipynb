{
  "nbformat": 4,
  "nbformat_minor": 0,
  "metadata": {
    "colab": {
      "provenance": []
    },
    "kernelspec": {
      "name": "python3",
      "display_name": "Python 3"
    },
    "language_info": {
      "name": "python"
    }
  },
  "cells": [
    {
      "cell_type": "markdown",
      "source": [
        "## Aulas 22 e 23 - Estruturas de Repetição"
      ],
      "metadata": {
        "id": "yYv-R63wQBhZ"
      }
    },
    {
      "cell_type": "markdown",
      "source": [
        "## Cenários\n",
        "\n",
        "### Definidos: \n",
        "sabe-se previamente quantas vezes o laço será executado\n",
        "\n",
        "### Indefinidos:\n",
        "- não se sabe previamente quantas execuções serão realizadas.\n",
        "- há necesssidade de testar a cada interação se continua ou interrompe.\n",
        "- essa verificação pode ocorrer em 2 momentoss:\n",
        "    - **antes do laço**: o bloco pode não  ser executado nem uma vez\n",
        "    - **no fim do laço**: garante que o laço será executado pelo menos uma vez"
      ],
      "metadata": {
        "id": "RQ0YlpNkQkBa"
      }
    },
    {
      "cell_type": "markdown",
      "source": [
        "## ```WHILE```\n",
        "\n",
        "- usado em casos **indefinidos**\n",
        "- executa-se um conjunto de instruções, enquanto a condição ser verdadeira"
      ],
      "metadata": {
        "id": "0J0UpYb3aLrC"
      }
    },
    {
      "cell_type": "code",
      "execution_count": 16,
      "metadata": {
        "id": "Kpp6EuE8P6wT",
        "colab": {
          "base_uri": "https://localhost:8080/"
        },
        "outputId": "41a312e9-ac56-4ece-ad80-922e3286d0ec"
      },
      "outputs": [
        {
          "output_type": "stream",
          "name": "stdout",
          "text": [
            "289 não  é primo: divisível por 17\n"
          ]
        }
      ],
      "source": [
        "num = 289\n",
        "divisor = num - 1\n",
        "\n",
        "while num % divisor != 0 and divisor > 1:\n",
        "    divisor -=1\n",
        "\n",
        "if divisor > 1:\n",
        "    print(num, 'não  é primo: divisível por', divisor)\n",
        "\n",
        "else:\n",
        "    print(num, 'é primo')"
      ]
    },
    {
      "cell_type": "markdown",
      "source": [
        "## ```FOR```\n",
        "\n",
        "- casos definidos\n",
        "- para iterar em uma sequência\n",
        "- o objetivo é executar um conjunto de instruções, uma vez para cada item da estrutura de dados"
      ],
      "metadata": {
        "id": "nlZ9ybdKbe9u"
      }
    },
    {
      "cell_type": "code",
      "source": [
        "nucleotideos = ['A', 'C', 'T', 'G']\n",
        "for n in nucleotideos:\n",
        "    print(n)"
      ],
      "metadata": {
        "colab": {
          "base_uri": "https://localhost:8080/"
        },
        "id": "qyeHX15tax-g",
        "outputId": "973a47d1-816c-4ef5-fc04-f98df380999b"
      },
      "execution_count": 2,
      "outputs": [
        {
          "output_type": "stream",
          "name": "stdout",
          "text": [
            "A\n",
            "C\n",
            "T\n",
            "G\n"
          ]
        }
      ]
    },
    {
      "cell_type": "markdown",
      "source": [
        "## comando ```BREAK```\n",
        "\n",
        "- para parar o laço antes que ele tenha passado por todos os itens"
      ],
      "metadata": {
        "id": "nInqI9HTcXlo"
      }
    },
    {
      "cell_type": "code",
      "source": [
        "for n in 'ACCAGGAGGCGATG':\n",
        "    print(n)\n",
        "    if n  == 'G':\n",
        "        break"
      ],
      "metadata": {
        "colab": {
          "base_uri": "https://localhost:8080/"
        },
        "id": "Ccj0a9uOb6WP",
        "outputId": "5129c927-d3cc-464e-b878-9ba3d3c549d2"
      },
      "execution_count": 3,
      "outputs": [
        {
          "output_type": "stream",
          "name": "stdout",
          "text": [
            "A\n",
            "C\n",
            "C\n",
            "A\n",
            "G\n"
          ]
        }
      ]
    },
    {
      "cell_type": "code",
      "source": [
        "for n in 'ACCAGGAGGCGATG':\n",
        "    if n  == 'G':\n",
        "        break\n",
        "    print(n)"
      ],
      "metadata": {
        "colab": {
          "base_uri": "https://localhost:8080/"
        },
        "id": "3wE6tQ6KcmRn",
        "outputId": "ecd4ebb1-2b39-47da-f23a-adb651d368ab"
      },
      "execution_count": 4,
      "outputs": [
        {
          "output_type": "stream",
          "name": "stdout",
          "text": [
            "A\n",
            "C\n",
            "C\n",
            "A\n"
          ]
        }
      ]
    },
    {
      "cell_type": "markdown",
      "source": [
        "## comando ```CONTINUE```\n",
        "\n",
        "- para a interação atual e continua com a próxima interação"
      ],
      "metadata": {
        "id": "XZy99JA6n7cy"
      }
    },
    {
      "cell_type": "code",
      "source": [
        "for n  in 'ACCAGGAGGCGATG':\n",
        "    if n == 'G':\n",
        "        continue\n",
        "    print(n)"
      ],
      "metadata": {
        "colab": {
          "base_uri": "https://localhost:8080/"
        },
        "id": "bU5keg2DdHcw",
        "outputId": "c6808df7-7caf-411f-cf34-5bd91b2d3244"
      },
      "execution_count": 5,
      "outputs": [
        {
          "output_type": "stream",
          "name": "stdout",
          "text": [
            "A\n",
            "C\n",
            "C\n",
            "A\n",
            "A\n",
            "C\n",
            "A\n",
            "T\n"
          ]
        }
      ]
    },
    {
      "cell_type": "markdown",
      "source": [
        "## função ```RANGE```\n",
        "\n",
        "- casos percorrer um bloco de código um número pré-definido de vezes\n",
        "- retorna uma sequência de números, iniciando em 0 (por padrão) e incrementa de 1 em 1 (por padrão) e termina com o número especificado"
      ],
      "metadata": {
        "id": "NCMUdY_FouLn"
      }
    },
    {
      "cell_type": "code",
      "source": [
        "for i in range (5):\n",
        "    print(i)"
      ],
      "metadata": {
        "colab": {
          "base_uri": "https://localhost:8080/"
        },
        "id": "BN0ySAcwob30",
        "outputId": "f2b8ad77-530e-483a-e645-b396c884e105"
      },
      "execution_count": 6,
      "outputs": [
        {
          "output_type": "stream",
          "name": "stdout",
          "text": [
            "0\n",
            "1\n",
            "2\n",
            "3\n",
            "4\n"
          ]
        }
      ]
    },
    {
      "cell_type": "code",
      "source": [
        "for i in range (1, 5):  # passando como parâmetros os valor inicial e final\n",
        "    print(i)"
      ],
      "metadata": {
        "colab": {
          "base_uri": "https://localhost:8080/"
        },
        "id": "wOquHYF-pVJS",
        "outputId": "b6268c3e-012a-479a-c890-d41114667d90"
      },
      "execution_count": 7,
      "outputs": [
        {
          "output_type": "stream",
          "name": "stdout",
          "text": [
            "1\n",
            "2\n",
            "3\n",
            "4\n"
          ]
        }
      ]
    },
    {
      "cell_type": "code",
      "source": [
        "for i in range (10, 20,2):  # passando o incremento como argumento\n",
        "    print(i)"
      ],
      "metadata": {
        "colab": {
          "base_uri": "https://localhost:8080/"
        },
        "id": "9-_OYvkHpaQZ",
        "outputId": "c173bd10-00c5-45e1-f103-b9ce2eb73fd5"
      },
      "execution_count": 9,
      "outputs": [
        {
          "output_type": "stream",
          "name": "stdout",
          "text": [
            "10\n",
            "12\n",
            "14\n",
            "16\n",
            "18\n"
          ]
        }
      ]
    },
    {
      "cell_type": "markdown",
      "source": [
        "## usando ```ELSE``` no laço ```FOR```\n",
        "\n",
        "- especifica um bloco de código a ser executado quando o laço for concluído"
      ],
      "metadata": {
        "id": "BGziJiSnqY3e"
      }
    },
    {
      "cell_type": "code",
      "source": [
        "for n in 'ACCAGG':\n",
        "    print(n)\n",
        "else:\n",
        "    print('Fim do laço')"
      ],
      "metadata": {
        "colab": {
          "base_uri": "https://localhost:8080/"
        },
        "id": "cU7-QrEmqGyQ",
        "outputId": "cb1d2baf-4233-4ee9-fc15-1682b6269047"
      },
      "execution_count": 12,
      "outputs": [
        {
          "output_type": "stream",
          "name": "stdout",
          "text": [
            "A\n",
            "C\n",
            "C\n",
            "A\n",
            "G\n",
            "G\n",
            "Fim do laço\n"
          ]
        }
      ]
    },
    {
      "cell_type": "markdown",
      "source": [
        "## Laços Aninhados\n",
        "\n",
        "- o laço interno será executado uma vez para cada interação do laço externo"
      ],
      "metadata": {
        "id": "SPlmRjInrNJf"
      }
    },
    {
      "cell_type": "code",
      "source": [
        "seq = 'ACTG'\n",
        "for n in seq:\n",
        "    for m in seq:\n",
        "        print(n,m)"
      ],
      "metadata": {
        "colab": {
          "base_uri": "https://localhost:8080/"
        },
        "id": "PRTdlgd8qzbf",
        "outputId": "f6157bf2-96b4-4a25-fce3-42f17b9b8428"
      },
      "execution_count": 17,
      "outputs": [
        {
          "output_type": "stream",
          "name": "stdout",
          "text": [
            "A A\n",
            "A C\n",
            "A T\n",
            "A G\n",
            "C A\n",
            "C C\n",
            "C T\n",
            "C G\n",
            "T A\n",
            "T C\n",
            "T T\n",
            "T G\n",
            "G A\n",
            "G C\n",
            "G T\n",
            "G G\n"
          ]
        }
      ]
    },
    {
      "cell_type": "code",
      "source": [
        "for i in range(5):\n",
        "    for j in range(5):\n",
        "        print(i+j,end=' ') # imprime as linhas\n",
        "    print() # imprime um enter"
      ],
      "metadata": {
        "colab": {
          "base_uri": "https://localhost:8080/"
        },
        "id": "byUHaYolX42o",
        "outputId": "b691e385-f42c-4dae-b81e-87c7fd775000"
      },
      "execution_count": 21,
      "outputs": [
        {
          "output_type": "stream",
          "name": "stdout",
          "text": [
            "0 1 2 3 4 \n",
            "1 2 3 4 5 \n",
            "2 3 4 5 6 \n",
            "3 4 5 6 7 \n",
            "4 5 6 7 8 \n"
          ]
        }
      ]
    },
    {
      "cell_type": "markdown",
      "source": [
        "## Laços Infinitos\n",
        "\n",
        "- laços que nunca terminam de executar\n",
        "- podem ocorrer:\n",
        "    - **por um erro de lógica** que não garante que uma condição de parada seja atingida\n",
        "    - **propositalmente** nos casos que desejamos que o usuário encerre o programa manualmente oou que ele execute indefinidamente"
      ],
      "metadata": {
        "id": "M6wg6K6Rrmie"
      }
    },
    {
      "cell_type": "code",
      "source": [
        "i = 0\n",
        "while (i >= 0):\n",
        "    print(i)\n",
        "    i += 1"
      ],
      "metadata": {
        "id": "1JYddV24YkME"
      },
      "execution_count": null,
      "outputs": []
    }
  ]
}