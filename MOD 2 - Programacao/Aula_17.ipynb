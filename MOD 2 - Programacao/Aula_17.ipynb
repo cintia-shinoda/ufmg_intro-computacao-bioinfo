{
  "nbformat": 4,
  "nbformat_minor": 0,
  "metadata": {
    "colab": {
      "provenance": []
    },
    "kernelspec": {
      "name": "python3",
      "display_name": "Python 3"
    },
    "language_info": {
      "name": "python"
    }
  },
  "cells": [
    {
      "cell_type": "markdown",
      "source": [
        "# Aula 17 - Conjuntos\n",
        "- mutável\n",
        "- não ordenada\n",
        "- não indexada\n",
        "- entre chaves\n",
        "- não tem elementos duplicados"
      ],
      "metadata": {
        "id": "Tm-eN9KSJhxA"
      }
    },
    {
      "cell_type": "markdown",
      "source": [
        "## Criando um conjunto"
      ],
      "metadata": {
        "id": "kgASvjZHKWHt"
      }
    },
    {
      "cell_type": "code",
      "execution_count": 1,
      "metadata": {
        "colab": {
          "base_uri": "https://localhost:8080/"
        },
        "id": "OOgxpNU6Jc9H",
        "outputId": "05984de8-168f-4eb3-846a-db78af6be7c5"
      },
      "outputs": [
        {
          "output_type": "stream",
          "name": "stdout",
          "text": [
            "{0, 2, 4, 6, 8, 10}\n"
          ]
        }
      ],
      "source": [
        "pares = {0, 2, 4, 6, 8, 10}\n",
        "print(pares)"
      ]
    },
    {
      "cell_type": "code",
      "source": [
        "type(pares)"
      ],
      "metadata": {
        "colab": {
          "base_uri": "https://localhost:8080/"
        },
        "id": "SW_vsOjcKi6x",
        "outputId": "bae73e80-bfc7-4670-a9ce-5016a4ecc2e4"
      },
      "execution_count": 2,
      "outputs": [
        {
          "output_type": "execute_result",
          "data": {
            "text/plain": [
              "set"
            ]
          },
          "metadata": {},
          "execution_count": 2
        }
      ]
    },
    {
      "cell_type": "markdown",
      "source": [
        "## Operadores para  manipulação de Conjuntos"
      ],
      "metadata": {
        "id": "XN65N5V9K4sZ"
      }
    },
    {
      "cell_type": "markdown",
      "source": [
        "### Verificação de Pertencimento\n",
        "- operador ```in```"
      ],
      "metadata": {
        "id": "0G_CqUQ2LCYe"
      }
    },
    {
      "cell_type": "code",
      "source": [
        "4 in pares"
      ],
      "metadata": {
        "colab": {
          "base_uri": "https://localhost:8080/"
        },
        "id": "xkXoSAZxKw_b",
        "outputId": "4f2622b7-a1d0-4d3c-b120-269c7ed442f3"
      },
      "execution_count": 3,
      "outputs": [
        {
          "output_type": "execute_result",
          "data": {
            "text/plain": [
              "True"
            ]
          },
          "metadata": {},
          "execution_count": 3
        }
      ]
    },
    {
      "cell_type": "markdown",
      "source": [
        "### Troca de Elementos\n",
        "- depois de criado, não se pode alterar seus itens\n",
        "- pode-se adicionar novos itens"
      ],
      "metadata": {
        "id": "AwJDnvhFLR_A"
      }
    },
    {
      "cell_type": "markdown",
      "source": [
        "#### Adicionar só UM elemento\n",
        "- método ```.add()```"
      ],
      "metadata": {
        "id": "Vxv92u9dLsDN"
      }
    },
    {
      "cell_type": "code",
      "source": [
        "pares.add(44)\n",
        "print(pares)"
      ],
      "metadata": {
        "colab": {
          "base_uri": "https://localhost:8080/"
        },
        "id": "4JHTNb7zLQEF",
        "outputId": "c8de7b48-8fc1-4b4d-c1d3-6a5b5f38adbf"
      },
      "execution_count": 4,
      "outputs": [
        {
          "output_type": "stream",
          "name": "stdout",
          "text": [
            "{0, 2, 4, 6, 8, 10, 44}\n"
          ]
        }
      ]
    },
    {
      "cell_type": "markdown",
      "source": [
        "#### Adicionar vários elementos\n",
        "- método ```update()```\n",
        "- passando uma lista como argumento"
      ],
      "metadata": {
        "id": "-pIOrPO1L7gA"
      }
    },
    {
      "cell_type": "code",
      "source": [
        "pares.update([62, 68, 74])\n",
        "print(pares)"
      ],
      "metadata": {
        "colab": {
          "base_uri": "https://localhost:8080/"
        },
        "id": "Rpujj7edL3Vz",
        "outputId": "5d535696-9f3a-4984-a197-180706302341"
      },
      "execution_count": 5,
      "outputs": [
        {
          "output_type": "stream",
          "name": "stdout",
          "text": [
            "{0, 2, 4, 68, 6, 8, 10, 74, 44, 62}\n"
          ]
        }
      ]
    },
    {
      "cell_type": "markdown",
      "source": [
        "### Soma e Multiplicação\n",
        "- efeito de concatenação"
      ],
      "metadata": {
        "id": "OcwT5LaMM4F2"
      }
    },
    {
      "cell_type": "markdown",
      "source": [
        "#### método ```union()```\n",
        "- retorna um novo conjunto contendo todos os itenss de ambos os conjuntos"
      ],
      "metadata": {
        "id": "KDmMrRdzM9dl"
      }
    },
    {
      "cell_type": "code",
      "source": [
        "nucleotideosM = {'A', 'C', 'G', 'T'}\n",
        "nucleotideosm = {'a', 'c', 'g', 't'}\n",
        "nucleotideos = nucleotideosM.union(nucleotideosm)\n",
        "print(nucleotideos)"
      ],
      "metadata": {
        "colab": {
          "base_uri": "https://localhost:8080/"
        },
        "id": "JDon6GWkMJZK",
        "outputId": "3438434e-a01f-4c90-9ee2-9debe34aa985"
      },
      "execution_count": 7,
      "outputs": [
        {
          "output_type": "stream",
          "name": "stdout",
          "text": [
            "{'T', 'A', 'C', 'G', 'c', 't', 'g', 'a'}\n"
          ]
        }
      ]
    },
    {
      "cell_type": "markdown",
      "source": [
        "#### método ```.update()```\n",
        "- insere todos os itens de um conjunto em outro"
      ],
      "metadata": {
        "id": "fqd2PMlNNf0k"
      }
    },
    {
      "cell_type": "code",
      "source": [
        "nucleotideosM.update(nucleotideosm)\n",
        "print(nucleotideosM)\n",
        "print(nucleotideosm)"
      ],
      "metadata": {
        "colab": {
          "base_uri": "https://localhost:8080/"
        },
        "id": "6VJkxjk_NcZP",
        "outputId": "e17426d7-6a50-477a-cb03-7d7701205273"
      },
      "execution_count": 9,
      "outputs": [
        {
          "output_type": "stream",
          "name": "stdout",
          "text": [
            "{'T', 'A', 'C', 'G', 'c', 't', 'g', 'a'}\n",
            "{'c', 'g', 'a', 't'}\n"
          ]
        }
      ]
    },
    {
      "cell_type": "markdown",
      "source": [
        "## Operações Típicas de Conjuntos\n",
        "é possível:\n",
        "- identificar a **diferença**  entre conjuntos: ```difference()```\n",
        "- verificar se dois conjuntos possuem **interseção**: ```intersection()```\n",
        "- verificar se dois conjuntos são **disjuntos**: ```isdisjoint()```\n",
        "- verificar se um conjunto é **subconjunto** de outro: ```issubset()```\n",
        "- verificar se um conjunto é **superconjunto** de outro: ```issuperset()```"
      ],
      "metadata": {
        "id": "wb6ldvCHOlNa"
      }
    },
    {
      "cell_type": "code",
      "source": [
        "pares = {0, 2, 4, 6, 8, 10}\n",
        "impares = {1, 3, 5, 7, 9}\n",
        "naturais = pares.union(impares)"
      ],
      "metadata": {
        "id": "xSNnBsT0N3lI"
      },
      "execution_count": 14,
      "outputs": []
    },
    {
      "cell_type": "code",
      "source": [
        "print(pares)\n",
        "print(impares)\n",
        "print(naturais)"
      ],
      "metadata": {
        "colab": {
          "base_uri": "https://localhost:8080/"
        },
        "id": "B_Q5VZtKPar-",
        "outputId": "e0e7bc8b-7807-4eeb-cb8f-96c5efce03d0"
      },
      "execution_count": 15,
      "outputs": [
        {
          "output_type": "stream",
          "name": "stdout",
          "text": [
            "{0, 2, 4, 6, 8, 10}\n",
            "{1, 3, 5, 7, 9}\n",
            "{0, 1, 2, 3, 4, 5, 6, 7, 8, 9, 10}\n"
          ]
        }
      ]
    },
    {
      "cell_type": "code",
      "source": [
        "# diferença\n",
        "naturais.difference(pares)"
      ],
      "metadata": {
        "colab": {
          "base_uri": "https://localhost:8080/"
        },
        "id": "xA8MfBN_PlCR",
        "outputId": "50d1bad6-fb5f-49a3-eb7b-951b08547dec"
      },
      "execution_count": 17,
      "outputs": [
        {
          "output_type": "execute_result",
          "data": {
            "text/plain": [
              "{1, 3, 5, 7, 9}"
            ]
          },
          "metadata": {},
          "execution_count": 17
        }
      ]
    },
    {
      "cell_type": "code",
      "source": [
        "naturais.issuperset(pares)"
      ],
      "metadata": {
        "colab": {
          "base_uri": "https://localhost:8080/"
        },
        "id": "Z8FvESDGP_f3",
        "outputId": "49d6cead-51b3-41c9-d878-7925f3482d8f"
      },
      "execution_count": 18,
      "outputs": [
        {
          "output_type": "execute_result",
          "data": {
            "text/plain": [
              "True"
            ]
          },
          "metadata": {},
          "execution_count": 18
        }
      ]
    },
    {
      "cell_type": "code",
      "source": [
        "naturais.issubset(impares)"
      ],
      "metadata": {
        "colab": {
          "base_uri": "https://localhost:8080/"
        },
        "id": "aAeZ5STkQG6W",
        "outputId": "2a701de2-4db0-4e2d-bbc2-044def16e88c"
      },
      "execution_count": 19,
      "outputs": [
        {
          "output_type": "execute_result",
          "data": {
            "text/plain": [
              "False"
            ]
          },
          "metadata": {},
          "execution_count": 19
        }
      ]
    },
    {
      "cell_type": "code",
      "source": [
        "pares.isdisjoint(impares)"
      ],
      "metadata": {
        "colab": {
          "base_uri": "https://localhost:8080/"
        },
        "id": "8gGdvpEFQJwT",
        "outputId": "e72c5dcb-37c3-47c3-cc3b-a37314154796"
      },
      "execution_count": 20,
      "outputs": [
        {
          "output_type": "execute_result",
          "data": {
            "text/plain": [
              "True"
            ]
          },
          "metadata": {},
          "execution_count": 20
        }
      ]
    },
    {
      "cell_type": "markdown",
      "source": [
        "### Remoção de Itens\n",
        "- ```remove()```: gera erro se o elemento não existe no conjunto\n",
        "- ```discard()```: não gera erro se o elemento não existe no conjunto\n",
        "- ```pop()```: remove e retorna o último elemento\n",
        "    - como o conjunto não é ordenado, não há como prever qual elemento será retornado"
      ],
      "metadata": {
        "id": "6IK_1n6xQPyv"
      }
    },
    {
      "cell_type": "code",
      "source": [
        "pares.pop()"
      ],
      "metadata": {
        "colab": {
          "base_uri": "https://localhost:8080/"
        },
        "id": "4vcC89ZOQMbl",
        "outputId": "fb493ac5-8f09-4847-c13d-fc5484ce6cf4"
      },
      "execution_count": 21,
      "outputs": [
        {
          "output_type": "execute_result",
          "data": {
            "text/plain": [
              "0"
            ]
          },
          "metadata": {},
          "execution_count": 21
        }
      ]
    },
    {
      "cell_type": "code",
      "source": [
        "pares.remove(0)"
      ],
      "metadata": {
        "colab": {
          "base_uri": "https://localhost:8080/",
          "height": 166
        },
        "id": "UYYu2rluRBL0",
        "outputId": "0321d402-876b-49f1-fbc8-25cef50a4808"
      },
      "execution_count": 22,
      "outputs": [
        {
          "output_type": "error",
          "ename": "KeyError",
          "evalue": "ignored",
          "traceback": [
            "\u001b[0;31m---------------------------------------------------------------------------\u001b[0m",
            "\u001b[0;31mKeyError\u001b[0m                                  Traceback (most recent call last)",
            "\u001b[0;32m<ipython-input-22-ed02eb30e975>\u001b[0m in \u001b[0;36m<module>\u001b[0;34m\u001b[0m\n\u001b[0;32m----> 1\u001b[0;31m \u001b[0mpares\u001b[0m\u001b[0;34m.\u001b[0m\u001b[0mremove\u001b[0m\u001b[0;34m(\u001b[0m\u001b[0;36m0\u001b[0m\u001b[0;34m)\u001b[0m\u001b[0;34m\u001b[0m\u001b[0;34m\u001b[0m\u001b[0m\n\u001b[0m",
            "\u001b[0;31mKeyError\u001b[0m: 0"
          ]
        }
      ]
    },
    {
      "cell_type": "code",
      "source": [
        "pares.discard(0)"
      ],
      "metadata": {
        "id": "CTfxCemhRFU3"
      },
      "execution_count": 23,
      "outputs": []
    },
    {
      "cell_type": "markdown",
      "source": [
        "### Limpeza ou Esvaziamento de um Conjunto\n",
        "- método ```clear()```"
      ],
      "metadata": {
        "id": "8k6IRpkcRJtQ"
      }
    },
    {
      "cell_type": "markdown",
      "source": [
        "### Tamanho de um conjunto\n",
        "- método ```len()```"
      ],
      "metadata": {
        "id": "Vmq75AspRW6i"
      }
    },
    {
      "cell_type": "code",
      "source": [
        "len(pares)"
      ],
      "metadata": {
        "colab": {
          "base_uri": "https://localhost:8080/"
        },
        "id": "l99pLPTLRH4l",
        "outputId": "3b85e995-cf65-4fea-9d8b-093709d0fbfb"
      },
      "execution_count": 24,
      "outputs": [
        {
          "output_type": "execute_result",
          "data": {
            "text/plain": [
              "5"
            ]
          },
          "metadata": {},
          "execution_count": 24
        }
      ]
    },
    {
      "cell_type": "code",
      "source": [
        "pares.clear()\n",
        "print(pares)\n",
        "len(pares)"
      ],
      "metadata": {
        "colab": {
          "base_uri": "https://localhost:8080/"
        },
        "id": "LHdIkYmnRdS-",
        "outputId": "0dc308de-435f-4733-c422-a991ecc2e250"
      },
      "execution_count": 25,
      "outputs": [
        {
          "output_type": "stream",
          "name": "stdout",
          "text": [
            "set()\n"
          ]
        },
        {
          "output_type": "execute_result",
          "data": {
            "text/plain": [
              "0"
            ]
          },
          "metadata": {},
          "execution_count": 25
        }
      ]
    },
    {
      "cell_type": "markdown",
      "source": [
        "## Síntese"
      ],
      "metadata": {
        "id": "p_XwYBFTRxGS"
      }
    },
    {
      "cell_type": "markdown",
      "source": [
        "|  | String | Tupla | Lista | Conjunto |\n",
        "|---|---|---|---|---|\n",
        "| criar | ```s = '' ``` | ```t = ()``` | ```l = []``` | ```c = {'t'}``` |\n",
        "| obter parte | ```s[6:9]``` | ```t[6:9]``` | ```l[6:9] |  |\n",
        "| substituir | ```s.replace('AAA','CCC')``` |  |  |  |\n",
        "| contar | ```s.count('AAA')``` | ```t.count('AAA')``` | ```l.count('AAA')``` |\n",
        "| encontrar | ```s.find('AAA')``` | ```t.index('AAA')``` | ```l.index('AAA')``` |  |\n",
        "| verificar pertencimento | ```'AAA' in s``` | ```'AAA' in t``` | ```'AAA' in l``` | ```'AAA' in c``` |\n",
        "| quebrar | ```s.split('A')``` |  |  |  |"
      ],
      "metadata": {
        "id": "0uXW004oRzhR"
      }
    },
    {
      "cell_type": "code",
      "source": [],
      "metadata": {
        "id": "3h3Ex_6LRm5l"
      },
      "execution_count": null,
      "outputs": []
    }
  ]
}