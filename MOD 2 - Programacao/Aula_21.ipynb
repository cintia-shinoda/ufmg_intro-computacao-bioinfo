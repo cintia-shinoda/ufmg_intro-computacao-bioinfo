{
  "nbformat": 4,
  "nbformat_minor": 0,
  "metadata": {
    "colab": {
      "provenance": []
    },
    "kernelspec": {
      "name": "python3",
      "display_name": "Python 3"
    },
    "language_info": {
      "name": "python"
    }
  },
  "cells": [
    {
      "cell_type": "markdown",
      "source": [
        "# Aula 21 - Estruturas Condicionais"
      ],
      "metadata": {
        "id": "CJ-3JSQMMrB_"
      }
    },
    {
      "cell_type": "markdown",
      "source": [
        "- tomada de decisões com base em algum tipo de condição"
      ],
      "metadata": {
        "id": "ccPK4IY0M2FI"
      }
    },
    {
      "cell_type": "markdown",
      "source": [
        "## ```IF```"
      ],
      "metadata": {
        "id": "mbioCrXy9K6o"
      }
    },
    {
      "cell_type": "code",
      "source": [
        "a = 9\n",
        "b = 5"
      ],
      "metadata": {
        "id": "L6Rs0IE19zCm"
      },
      "execution_count": 2,
      "outputs": []
    },
    {
      "cell_type": "code",
      "execution_count": 3,
      "metadata": {
        "id": "0k9TSsY3Movr"
      },
      "outputs": [],
      "source": [
        "if a == b:\n",
        "    print('variáveis são iguais')"
      ]
    },
    {
      "cell_type": "markdown",
      "source": [
        "### ```IF-ELSE```"
      ],
      "metadata": {
        "id": "mfbynFNY9jHs"
      }
    },
    {
      "cell_type": "code",
      "source": [
        "if a == b:\n",
        "    print('variáveis são iguais')\n",
        "else:\n",
        "    print('variáveis não são iguais')"
      ],
      "metadata": {
        "colab": {
          "base_uri": "https://localhost:8080/"
        },
        "id": "sONaCv309nRK",
        "outputId": "7903131d-6444-4b77-82e2-0d766977c48d"
      },
      "execution_count": 4,
      "outputs": [
        {
          "output_type": "stream",
          "name": "stdout",
          "text": [
            "variáveis não são iguais\n"
          ]
        }
      ]
    },
    {
      "cell_type": "markdown",
      "source": [
        "### ```IF-ELIF```\n",
        "\n",
        "- várias condições devem ser testadas sequencialmente"
      ],
      "metadata": {
        "id": "8T4Zz7LE-JI7"
      }
    },
    {
      "cell_type": "code",
      "source": [
        "if a == b:\n",
        "    print('variáveis são iguais')\n",
        "elif a > b:\n",
        "    print('variável a é maior que b')\n",
        "elif a < b:\n",
        "    print('variávela a é menor que b')\n",
        "\n",
        "# somente uma dass três opções acima será verdadeira\n",
        "# não há limite para o número de condiçõoes elif\n",
        "# sempre deve haver um if inicial"
      ],
      "metadata": {
        "colab": {
          "base_uri": "https://localhost:8080/"
        },
        "id": "SozTBJCM9uXU",
        "outputId": "11f4e2bc-9714-421e-e65f-5a30c8a012da"
      },
      "execution_count": 5,
      "outputs": [
        {
          "output_type": "stream",
          "name": "stdout",
          "text": [
            "variável a é maior que b\n"
          ]
        }
      ]
    },
    {
      "cell_type": "markdown",
      "source": [
        "### ```IF-ELIF-ELSE```"
      ],
      "metadata": {
        "id": "qmb7XW0Y-9G4"
      }
    },
    {
      "cell_type": "code",
      "source": [
        "if a == b:\n",
        "    print('variáveis são iguais')\n",
        "elif a > b:\n",
        "    print('variável a é maior que b')\n",
        "else:\n",
        "    print('variávela a é menor que b')"
      ],
      "metadata": {
        "colab": {
          "base_uri": "https://localhost:8080/"
        },
        "id": "U1S-Anya-1hr",
        "outputId": "c46e10fb-139f-487b-8113-1ebbab7baa38"
      },
      "execution_count": 6,
      "outputs": [
        {
          "output_type": "stream",
          "name": "stdout",
          "text": [
            "variável a é maior que b\n"
          ]
        }
      ]
    },
    {
      "cell_type": "code",
      "source": [
        "# outro exemplo:\n",
        "\n",
        "x = 10\n",
        "if x > 0:\n",
        "    print(x, 'é positivo')\n",
        "    if x % 2 == 0:\n",
        "        print(x, 'é par')\n",
        "    else:\n",
        "        print(x, 'é ímpar')\n",
        "elif x < 0:\n",
        "    print(x, 'é negativo')\n",
        "else:\n",
        "    print(x, 'é ZERO')"
      ],
      "metadata": {
        "colab": {
          "base_uri": "https://localhost:8080/"
        },
        "id": "SKj9akc3_-eG",
        "outputId": "b0f105a3-e333-4af8-c94d-db888dfb9595"
      },
      "execution_count": 10,
      "outputs": [
        {
          "output_type": "stream",
          "name": "stdout",
          "text": [
            "10 é positivo\n",
            "10 é par\n"
          ]
        }
      ]
    },
    {
      "cell_type": "markdown",
      "source": [
        "## Questão de eficiência"
      ],
      "metadata": {
        "id": "Sz_as0TD_jSZ"
      }
    },
    {
      "cell_type": "code",
      "source": [
        "# Opção 1  <- mais ineficiente\n",
        "if a == b:\n",
        "    print('a e b são iguais')\n",
        "if a != b:\n",
        "    print('a e b são diferentes')"
      ],
      "metadata": {
        "colab": {
          "base_uri": "https://localhost:8080/"
        },
        "id": "PT4jO7h9_mtV",
        "outputId": "f5765dca-3c93-4e69-f174-f09cf0fbdb7f"
      },
      "execution_count": 7,
      "outputs": [
        {
          "output_type": "stream",
          "name": "stdout",
          "text": [
            "a e b são diferentes\n"
          ]
        }
      ]
    },
    {
      "cell_type": "code",
      "source": [
        "# Opção 2\n",
        "if a == b:\n",
        "    print('a e b são iguais')\n",
        "elif a != b:\n",
        "    print('a e b são diferentes')"
      ],
      "metadata": {
        "colab": {
          "base_uri": "https://localhost:8080/"
        },
        "id": "062e_PXD_y4H",
        "outputId": "bd6279ac-da8d-4002-b008-2cd8e1762a97"
      },
      "execution_count": 8,
      "outputs": [
        {
          "output_type": "stream",
          "name": "stdout",
          "text": [
            "a e b são diferentes\n"
          ]
        }
      ]
    },
    {
      "cell_type": "markdown",
      "source": [
        "## Python não tem: (tem em outras linguagens:\n",
        "\n",
        "- UNLESS: em Pearl (igual a if not)\n",
        "- SWITCH: em Pearl (comando seletor)"
      ],
      "metadata": {
        "id": "HukIocv_ANNY"
      }
    }
  ]
}