{
  "nbformat": 4,
  "nbformat_minor": 0,
  "metadata": {
    "colab": {
      "provenance": []
    },
    "kernelspec": {
      "name": "python3",
      "display_name": "Python 3"
    },
    "language_info": {
      "name": "python"
    }
  },
  "cells": [
    {
      "cell_type": "markdown",
      "source": [
        "# Exercicio 1\n",
        "\n",
        "Implemente em Python um laço que imprima os números inteiros entre 0 e 10 (incluindo 0 e 10) usando:\n",
        "- for\n",
        "- while"
      ],
      "metadata": {
        "id": "MS93UvfPZeO4"
      }
    },
    {
      "cell_type": "code",
      "execution_count": null,
      "metadata": {
        "id": "gs6x2GowZKk_"
      },
      "outputs": [],
      "source": [
        "# FOR\n",
        "for i in range (0, 11):\n",
        "    print(i)"
      ]
    },
    {
      "cell_type": "code",
      "source": [
        "# WHILE\n",
        "i = 0\n",
        "while i <= 10:\n",
        "    print(i)\n",
        "    i+=1"
      ],
      "metadata": {
        "id": "JR236wWEaj_b"
      },
      "execution_count": null,
      "outputs": []
    },
    {
      "cell_type": "markdown",
      "source": [
        "# Exercicio 2\n",
        "\n",
        "Implemente em Python um laço que imprima os números inteiros PARES entre 0 e 10 (incluindo 0 e 10)\n",
        "usando:\n",
        "- for\n",
        "- while"
      ],
      "metadata": {
        "id": "jQyWfYzzZiyR"
      }
    },
    {
      "cell_type": "code",
      "source": [
        "# FOR\n",
        "for i in range(0, 11, 2):\n",
        "    print(i)"
      ],
      "metadata": {
        "id": "b-T5hvuAZjrA"
      },
      "execution_count": null,
      "outputs": []
    },
    {
      "cell_type": "code",
      "source": [
        "# WHILE\n",
        "i = 0\n",
        "while i <= 10:\n",
        "    print(i)\n",
        "    i+=2"
      ],
      "metadata": {
        "id": "ufD3nY2TbSOr"
      },
      "execution_count": null,
      "outputs": []
    },
    {
      "cell_type": "markdown",
      "source": [
        "# Exercicio 3\n",
        "\n",
        "Utilizando as estruturas de repetição, verifique se a seguinte sequência de pode ser uma sequência de\n",
        "DNA: TATTAACCGGGTTTAAACTAGCATGCATGATTAACCAGTACATCTTTT"
      ],
      "metadata": {
        "id": "usYo89NTZkKl"
      }
    },
    {
      "cell_type": "code",
      "source": [
        "seq = 'TATTAACCGGGTTTAAACTAGCATGCATGATTAACCAGTACATCTTTT'\n",
        "nucleotideos = ['A', 'C', 'T', 'G']\n",
        "\n",
        "for i in range(0, len(seq)):\n",
        "    if not seq[i] in nucleotideos:\n",
        "        print('Não pode ser uma sequência de DNA')\n",
        "        break\n",
        "if i == len(seq) - 1:\n",
        "    print('Pode ser uma sequência de DNA')"
      ],
      "metadata": {
        "colab": {
          "base_uri": "https://localhost:8080/"
        },
        "id": "mSnz9L68ZlN2",
        "outputId": "9988e212-48dd-4806-a244-6447b107423e"
      },
      "execution_count": null,
      "outputs": [
        {
          "output_type": "stream",
          "name": "stdout",
          "text": [
            "Pode ser uma sequência de DNA\n"
          ]
        }
      ]
    },
    {
      "cell_type": "markdown",
      "source": [
        "# Exercicio 4\n",
        "\n",
        "Escreva um programa em Python que calcule e imprima todos os divisores dos números entre 1 e 100."
      ],
      "metadata": {
        "id": "rFIWfmQiZly1"
      }
    },
    {
      "cell_type": "code",
      "source": [
        "for i in range(1, 101):\n",
        "    divisores = []\n",
        "    for d in range(1, i+1):\n",
        "        if i % d == 0:\n",
        "            divisores.append(d)\n",
        "    print(i, divisores)"
      ],
      "metadata": {
        "id": "pQgFAY9BZnDi"
      },
      "execution_count": null,
      "outputs": []
    },
    {
      "cell_type": "markdown",
      "source": [
        "# Exercicio 5\n",
        "\n",
        "Modifique o programa anterior para imprimir apenas os números primos entre 1 e 1.000.\n",
        "\n",
        "Dica: os números primos são aqueles que são divisíveis apenas por 1 e por eles mesmos."
      ],
      "metadata": {
        "id": "5ZfdQj54Zn3J"
      }
    },
    {
      "cell_type": "code",
      "source": [
        "for i in range(1, 101):\n",
        "    divisores = []\n",
        "    for d in range(1, i+1):\n",
        "        if i % d == 0:\n",
        "            divisores.append(d)\n",
        "    if len(divisores) == 2:\n",
        "        print(i, end=' ')"
      ],
      "metadata": {
        "colab": {
          "base_uri": "https://localhost:8080/"
        },
        "id": "xMzcDlurZo75",
        "outputId": "2f416f41-e4ba-45c3-c6c3-b88d5adf69b0"
      },
      "execution_count": 3,
      "outputs": [
        {
          "output_type": "stream",
          "name": "stdout",
          "text": [
            "2 3 5 7 11 13 17 19 23 29 31 37 41 43 47 53 59 61 67 71 73 79 83 89 97 "
          ]
        }
      ]
    },
    {
      "cell_type": "markdown",
      "source": [
        "# Exercicio 6\n",
        "\n",
        "Considerando a seguinte sequência, escreva um programa em Python que identifique e imprima a\n",
        "localização de toda ocorrência da subsequência 'AAA'\n",
        "\n",
        "VRSSSRTPSDKPVAAAAHVVANPQAEGQLQWLNRRANALLANGVELRDNQLVVPSEGLYLIYSQVLAAAFKGQGCPSTHVLLTHTISRIAVSYQTKVNLLSAIKAAASPCQRETPEGAEAKPWYEPIYLGGVFQLEKGDRLSAAAAEINRPDYLLFAESGQVYFGIIAL"
      ],
      "metadata": {
        "id": "7jYjRZUJZpWW"
      }
    },
    {
      "cell_type": "code",
      "source": [
        "sequencia = 'VRSSSRTPSDKPVAAAAHVVANPQAEGQLQWLNRRANALLANGVELRDNQLVVPSEGL \\\n",
        "YLIYSQVLAAAFKGQGCPSTHVLLTHTISRIAVSYQTKVNLLSAIKAAASPCQRETPEGAEAKPWYEPIYL \\\n",
        "GGVFQLEKGDRLSAAAAEINRPDYLLFAESGQVYFGIIAL'\n",
        "\n",
        "for i in range(0, len(sequencia)):\n",
        "    if sequencia[i:i+3] == 'AAA':\n",
        "        print('AAA em ', i)"
      ],
      "metadata": {
        "colab": {
          "base_uri": "https://localhost:8080/"
        },
        "id": "aThnk1vQZqf1",
        "outputId": "9644238c-b40b-4b91-ef1f-f70864dc5a0d"
      },
      "execution_count": null,
      "outputs": [
        {
          "output_type": "stream",
          "name": "stdout",
          "text": [
            "AAA em  13\n",
            "AAA em  14\n",
            "AAA em  67\n",
            "AAA em  105\n",
            "AAA em  144\n",
            "AAA em  145\n"
          ]
        }
      ]
    },
    {
      "cell_type": "markdown",
      "source": [
        "# Exercicio 7\n",
        "\n",
        "Considere a seguinte lista de sequências, identifique e imprima a maior delas: 'KTCENLA', 'DTFR',\n",
        "'GPCFTDGSC', 'DDHCKNKEHLIK', 'GRCRDDFRC', 'WCTRNC', 'ATC'"
      ],
      "metadata": {
        "id": "wifD_rMfZq76"
      }
    },
    {
      "cell_type": "code",
      "source": [
        "lista_seq = ['KTCENLA', 'DTFR', 'GPCFTDGSC', 'DDHCKNKEHLIK', 'GRCRDDFRC', 'WCTRNC', 'ATC']\n",
        "maior = 0\n",
        "maior_indx = 0\n",
        "for i in range(0, len(lista_seq)):\n",
        "    if len(lista_seq[i]) > maior:\n",
        "        maior = len(lista_seq[i])\n",
        "        maior_indx = i\n",
        "print(lista_seq[maior_indx], maior)"
      ],
      "metadata": {
        "colab": {
          "base_uri": "https://localhost:8080/"
        },
        "id": "5lRc6GjuZr20",
        "outputId": "ee6d5d2b-bd22-4d81-b775-f14e7ee58829"
      },
      "execution_count": 5,
      "outputs": [
        {
          "output_type": "stream",
          "name": "stdout",
          "text": [
            "DDHCKNKEHLIK 12\n"
          ]
        }
      ]
    },
    {
      "cell_type": "markdown",
      "source": [
        "# Exercicio 8\n",
        "\n",
        "Dada a seguinte lista de números, implemente em Python o cálculo da média dos números da lista e\n",
        "imprima o resultado: 1,4,6,3,4,5,7,8,9,5,6,7,4,3,5,6,7,8"
      ],
      "metadata": {
        "id": "hUI75TiCZtY_"
      }
    },
    {
      "cell_type": "code",
      "source": [
        "lista_num = [1,4,6,3,4,5,7,8,9,5,6,7,4,3,5,6,7,8]\n",
        "soma = 0\n",
        "for i in lista_num:\n",
        "    soma += i\n",
        "    media = soma / len(lista_num)\n",
        "print('Média: ', media)\n"
      ],
      "metadata": {
        "colab": {
          "base_uri": "https://localhost:8080/"
        },
        "id": "M5-nyZlNZuIf",
        "outputId": "646127de-c755-4b51-eca9-297aab087737"
      },
      "execution_count": null,
      "outputs": [
        {
          "output_type": "stream",
          "name": "stdout",
          "text": [
            "Média:  5.444444444444445\n"
          ]
        }
      ]
    }
  ]
}