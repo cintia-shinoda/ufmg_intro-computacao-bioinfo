{
  "nbformat": 4,
  "nbformat_minor": 0,
  "metadata": {
    "colab": {
      "provenance": []
    },
    "kernelspec": {
      "name": "python3",
      "display_name": "Python 3"
    },
    "language_info": {
      "name": "python"
    }
  },
  "cells": [
    {
      "cell_type": "markdown",
      "source": [
        "# Aula 12 - Strings"
      ],
      "metadata": {
        "id": "jDPGazeQ7DR8"
      }
    },
    {
      "cell_type": "markdown",
      "source": [
        "- armazena uma cadeia de caracteres\n",
        "- é uma variável composta"
      ],
      "metadata": {
        "id": "amyWz5hq7I1z"
      }
    },
    {
      "cell_type": "markdown",
      "source": [
        "## Métodos para Manipulação de Strings"
      ],
      "metadata": {
        "id": "nL7JlSCu8HwA"
      }
    },
    {
      "cell_type": "markdown",
      "source": [
        "### Identificar o tipo de dado:"
      ],
      "metadata": {
        "id": "LeFRwkD88YuI"
      }
    },
    {
      "cell_type": "code",
      "source": [
        "x = 2\n",
        "type(x)"
      ],
      "metadata": {
        "colab": {
          "base_uri": "https://localhost:8080/"
        },
        "id": "9mf3GpQ_75I0",
        "outputId": "8dc30af6-86f3-4a72-ce4f-2edeba314b52"
      },
      "execution_count": 2,
      "outputs": [
        {
          "output_type": "execute_result",
          "data": {
            "text/plain": [
              "int"
            ]
          },
          "metadata": {},
          "execution_count": 2
        }
      ]
    },
    {
      "cell_type": "code",
      "source": [
        "x = 'a'\n",
        "type(x)"
      ],
      "metadata": {
        "colab": {
          "base_uri": "https://localhost:8080/"
        },
        "id": "tBgxS4o19CPk",
        "outputId": "ebcfab79-4612-45d7-dabb-b46644b9f065"
      },
      "execution_count": 4,
      "outputs": [
        {
          "output_type": "execute_result",
          "data": {
            "text/plain": [
              "str"
            ]
          },
          "metadata": {},
          "execution_count": 4
        }
      ]
    },
    {
      "cell_type": "code",
      "execution_count": 19,
      "metadata": {
        "colab": {
          "base_uri": "https://localhost:8080/"
        },
        "id": "Urc2OPm57Aki",
        "outputId": "55e0d067-8940-43f9-cbf7-155c255f206f"
      },
      "outputs": [
        {
          "output_type": "execute_result",
          "data": {
            "text/plain": [
              "str"
            ]
          },
          "metadata": {},
          "execution_count": 19
        }
      ],
      "source": [
        "sequencia = 'ACTTGGCAGTGACAAAGTGCATGGGGGGACT'\n",
        "type(sequencia)"
      ]
    },
    {
      "cell_type": "markdown",
      "source": [
        "### Substituições de partes em Strings\n",
        "\n",
        "- método ```.replace()```\n",
        "- recebe como argumentos a subsequência que será substituída e a subsequência que substituirá\n"
      ],
      "metadata": {
        "id": "lXTmeTnm96bL"
      }
    },
    {
      "cell_type": "code",
      "source": [
        "# o método replace (sem a variável + =) NÃO substitui a string original\n",
        "sequencia.replace('ACT', 'CCC')\n",
        "print(sequencia)"
      ],
      "metadata": {
        "colab": {
          "base_uri": "https://localhost:8080/"
        },
        "id": "Cr6MqQUj9GzW",
        "outputId": "bbc1ead3-deb3-43ca-8bc9-6fe29ce8c952"
      },
      "execution_count": 20,
      "outputs": [
        {
          "output_type": "stream",
          "name": "stdout",
          "text": [
            "ACTTGGCAGTGACAAAGTGCATGGGGGGACT\n"
          ]
        }
      ]
    },
    {
      "cell_type": "code",
      "source": [
        "# para manter a substituição\n",
        "sequencia = sequencia.replace('ACT', 'CCC')\n",
        "print(sequencia)"
      ],
      "metadata": {
        "colab": {
          "base_uri": "https://localhost:8080/"
        },
        "id": "rEvnAQRu_DoL",
        "outputId": "2fa64b28-1acb-48e4-8c4e-741db736435a"
      },
      "execution_count": 25,
      "outputs": [
        {
          "output_type": "stream",
          "name": "stdout",
          "text": [
            "CCCTGGCAGTGACAAAGTGCATGGGGGGCCC\n"
          ]
        }
      ]
    },
    {
      "cell_type": "markdown",
      "source": [
        "### Contagem de ocorrência de partes em Strings\n",
        "- método ```.count()```"
      ],
      "metadata": {
        "id": "8Q9gDXVyAxKA"
      }
    },
    {
      "cell_type": "code",
      "source": [
        "sequencia.count('AAA')"
      ],
      "metadata": {
        "colab": {
          "base_uri": "https://localhost:8080/"
        },
        "id": "xsaZbOml_UWg",
        "outputId": "7cd19d04-5903-4641-87cf-1a3640b0446f"
      },
      "execution_count": 21,
      "outputs": [
        {
          "output_type": "execute_result",
          "data": {
            "text/plain": [
              "1"
            ]
          },
          "metadata": {},
          "execution_count": 21
        }
      ]
    },
    {
      "cell_type": "markdown",
      "source": [
        "### Encontrar a posição de uma parte em Strings\n",
        "- método ```.find()```\n",
        "- recebe como argumento uma sequência e retorna em que posição se encontra essa subsequência\n",
        "- se não for encontrada, retorna -1\n",
        "- a contagem da posição se inicia no ZERO"
      ],
      "metadata": {
        "id": "uZHIWvlWBSQ6"
      }
    },
    {
      "cell_type": "code",
      "source": [
        "# a primeira ocorrência\n",
        "sequencia.find('AAA')"
      ],
      "metadata": {
        "colab": {
          "base_uri": "https://localhost:8080/"
        },
        "id": "B78QNmy3BBO6",
        "outputId": "fe517ba8-bb79-464e-e372-0cb6090b76ac"
      },
      "execution_count": 22,
      "outputs": [
        {
          "output_type": "execute_result",
          "data": {
            "text/plain": [
              "13"
            ]
          },
          "metadata": {},
          "execution_count": 22
        }
      ]
    },
    {
      "cell_type": "code",
      "source": [
        "# sequencia[sequencia.find('AAA')]"
      ],
      "metadata": {
        "id": "q55NiFl6ECfZ"
      },
      "execution_count": 34,
      "outputs": []
    },
    {
      "cell_type": "code",
      "source": [
        "# encontar o caractere em determinada posição\n",
        "print(sequencia)\n",
        "sequencia[0]"
      ],
      "metadata": {
        "colab": {
          "base_uri": "https://localhost:8080/",
          "height": 53
        },
        "id": "46tDznpFCPOb",
        "outputId": "293ba32e-4924-4c8e-8124-56d6fcd5d968"
      },
      "execution_count": 28,
      "outputs": [
        {
          "output_type": "stream",
          "name": "stdout",
          "text": [
            "CCCTGGCAGTGACAAAGTGCATGGGGGGCCC\n"
          ]
        },
        {
          "output_type": "execute_result",
          "data": {
            "text/plain": [
              "'C'"
            ],
            "application/vnd.google.colaboratory.intrinsic+json": {
              "type": "string"
            }
          },
          "metadata": {},
          "execution_count": 28
        }
      ]
    },
    {
      "cell_type": "code",
      "source": [
        "# retornar um intervalo da String\n",
        "print(sequencia)\n",
        "sequencia[23:30]  # intervalo aberto (nesse exemplo, retorna até a posição 29)"
      ],
      "metadata": {
        "colab": {
          "base_uri": "https://localhost:8080/",
          "height": 53
        },
        "id": "9tyEqIpFCgxj",
        "outputId": "54fbfce6-59c8-45bc-ce47-0e5927aa84e7"
      },
      "execution_count": 29,
      "outputs": [
        {
          "output_type": "stream",
          "name": "stdout",
          "text": [
            "CCCTGGCAGTGACAAAGTGCATGGGGGGCCC\n"
          ]
        },
        {
          "output_type": "execute_result",
          "data": {
            "text/plain": [
              "'GGGGGCC'"
            ],
            "application/vnd.google.colaboratory.intrinsic+json": {
              "type": "string"
            }
          },
          "metadata": {},
          "execution_count": 29
        }
      ]
    },
    {
      "cell_type": "code",
      "source": [
        "# retornar à partir da posição 23 até o final\n",
        "print(sequencia)\n",
        "sequencia[23:]"
      ],
      "metadata": {
        "colab": {
          "base_uri": "https://localhost:8080/",
          "height": 53
        },
        "id": "rntr_HqQC5Uh",
        "outputId": "478f179a-2c92-4394-f0c8-c80526c3c8a1"
      },
      "execution_count": 30,
      "outputs": [
        {
          "output_type": "stream",
          "name": "stdout",
          "text": [
            "CCCTGGCAGTGACAAAGTGCATGGGGGGCCC\n"
          ]
        },
        {
          "output_type": "execute_result",
          "data": {
            "text/plain": [
              "'GGGGGCCC'"
            ],
            "application/vnd.google.colaboratory.intrinsic+json": {
              "type": "string"
            }
          },
          "metadata": {},
          "execution_count": 30
        }
      ]
    },
    {
      "cell_type": "code",
      "source": [
        "# retornar do início até a posição 23\n",
        "print(sequencia)\n",
        "sequencia[:24]"
      ],
      "metadata": {
        "colab": {
          "base_uri": "https://localhost:8080/",
          "height": 53
        },
        "id": "TpDRV0QtDqFt",
        "outputId": "41a204f2-d2ff-404b-9c51-212da59d5a27"
      },
      "execution_count": 31,
      "outputs": [
        {
          "output_type": "stream",
          "name": "stdout",
          "text": [
            "CCCTGGCAGTGACAAAGTGCATGGGGGGCCC\n"
          ]
        },
        {
          "output_type": "execute_result",
          "data": {
            "text/plain": [
              "'CCCTGGCAGTGACAAAGTGCATGG'"
            ],
            "application/vnd.google.colaboratory.intrinsic+json": {
              "type": "string"
            }
          },
          "metadata": {},
          "execution_count": 31
        }
      ]
    },
    {
      "cell_type": "code",
      "source": [
        "# retorna de -5 até o final\n",
        "sequencia[-5:]"
      ],
      "metadata": {
        "colab": {
          "base_uri": "https://localhost:8080/",
          "height": 35
        },
        "id": "x5cyeV58D5ov",
        "outputId": "230f70ec-c573-4841-b6da-0760883ec3b1"
      },
      "execution_count": 32,
      "outputs": [
        {
          "output_type": "execute_result",
          "data": {
            "text/plain": [
              "'GGCCC'"
            ],
            "application/vnd.google.colaboratory.intrinsic+json": {
              "type": "string"
            }
          },
          "metadata": {},
          "execution_count": 32
        }
      ]
    },
    {
      "cell_type": "code",
      "source": [
        "# substring que não existe na string\n",
        "sequencia.find('K')"
      ],
      "metadata": {
        "colab": {
          "base_uri": "https://localhost:8080/"
        },
        "id": "Z3fTgBoHEVq6",
        "outputId": "bde90b5d-1038-454c-b0f8-7c2609f168bb"
      },
      "execution_count": 35,
      "outputs": [
        {
          "output_type": "execute_result",
          "data": {
            "text/plain": [
              "-1"
            ]
          },
          "metadata": {},
          "execution_count": 35
        }
      ]
    },
    {
      "cell_type": "markdown",
      "source": [
        "### Separação / Quebra de Strings\n",
        "- métdodo ```.split()```\n",
        "- retorna uma lista"
      ],
      "metadata": {
        "id": "ACftkPwnE1aa"
      }
    },
    {
      "cell_type": "code",
      "source": [
        "print(sequencia)\n",
        "sequencia.split('A')"
      ],
      "metadata": {
        "colab": {
          "base_uri": "https://localhost:8080/"
        },
        "id": "6qwS99wVEtUa",
        "outputId": "48bdf41d-f616-46a5-d7a9-787e2b2edc3d"
      },
      "execution_count": 36,
      "outputs": [
        {
          "output_type": "stream",
          "name": "stdout",
          "text": [
            "CCCTGGCAGTGACAAAGTGCATGGGGGGCCC\n"
          ]
        },
        {
          "output_type": "execute_result",
          "data": {
            "text/plain": [
              "['CCCTGGC', 'GTG', 'C', '', '', 'GTGC', 'TGGGGGGCCC']"
            ]
          },
          "metadata": {},
          "execution_count": 36
        }
      ]
    },
    {
      "cell_type": "code",
      "source": [
        "# se o trecho for passado em branco, retorna uma lista com 1 elemento que é a sequência\n",
        "print(sequencia)\n",
        "sequencia.split()"
      ],
      "metadata": {
        "colab": {
          "base_uri": "https://localhost:8080/"
        },
        "id": "3bhkZ_IiFC_M",
        "outputId": "85a6726a-ae74-4101-d81d-fec4311d576c"
      },
      "execution_count": 38,
      "outputs": [
        {
          "output_type": "stream",
          "name": "stdout",
          "text": [
            "CCCTGGCAGTGACAAAGTGCATGGGGGGCCC\n"
          ]
        },
        {
          "output_type": "execute_result",
          "data": {
            "text/plain": [
              "['CCCTGGCAGTGACAAAGTGCATGGGGGGCCC']"
            ]
          },
          "metadata": {},
          "execution_count": 38
        }
      ]
    },
    {
      "cell_type": "markdown",
      "source": [
        "### Concatenação de Strings\n",
        "- unir strings\n",
        "- método ```.join()```"
      ],
      "metadata": {
        "id": "T96jaEFSF8J7"
      }
    },
    {
      "cell_type": "code",
      "source": [
        "','.join(sequencia)"
      ],
      "metadata": {
        "colab": {
          "base_uri": "https://localhost:8080/",
          "height": 35
        },
        "id": "FVAGNsAdFddb",
        "outputId": "6c0e3b09-a428-4e99-d416-78f56839c2b0"
      },
      "execution_count": 40,
      "outputs": [
        {
          "output_type": "execute_result",
          "data": {
            "text/plain": [
              "'C,C,C,T,G,G,C,A,G,T,G,A,C,A,A,A,G,T,G,C,A,T,G,G,G,G,G,G,C,C,C'"
            ],
            "application/vnd.google.colaboratory.intrinsic+json": {
              "type": "string"
            }
          },
          "metadata": {},
          "execution_count": 40
        }
      ]
    },
    {
      "cell_type": "markdown",
      "source": [
        "### Mudança de case em Strings"
      ],
      "metadata": {
        "id": "Y3trYbBdGqwU"
      }
    },
    {
      "cell_type": "code",
      "source": [
        "sequencia.upper()\n",
        "sequencia.lower()\n",
        "sequencia.capitalize()  # apenas a primeira letra em maiúsculo\n",
        "sequencia.title() # cada primeira letra de palavra em maiúsculo\n",
        "sequencia.swapcase() # inversão de maiúsculo para minúsculo e vice-versa"
      ],
      "metadata": {
        "id": "JfYuCM05GGAH"
      },
      "execution_count": null,
      "outputs": []
    },
    {
      "cell_type": "code",
      "source": [
        "# funções que retornam valores booleanos de acordo com os testes realizados\n",
        "isupper()\n",
        "islower()\n",
        "istitle()\n",
        "isalnum()\n",
        "isalpha()\n",
        "isdigit()\n",
        "issspace()"
      ],
      "metadata": {
        "id": "uW25AcaIHlVn"
      },
      "execution_count": null,
      "outputs": []
    },
    {
      "cell_type": "code",
      "source": [
        "sequencia.upper()"
      ],
      "metadata": {
        "colab": {
          "base_uri": "https://localhost:8080/",
          "height": 35
        },
        "id": "pxOIteC9IM0g",
        "outputId": "6317590f-6054-402d-ee4e-b4db5b455180"
      },
      "execution_count": 41,
      "outputs": [
        {
          "output_type": "execute_result",
          "data": {
            "text/plain": [
              "'CCCTGGCAGTGACAAAGTGCATGGGGGGCCC'"
            ],
            "application/vnd.google.colaboratory.intrinsic+json": {
              "type": "string"
            }
          },
          "metadata": {},
          "execution_count": 41
        }
      ]
    },
    {
      "cell_type": "code",
      "source": [
        "sequencia.lower()"
      ],
      "metadata": {
        "colab": {
          "base_uri": "https://localhost:8080/",
          "height": 35
        },
        "id": "O-4lkAUEIOp0",
        "outputId": "254a7315-2fee-4298-ac38-71822516856b"
      },
      "execution_count": 42,
      "outputs": [
        {
          "output_type": "execute_result",
          "data": {
            "text/plain": [
              "'ccctggcagtgacaaagtgcatggggggccc'"
            ],
            "application/vnd.google.colaboratory.intrinsic+json": {
              "type": "string"
            }
          },
          "metadata": {},
          "execution_count": 42
        }
      ]
    },
    {
      "cell_type": "code",
      "source": [
        "# apenas a primeira letra em maiúsculo\n",
        "frase = 'são paulo, 20 de março de 2023'\n",
        "frase.capitalize()"
      ],
      "metadata": {
        "colab": {
          "base_uri": "https://localhost:8080/",
          "height": 35
        },
        "id": "1BHQIutsISW0",
        "outputId": "83336aa3-62b4-40d0-e453-73f3ac25adcc"
      },
      "execution_count": 45,
      "outputs": [
        {
          "output_type": "execute_result",
          "data": {
            "text/plain": [
              "'São paulo, 20 de março de 2023'"
            ],
            "application/vnd.google.colaboratory.intrinsic+json": {
              "type": "string"
            }
          },
          "metadata": {},
          "execution_count": 45
        }
      ]
    },
    {
      "cell_type": "code",
      "source": [
        "# cada primeira letra de palavra em maiúsculo\n",
        "frase.title()"
      ],
      "metadata": {
        "colab": {
          "base_uri": "https://localhost:8080/",
          "height": 35
        },
        "id": "YA76-7bzIVXX",
        "outputId": "22ba1f4a-8141-4e8a-eb0a-fb144911f006"
      },
      "execution_count": 46,
      "outputs": [
        {
          "output_type": "execute_result",
          "data": {
            "text/plain": [
              "'São Paulo, 20 De Março De 2023'"
            ],
            "application/vnd.google.colaboratory.intrinsic+json": {
              "type": "string"
            }
          },
          "metadata": {},
          "execution_count": 46
        }
      ]
    },
    {
      "cell_type": "code",
      "source": [
        "# swapcase: inversão de maiúsculo para minúsculo e vice-versa\n",
        "frase.title().swapcase()"
      ],
      "metadata": {
        "colab": {
          "base_uri": "https://localhost:8080/",
          "height": 35
        },
        "id": "MGjjlyL-Iqbp",
        "outputId": "fdf81211-2715-40f3-e1ea-69e8377edd26"
      },
      "execution_count": 48,
      "outputs": [
        {
          "output_type": "execute_result",
          "data": {
            "text/plain": [
              "'SÃO PAULO, 20 DE MARÇO DE 2023'"
            ],
            "application/vnd.google.colaboratory.intrinsic+json": {
              "type": "string"
            }
          },
          "metadata": {},
          "execution_count": 48
        }
      ]
    },
    {
      "cell_type": "markdown",
      "source": [
        "### Trabalhando com espaços em Strings\n"
      ],
      "metadata": {
        "id": "FXJd1cW8JKmb"
      }
    },
    {
      "cell_type": "code",
      "source": [
        "# justificar uma string em um determinado espaço\n",
        "'AAA'.ljust(15)\n",
        "'AAA'.ljust(15)\n",
        "'AAA'.center(15)"
      ],
      "metadata": {
        "id": "MkMxzh83I7tV"
      },
      "execution_count": null,
      "outputs": []
    },
    {
      "cell_type": "code",
      "source": [
        "# remover espaços no início e fim da string\n",
        "sequencia.strip()\n",
        "sequencia.lstrip()\n",
        "sequencia.rstrip()"
      ],
      "metadata": {
        "id": "xPILZ4KuJf01"
      },
      "execution_count": null,
      "outputs": []
    },
    {
      "cell_type": "code",
      "source": [
        "frase.ljust(80)"
      ],
      "metadata": {
        "colab": {
          "base_uri": "https://localhost:8080/",
          "height": 35
        },
        "id": "ci73cHqCKT39",
        "outputId": "0cc3abc1-eb25-4552-9c2e-8b3c4e8547d4"
      },
      "execution_count": 49,
      "outputs": [
        {
          "output_type": "execute_result",
          "data": {
            "text/plain": [
              "'são paulo, 20 de março de 2023                                                  '"
            ],
            "application/vnd.google.colaboratory.intrinsic+json": {
              "type": "string"
            }
          },
          "metadata": {},
          "execution_count": 49
        }
      ]
    },
    {
      "cell_type": "code",
      "source": [
        "frase.center(80)"
      ],
      "metadata": {
        "colab": {
          "base_uri": "https://localhost:8080/",
          "height": 35
        },
        "id": "rMRjhstEKY-A",
        "outputId": "d292d8b5-19f9-4db5-f6cb-9ed965d877e8"
      },
      "execution_count": 50,
      "outputs": [
        {
          "output_type": "execute_result",
          "data": {
            "text/plain": [
              "'                         são paulo, 20 de março de 2023                         '"
            ],
            "application/vnd.google.colaboratory.intrinsic+json": {
              "type": "string"
            }
          },
          "metadata": {},
          "execution_count": 50
        }
      ]
    },
    {
      "cell_type": "code",
      "source": [
        "frase.rjust(80)"
      ],
      "metadata": {
        "colab": {
          "base_uri": "https://localhost:8080/",
          "height": 35
        },
        "id": "fos8sC_OKfS9",
        "outputId": "7a561a1f-cdb5-4c5a-e5b5-ad24884e71cc"
      },
      "execution_count": 51,
      "outputs": [
        {
          "output_type": "execute_result",
          "data": {
            "text/plain": [
              "'                                                  são paulo, 20 de março de 2023'"
            ],
            "application/vnd.google.colaboratory.intrinsic+json": {
              "type": "string"
            }
          },
          "metadata": {},
          "execution_count": 51
        }
      ]
    },
    {
      "cell_type": "code",
      "source": [
        "texto = '     primeira     segunda    '\n",
        "texto.strip()"
      ],
      "metadata": {
        "colab": {
          "base_uri": "https://localhost:8080/",
          "height": 35
        },
        "id": "zOsirM1kKlOL",
        "outputId": "aff83a01-2cf1-4312-ffb8-fc01937a7288"
      },
      "execution_count": 56,
      "outputs": [
        {
          "output_type": "execute_result",
          "data": {
            "text/plain": [
              "'primeira     segunda'"
            ],
            "application/vnd.google.colaboratory.intrinsic+json": {
              "type": "string"
            }
          },
          "metadata": {},
          "execution_count": 56
        }
      ]
    },
    {
      "cell_type": "code",
      "source": [
        "print(texto)\n",
        "texto.lstrip()"
      ],
      "metadata": {
        "colab": {
          "base_uri": "https://localhost:8080/",
          "height": 53
        },
        "id": "F0PgioAEK21g",
        "outputId": "c54d68b9-65a0-451c-b6c2-2524b203f77d"
      },
      "execution_count": 57,
      "outputs": [
        {
          "output_type": "stream",
          "name": "stdout",
          "text": [
            "     primeira     segunda    \n"
          ]
        },
        {
          "output_type": "execute_result",
          "data": {
            "text/plain": [
              "'primeira     segunda    '"
            ],
            "application/vnd.google.colaboratory.intrinsic+json": {
              "type": "string"
            }
          },
          "metadata": {},
          "execution_count": 57
        }
      ]
    },
    {
      "cell_type": "code",
      "source": [
        "texto.rstrip()"
      ],
      "metadata": {
        "colab": {
          "base_uri": "https://localhost:8080/",
          "height": 35
        },
        "id": "hh1IztMtK5u5",
        "outputId": "b9549541-5f6e-49e6-8f02-536a62f34ca7"
      },
      "execution_count": 58,
      "outputs": [
        {
          "output_type": "execute_result",
          "data": {
            "text/plain": [
              "'     primeira     segunda'"
            ],
            "application/vnd.google.colaboratory.intrinsic+json": {
              "type": "string"
            }
          },
          "metadata": {},
          "execution_count": 58
        }
      ]
    },
    {
      "cell_type": "markdown",
      "source": [
        "### Comprimento de uma String\n",
        "- método ```.len()```\n",
        "- método nativo de Python (não é um método de sequência - esse método se aplica-se a todas variáveis compostas)\n",
        "- retorna o comprimento de uma string\n"
      ],
      "metadata": {
        "id": "65oZ50zWLR4j"
      }
    },
    {
      "cell_type": "code",
      "source": [
        "len(sequencia)"
      ],
      "metadata": {
        "colab": {
          "base_uri": "https://localhost:8080/"
        },
        "id": "NGR_F-j4LOAj",
        "outputId": "73761857-65ba-4d44-c57e-1cc1602aa31a"
      },
      "execution_count": 60,
      "outputs": [
        {
          "output_type": "execute_result",
          "data": {
            "text/plain": [
              "31"
            ]
          },
          "metadata": {},
          "execution_count": 60
        }
      ]
    },
    {
      "cell_type": "code",
      "source": [],
      "metadata": {
        "id": "eV1hgHm8Ln-H"
      },
      "execution_count": null,
      "outputs": []
    }
  ]
}