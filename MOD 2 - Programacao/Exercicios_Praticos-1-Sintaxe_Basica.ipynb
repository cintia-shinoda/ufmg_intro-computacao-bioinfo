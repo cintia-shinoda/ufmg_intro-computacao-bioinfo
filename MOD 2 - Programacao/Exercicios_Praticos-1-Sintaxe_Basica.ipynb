{
 "cells": [
  {
   "cell_type": "markdown",
   "id": "b506538a",
   "metadata": {},
   "source": [
    "## Exercícios Práticos - Sintaxe Básica"
   ]
  },
  {
   "cell_type": "markdown",
   "id": "a28504c4",
   "metadata": {},
   "source": [
    "### Exercício 1"
   ]
  },
  {
   "cell_type": "code",
   "execution_count": 1,
   "id": "35e74f4f",
   "metadata": {},
   "outputs": [
    {
     "name": "stdout",
     "output_type": "stream",
     "text": [
      "python\n"
     ]
    }
   ],
   "source": [
    "linguagem = \"python\"\n",
    "print(linguagem)"
   ]
  },
  {
   "cell_type": "markdown",
   "id": "c2f5fe65",
   "metadata": {},
   "source": [
    "### Exercício 2"
   ]
  },
  {
   "cell_type": "code",
   "execution_count": 2,
   "id": "a00bf51c",
   "metadata": {},
   "outputs": [
    {
     "name": "stdout",
     "output_type": "stream",
     "text": [
      "1835\n",
      "502500\n",
      "1165\n"
     ]
    }
   ],
   "source": [
    "a = 1500\n",
    "b = 335\n",
    "print(a+b)\n",
    "print(a*b)\n",
    "print(a-b)"
   ]
  },
  {
   "cell_type": "markdown",
   "id": "ffcdc203",
   "metadata": {},
   "source": [
    "### Exercício 3"
   ]
  },
  {
   "cell_type": "code",
   "execution_count": 3,
   "id": "15f1504a",
   "metadata": {},
   "outputs": [
    {
     "name": "stdout",
     "output_type": "stream",
     "text": [
      "Marrie Currie!!! \n"
     ]
    }
   ],
   "source": [
    "a = \"Marrie\"\n",
    "b = \" Currie \"\n",
    "c = \"!!!\"\n",
    "print(a + b + c)"
   ]
  },
  {
   "cell_type": "markdown",
   "id": "766f60ed",
   "metadata": {},
   "source": [
    "### Exercício 4"
   ]
  },
  {
   "cell_type": "code",
   "execution_count": 4,
   "id": "53562911",
   "metadata": {},
   "outputs": [
    {
     "name": "stdout",
     "output_type": "stream",
     "text": [
      "True\n"
     ]
    }
   ],
   "source": [
    "print (2 + 3 == 5)"
   ]
  },
  {
   "cell_type": "markdown",
   "id": "a2482e0e",
   "metadata": {},
   "source": [
    "### Exercicio 5"
   ]
  },
  {
   "cell_type": "code",
   "execution_count": 5,
   "id": "e9f8f419",
   "metadata": {},
   "outputs": [
    {
     "name": "stdout",
     "output_type": "stream",
     "text": [
      "False\n"
     ]
    }
   ],
   "source": [
    "print(5 + 9 == 13)"
   ]
  },
  {
   "cell_type": "markdown",
   "id": "6f817cbf",
   "metadata": {},
   "source": [
    "### Exercício 6"
   ]
  },
  {
   "cell_type": "code",
   "execution_count": 6,
   "id": "cf523506",
   "metadata": {},
   "outputs": [
    {
     "name": "stdout",
     "output_type": "stream",
     "text": [
      "3.1415\n"
     ]
    }
   ],
   "source": [
    "pi = 3.1415  #valor do número pi\n",
    "print(pi)"
   ]
  },
  {
   "cell_type": "markdown",
   "id": "fd38fecf",
   "metadata": {},
   "source": [
    "### Exercício 7"
   ]
  },
  {
   "cell_type": "code",
   "execution_count": null,
   "id": "72ce1749",
   "metadata": {},
   "outputs": [],
   "source": [
    "pi = 3.1415  # valor do número pi\n",
    "    print(pi)  # com um \"tab\" antes do print(pi)"
   ]
  }
 ],
 "metadata": {
  "kernelspec": {
   "display_name": "Python 3 (ipykernel)",
   "language": "python",
   "name": "python3"
  },
  "language_info": {
   "codemirror_mode": {
    "name": "ipython",
    "version": 3
   },
   "file_extension": ".py",
   "mimetype": "text/x-python",
   "name": "python",
   "nbconvert_exporter": "python",
   "pygments_lexer": "ipython3",
   "version": "3.8.12"
  }
 },
 "nbformat": 4,
 "nbformat_minor": 5
}
