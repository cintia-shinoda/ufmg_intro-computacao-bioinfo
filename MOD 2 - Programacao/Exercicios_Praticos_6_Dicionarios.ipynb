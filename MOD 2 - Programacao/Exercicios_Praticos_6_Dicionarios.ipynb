{
  "nbformat": 4,
  "nbformat_minor": 0,
  "metadata": {
    "colab": {
      "provenance": []
    },
    "kernelspec": {
      "name": "python3",
      "display_name": "Python 3"
    },
    "language_info": {
      "name": "python"
    }
  },
  "cells": [
    {
      "cell_type": "markdown",
      "source": [
        "O Protein Data Bank (PDB) é uma base de dados de estruturas de proteínas. Cada entrada da base de\n",
        "dados é identificada de por um id de 4 letras/dígitos como por exemplo “1ABC”. \n",
        "\n",
        "Abaixo são apresentados ids de estruturas PDBs, juntamente com a a contagem de aminoácidos presentes nessas estruturas."
      ],
      "metadata": {
        "id": "RLXNN7mLZ46U"
      }
    },
    {
      "cell_type": "markdown",
      "source": [
        "## A\n",
        "\n",
        "Construa um dicionário onde os ids PDB sejam as chaves e o número de resíduos de aminoácidos sejam o\n",
        "valor. "
      ],
      "metadata": {
        "id": "PViLBGQdVQ4m"
      }
    },
    {
      "cell_type": "code",
      "execution_count": 1,
      "metadata": {
        "colab": {
          "base_uri": "https://localhost:8080/"
        },
        "id": "67mucDTOVBGe",
        "outputId": "0f6c341d-ca3b-41b3-a4b6-cf78a7df3d81"
      },
      "outputs": [
        {
          "output_type": "stream",
          "name": "stdout",
          "text": [
            "{'1A8M': 471, '1TNR': 283, '2AZ5': 592, '1TNF': 471, '2TNF': 468, '2TUN': 942, '4TSV': 150, '5TSW': 900, '2E7A': 471, '6RMJ': 489}\n"
          ]
        }
      ],
      "source": [
        "pdb_dict = {'1A8M':471, '1TNR':283, '2AZ5':592, '1TNF':471, '2TNF':468, \\\n",
        "            '2TUN':942, '4TSV':150, '5TSW':900, '2E7A':471, '6RMJ':489}\n",
        "print(pdb_dict)"
      ]
    },
    {
      "cell_type": "markdown",
      "source": [
        "## B\n",
        "\n",
        "Imprima os valores contidos nos ids 2TNF e 2E7A. "
      ],
      "metadata": {
        "id": "JDAnqoAlVUNF"
      }
    },
    {
      "cell_type": "code",
      "source": [
        "print(pdb_dict['2TNF'])"
      ],
      "metadata": {
        "colab": {
          "base_uri": "https://localhost:8080/"
        },
        "id": "nSPUPKwHWSeP",
        "outputId": "b250ba54-d189-4b7f-81dc-c98098646348"
      },
      "execution_count": 2,
      "outputs": [
        {
          "output_type": "stream",
          "name": "stdout",
          "text": [
            "468\n"
          ]
        }
      ]
    },
    {
      "cell_type": "code",
      "source": [
        "print(pdb_dict['2E7A'])"
      ],
      "metadata": {
        "colab": {
          "base_uri": "https://localhost:8080/"
        },
        "id": "Hk98eVmgWdfK",
        "outputId": "d4a79793-5fb7-44fa-9e92-cd694dd7c51f"
      },
      "execution_count": 3,
      "outputs": [
        {
          "output_type": "stream",
          "name": "stdout",
          "text": [
            "471\n"
          ]
        }
      ]
    },
    {
      "cell_type": "markdown",
      "source": [
        "## C\n",
        "\n",
        "Verifique e imprima o tamanho do dicionário construído "
      ],
      "metadata": {
        "id": "S6cVe6dqWS-t"
      }
    },
    {
      "cell_type": "code",
      "source": [
        "print(len(pdb_dict))"
      ],
      "metadata": {
        "colab": {
          "base_uri": "https://localhost:8080/"
        },
        "id": "hTrrgiUiWi5a",
        "outputId": "b6dd4819-f348-409c-9b67-a11ecc1a99de"
      },
      "execution_count": 4,
      "outputs": [
        {
          "output_type": "stream",
          "name": "stdout",
          "text": [
            "10\n"
          ]
        }
      ]
    },
    {
      "cell_type": "markdown",
      "source": [
        "## D\n",
        "\n",
        "Obtenha e imprima a lista de todas as chaves do dicionário "
      ],
      "metadata": {
        "id": "LtuHokPcWjWl"
      }
    },
    {
      "cell_type": "code",
      "source": [
        "print(pdb_dict.keys())"
      ],
      "metadata": {
        "colab": {
          "base_uri": "https://localhost:8080/"
        },
        "id": "96hJz1LLWpYB",
        "outputId": "9c5a692b-bc1b-4f5f-9507-31424ee7358f"
      },
      "execution_count": 6,
      "outputs": [
        {
          "output_type": "stream",
          "name": "stdout",
          "text": [
            "dict_keys(['1A8M', '1TNR', '2AZ5', '1TNF', '2TNF', '2TUN', '4TSV', '5TSW', '2E7A', '6RMJ'])\n"
          ]
        }
      ]
    },
    {
      "cell_type": "markdown",
      "source": [
        "## E\n",
        "\n",
        "Obtenha e imprima a lista de todos os valores do dicionário "
      ],
      "metadata": {
        "id": "Z_2nEKyJW1nD"
      }
    },
    {
      "cell_type": "code",
      "source": [
        "print(pdb_dict.values())"
      ],
      "metadata": {
        "colab": {
          "base_uri": "https://localhost:8080/"
        },
        "id": "dQsrjI8ZW0C7",
        "outputId": "ceae3560-2124-4d7b-d02b-9e80500c1e5c"
      },
      "execution_count": 7,
      "outputs": [
        {
          "output_type": "stream",
          "name": "stdout",
          "text": [
            "dict_values([471, 283, 592, 471, 468, 942, 150, 900, 471, 489])\n"
          ]
        }
      ]
    },
    {
      "cell_type": "markdown",
      "source": [
        "## F\n",
        "\n",
        "Obtenha e imprima uma lista de tuplas com todos os pares chave-valor. Cada dupla será um par ordenado\n",
        "(chave, valor). "
      ],
      "metadata": {
        "id": "eilGcyxdW-_A"
      }
    },
    {
      "cell_type": "code",
      "source": [
        "print(pdb_dict.items())"
      ],
      "metadata": {
        "colab": {
          "base_uri": "https://localhost:8080/"
        },
        "id": "NjiG8Jf2W-AA",
        "outputId": "81c473d7-0a4d-4bc1-d5ef-04317d3ede98"
      },
      "execution_count": 8,
      "outputs": [
        {
          "output_type": "stream",
          "name": "stdout",
          "text": [
            "dict_items([('1A8M', 471), ('1TNR', 283), ('2AZ5', 592), ('1TNF', 471), ('2TNF', 468), ('2TUN', 942), ('4TSV', 150), ('5TSW', 900), ('2E7A', 471), ('6RMJ', 489)])\n"
          ]
        }
      ]
    }
  ]
}