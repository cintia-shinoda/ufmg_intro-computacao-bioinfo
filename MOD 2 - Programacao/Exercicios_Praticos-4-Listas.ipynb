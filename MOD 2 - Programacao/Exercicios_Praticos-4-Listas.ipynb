{
  "nbformat": 4,
  "nbformat_minor": 0,
  "metadata": {
    "colab": {
      "provenance": []
    },
    "kernelspec": {
      "name": "python3",
      "display_name": "Python 3"
    },
    "language_info": {
      "name": "python"
    }
  },
  "cells": [
    {
      "cell_type": "markdown",
      "source": [
        "# Exercício 1\n",
        "\n",
        "O GenBank é um banco de dados de sequências biológicas disponíveis publicamente e é produzido e\n",
        "mantido pelo National Center for Biotechnology Information (NCBI). As sequências podem ser acessadas por\n",
        "identificadores, no caso das sequências proteicas, o formato dos números de acesso é composto por 3 letras\n",
        "+ 5 numerais ou 3 letras + 7 numerais. Realize as seguintes tarefas em Python com base nos identificadores\n",
        "abaixo:"
      ],
      "metadata": {
        "id": "_upLP-pWmeJa"
      }
    },
    {
      "cell_type": "markdown",
      "source": [
        "## A\n",
        "\n",
        "Crie uma lista com esses identificadores, obtenha e imprima tamanho da lista criada. "
      ],
      "metadata": {
        "id": "iLFEvIPemjdD"
      }
    },
    {
      "cell_type": "code",
      "execution_count": 5,
      "metadata": {
        "id": "MfJ-c7NPmVMR"
      },
      "outputs": [],
      "source": [
        "num_acesso  =['AAY66821.1', 'AAY66759.1', 'AAY66711.1', 'AAY66706.1', 'AAY66703.1', 'AAY66697.1', \\\n",
        "'AAY66696.1', 'AAY66682.1', 'AAY66647.1', 'AAY66625.1', 'AAY66623.1', 'AAY66620.1', \\\n",
        "'AAY66619.1', 'AAY66616.1', 'AAY66609.1', 'AAY66607.1', 'AAY66586.1', 'AAY66564.1', \\\n",
        "'AAY66562.1', 'AAY66561.1', 'AAY66558.1', 'AAY66544.1', 'AAY66542.1', 'AAY66539.1', \\\n",
        "'AAY66538.1', 'AAY66537.1', 'AAY66536.1', 'AAY66512.1', 'AAY66496.1', 'AAM93627.1', \\\n",
        "'AAM93626.1', 'AAY66506.1', 'AAM93587.1', 'AAY66811.1', 'AAY66620.1', 'AAY66555.1', \\\n",
        "'AAY66707.1', 'AAM93653.1', 'AAY66608.1', 'AAY66700.1', 'AAY66646.1', 'AAY66809.1', \\\n",
        "'AAK97814.1', 'AAK97810.1', 'AAY66594.1', 'AAY66685.1', 'AAY66571.1', 'AAY66865.1']"
      ]
    },
    {
      "cell_type": "code",
      "source": [
        "print(len(num_acesso))"
      ],
      "metadata": {
        "colab": {
          "base_uri": "https://localhost:8080/"
        },
        "id": "1TT1Fnuzoe8e",
        "outputId": "21ea8d96-7aa0-4d1a-f021-dfabcc4d5b37"
      },
      "execution_count": 7,
      "outputs": [
        {
          "output_type": "stream",
          "name": "stdout",
          "text": [
            "48\n"
          ]
        }
      ]
    },
    {
      "cell_type": "markdown",
      "source": [
        "## B\n",
        "\n",
        "Verifique a presença dos seguintes identificadores:\n",
        "AAY66682.1, AAY66504.1, AAY66640.1, AAY66562.1, AAY66816.1 "
      ],
      "metadata": {
        "id": "VY2aJx3yoVt1"
      }
    },
    {
      "cell_type": "code",
      "source": [
        "print('AAY66682.1' in num_acesso)\n",
        "print('AAY66504.1' in num_acesso)\n",
        "print('AAY66640.1' in num_acesso)\n",
        "print('AAY66562.1' in num_acesso)\n",
        "print('AAY66816.1' in num_acesso)"
      ],
      "metadata": {
        "colab": {
          "base_uri": "https://localhost:8080/"
        },
        "id": "eXTePbyAomGn",
        "outputId": "6a42bce0-dc14-41cd-bfb5-922ec140ec3b"
      },
      "execution_count": 8,
      "outputs": [
        {
          "output_type": "stream",
          "name": "stdout",
          "text": [
            "True\n",
            "False\n",
            "False\n",
            "True\n",
            "False\n"
          ]
        }
      ]
    },
    {
      "cell_type": "markdown",
      "source": [
        "## C\n",
        "\n",
        "Obtenha e imprima o elemento presente na posição 10 da lista. "
      ],
      "metadata": {
        "id": "r_7kaDrGomj5"
      }
    },
    {
      "cell_type": "code",
      "source": [
        "print(num_acesso[10])"
      ],
      "metadata": {
        "colab": {
          "base_uri": "https://localhost:8080/"
        },
        "id": "OlNZEB0ppQvL",
        "outputId": "59e51f61-05cc-4ce5-a68c-9fa65d5c7ba8"
      },
      "execution_count": 9,
      "outputs": [
        {
          "output_type": "stream",
          "name": "stdout",
          "text": [
            "AAY66623.1\n"
          ]
        }
      ]
    },
    {
      "cell_type": "markdown",
      "source": [
        "## D\n",
        "\n",
        "Insira os identificadores nas posições indicadas e imprima a lista final:\n",
        "- AAY66967.1 posição 11\n",
        "- AAY66880.1 posição 21\n",
        "- AAY66874.1 posição 16"
      ],
      "metadata": {
        "id": "DzMkK9GZpRQg"
      }
    },
    {
      "cell_type": "code",
      "source": [
        "num_acesso.insert(11, 'AAY66967.1')\n",
        "num_acesso.insert(21, 'AAY66880.1')\n",
        "num_acesso.insert(16, 'AAY66874.1')\n",
        "\n",
        "print(num_acesso)"
      ],
      "metadata": {
        "colab": {
          "base_uri": "https://localhost:8080/"
        },
        "id": "lLI2ayFYpf49",
        "outputId": "4c21c47c-9242-4851-a68a-34672bc4b749"
      },
      "execution_count": 10,
      "outputs": [
        {
          "output_type": "stream",
          "name": "stdout",
          "text": [
            "['AAY66821.1', 'AAY66759.1', 'AAY66711.1', 'AAY66706.1', 'AAY66703.1', 'AAY66697.1', 'AAY66696.1', 'AAY66682.1', 'AAY66647.1', 'AAY66625.1', 'AAY66623.1', 'AAY66967.1', 'AAY66620.1', 'AAY66619.1', 'AAY66616.1', 'AAY66609.1', 'AAY66874.1', 'AAY66607.1', 'AAY66586.1', 'AAY66564.1', 'AAY66562.1', 'AAY66561.1', 'AAY66880.1', 'AAY66558.1', 'AAY66544.1', 'AAY66542.1', 'AAY66539.1', 'AAY66538.1', 'AAY66537.1', 'AAY66536.1', 'AAY66512.1', 'AAY66496.1', 'AAM93627.1', 'AAM93626.1', 'AAY66506.1', 'AAM93587.1', 'AAY66811.1', 'AAY66620.1', 'AAY66555.1', 'AAY66707.1', 'AAM93653.1', 'AAY66608.1', 'AAY66700.1', 'AAY66646.1', 'AAY66809.1', 'AAK97814.1', 'AAK97810.1', 'AAY66594.1', 'AAY66685.1', 'AAY66571.1', 'AAY66865.1']\n"
          ]
        }
      ]
    },
    {
      "cell_type": "markdown",
      "source": [
        "## E\n",
        "\n",
        "Verifique o elemento na posição 8 e em seguida o retire da lista e imprima a lista final. "
      ],
      "metadata": {
        "id": "GC_C9WC8pgR8"
      }
    },
    {
      "cell_type": "code",
      "source": [
        "print(num_acesso[8])\n",
        "num_acesso.pop(8)\n",
        "print(num_acesso)"
      ],
      "metadata": {
        "colab": {
          "base_uri": "https://localhost:8080/"
        },
        "id": "1ql3r7luqOyV",
        "outputId": "feeba56b-dd03-4152-b6a3-b5bf22580726"
      },
      "execution_count": 12,
      "outputs": [
        {
          "output_type": "stream",
          "name": "stdout",
          "text": [
            "AAY66647.1\n",
            "['AAY66821.1', 'AAY66759.1', 'AAY66711.1', 'AAY66706.1', 'AAY66703.1', 'AAY66697.1', 'AAY66696.1', 'AAY66682.1', 'AAY66625.1', 'AAY66623.1', 'AAY66967.1', 'AAY66620.1', 'AAY66619.1', 'AAY66616.1', 'AAY66609.1', 'AAY66874.1', 'AAY66607.1', 'AAY66586.1', 'AAY66564.1', 'AAY66562.1', 'AAY66561.1', 'AAY66880.1', 'AAY66558.1', 'AAY66544.1', 'AAY66542.1', 'AAY66539.1', 'AAY66538.1', 'AAY66537.1', 'AAY66536.1', 'AAY66512.1', 'AAY66496.1', 'AAM93627.1', 'AAM93626.1', 'AAY66506.1', 'AAM93587.1', 'AAY66811.1', 'AAY66620.1', 'AAY66555.1', 'AAY66707.1', 'AAM93653.1', 'AAY66608.1', 'AAY66700.1', 'AAY66646.1', 'AAY66809.1', 'AAK97814.1', 'AAK97810.1', 'AAY66594.1', 'AAY66685.1', 'AAY66571.1', 'AAY66865.1']\n"
          ]
        }
      ]
    },
    {
      "cell_type": "markdown",
      "source": [
        "# Exercicio 2\n",
        "\n",
        "Em um experimento de docking proteína-proteína (por exemplo) foram obtidos os seguintes valores reais\n",
        "de energias: \n",
        "\n",
        "Realize as seguintes tarefas em Python: "
      ],
      "metadata": {
        "id": "kYHi_5NOqPKO"
      }
    },
    {
      "cell_type": "markdown",
      "source": [
        "## A\n",
        "\n",
        "Crie uma lista contendo os valores acima e imprima essa lista. "
      ],
      "metadata": {
        "id": "zuP8ONLAqz_F"
      }
    },
    {
      "cell_type": "code",
      "source": [
        "energias = [-695.9, -884.3, -658.2, -917.9, -799.8, -842.1, -618.6, -726.6, -652.6, -594.8, \\\n",
        "-536.1, -788.2, -772.1, -676.9, -600.2, -575, -575.3,-603.4, -659.6, -715.3, \\\n",
        "-643.8, -703, -763.1, -712.1, -719, -574.2, -594.1, -700.3, -742.1, -621.9, \\\n",
        "-649.7, -663.3, -825.3, -849.3, -616.5, -675.1, -572.8,-624.2, -608, -615.3, \\\n",
        "-572.8, -665.3, -644.6,-788.9, -631.8, -707.4, -715.2, -728.2, -729, -642.1,  \\\n",
        "-567.8 , -596.5, -551.5, -735, -805.5, -696.7, -617.9, -606.5, -658.8, -667.8, \\\n",
        "-689.5, -728.4, -564, -725.8, -623.2, -637, -570.9, -646.6, -703.2, -722.3, \\\n",
        "-624.1, -655.4]\n",
        "\n",
        "print(energias)"
      ],
      "metadata": {
        "colab": {
          "base_uri": "https://localhost:8080/"
        },
        "id": "6Uh2MNoFqwSQ",
        "outputId": "dbf0a72f-4469-4b4b-9125-321b6024719e"
      },
      "execution_count": 14,
      "outputs": [
        {
          "output_type": "stream",
          "name": "stdout",
          "text": [
            "[-695.9, -884.3, -658.2, -917.9, -799.8, -842.1, -618.6, -726.6, -652.6, -594.8, -536.1, -788.2, -772.1, -676.9, -600.2, -575, -575.3, -603.4, -659.6, -715.3, -643.8, -703, -763.1, -712.1, -719, -574.2, -594.1, -700.3, -742.1, -621.9, -649.7, -663.3, -825.3, -849.3, -616.5, -675.1, -572.8, -624.2, -608, -615.3, -572.8, -665.3, -644.6, -788.9, -631.8, -707.4, -715.2, -728.2, -729, -642.1, -567.8, -596.5, -551.5, -735, -805.5, -696.7, -617.9, -606.5, -658.8, -667.8, -689.5, -728.4, -564, -725.8, -623.2, -637, -570.9, -646.6, -703.2, -722.3, -624.1, -655.4]\n"
          ]
        }
      ]
    },
    {
      "cell_type": "markdown",
      "source": [
        "## B\n",
        "\n",
        "Obtenha e imprima o tamanho da lista. "
      ],
      "metadata": {
        "id": "_LscYbWEq1Vm"
      }
    },
    {
      "cell_type": "code",
      "source": [
        "print(len(energias))"
      ],
      "metadata": {
        "colab": {
          "base_uri": "https://localhost:8080/"
        },
        "id": "2JIzibNWrHJA",
        "outputId": "e97f0a65-5104-425a-cc6d-a60b84228712"
      },
      "execution_count": 15,
      "outputs": [
        {
          "output_type": "stream",
          "name": "stdout",
          "text": [
            "72\n"
          ]
        }
      ]
    },
    {
      "cell_type": "markdown",
      "source": [
        "## C\n",
        "\n",
        "Retorne o melhor score, considerando que o melhor modelo é aquele que apresenta a menor energia. "
      ],
      "metadata": {
        "id": "FVLUAC0SrHhH"
      }
    },
    {
      "cell_type": "code",
      "source": [
        "print(min(energias))"
      ],
      "metadata": {
        "colab": {
          "base_uri": "https://localhost:8080/"
        },
        "id": "OK9YRCVErMPR",
        "outputId": "5ef3e98a-9618-4d26-c508-2e4de3402c38"
      },
      "execution_count": 16,
      "outputs": [
        {
          "output_type": "stream",
          "name": "stdout",
          "text": [
            "-917.9\n"
          ]
        }
      ]
    },
    {
      "cell_type": "markdown",
      "source": [
        "## D\n",
        "\n",
        "Retorne o pior score considerando que o mesmo apresenta a maior energia"
      ],
      "metadata": {
        "id": "OhAKHDNyrMlP"
      }
    },
    {
      "cell_type": "code",
      "source": [
        "print(max(energias))"
      ],
      "metadata": {
        "colab": {
          "base_uri": "https://localhost:8080/"
        },
        "id": "HrZbpWa-rUMs",
        "outputId": "22e5277a-d7f2-4f22-8dad-4ce5eec160b2"
      },
      "execution_count": 17,
      "outputs": [
        {
          "output_type": "stream",
          "name": "stdout",
          "text": [
            "-536.1\n"
          ]
        }
      ]
    },
    {
      "cell_type": "markdown",
      "source": [
        "## E\n",
        "\n",
        "Remova o valor -575 da lista criada. "
      ],
      "metadata": {
        "id": "ddQud_i1rUxk"
      }
    },
    {
      "cell_type": "code",
      "source": [
        "energias.remove(-575)"
      ],
      "metadata": {
        "colab": {
          "base_uri": "https://localhost:8080/"
        },
        "id": "zMxP2SRfrZiI",
        "outputId": "a5c27538-7a2c-42bc-ff55-378540dab401"
      },
      "execution_count": 18,
      "outputs": [
        {
          "output_type": "execute_result",
          "data": {
            "text/plain": [
              "71"
            ]
          },
          "metadata": {},
          "execution_count": 18
        }
      ]
    },
    {
      "cell_type": "markdown",
      "source": [
        "## F\n",
        "\n",
        "Ordene e imprima a lista criada em ordem crescente. "
      ],
      "metadata": {
        "id": "wyvCiyBI2z_J"
      }
    },
    {
      "cell_type": "code",
      "source": [
        "energias.sort()\n",
        "print(energias)"
      ],
      "metadata": {
        "colab": {
          "base_uri": "https://localhost:8080/"
        },
        "id": "0FCbGNfRrirg",
        "outputId": "0db8c0d2-a778-42a1-b4d1-4a61408e2370"
      },
      "execution_count": 20,
      "outputs": [
        {
          "output_type": "stream",
          "name": "stdout",
          "text": [
            "[-917.9, -884.3, -849.3, -842.1, -825.3, -805.5, -799.8, -788.9, -788.2, -772.1, -763.1, -742.1, -735, -729, -728.4, -728.2, -726.6, -725.8, -722.3, -719, -715.3, -715.2, -712.1, -707.4, -703.2, -703, -700.3, -696.7, -695.9, -689.5, -676.9, -675.1, -667.8, -665.3, -663.3, -659.6, -658.8, -658.2, -655.4, -652.6, -649.7, -646.6, -644.6, -643.8, -642.1, -637, -631.8, -624.2, -624.1, -623.2, -621.9, -618.6, -617.9, -616.5, -615.3, -608, -606.5, -603.4, -600.2, -596.5, -594.8, -594.1, -575.3, -574.2, -572.8, -572.8, -570.9, -567.8, -564, -551.5, -536.1]\n"
          ]
        }
      ]
    },
    {
      "cell_type": "markdown",
      "source": [
        "## G\n",
        "\n",
        "Utilizando a lista ordenada na atividade anterior retorne o seu reverso (lista decrescente). "
      ],
      "metadata": {
        "id": "uGQ4cWce25E6"
      }
    },
    {
      "cell_type": "code",
      "source": [
        "energias.reverse()\n",
        "print(energias)"
      ],
      "metadata": {
        "colab": {
          "base_uri": "https://localhost:8080/"
        },
        "id": "i3Gd5E7mrsZN",
        "outputId": "f126bd6a-e469-4022-f40e-8524db5f39f3"
      },
      "execution_count": 21,
      "outputs": [
        {
          "output_type": "stream",
          "name": "stdout",
          "text": [
            "[-536.1, -551.5, -564, -567.8, -570.9, -572.8, -572.8, -574.2, -575.3, -594.1, -594.8, -596.5, -600.2, -603.4, -606.5, -608, -615.3, -616.5, -617.9, -618.6, -621.9, -623.2, -624.1, -624.2, -631.8, -637, -642.1, -643.8, -644.6, -646.6, -649.7, -652.6, -655.4, -658.2, -658.8, -659.6, -663.3, -665.3, -667.8, -675.1, -676.9, -689.5, -695.9, -696.7, -700.3, -703, -703.2, -707.4, -712.1, -715.2, -715.3, -719, -722.3, -725.8, -726.6, -728.2, -728.4, -729, -735, -742.1, -763.1, -772.1, -788.2, -788.9, -799.8, -805.5, -825.3, -842.1, -849.3, -884.3, -917.9]\n"
          ]
        }
      ]
    }
  ]
}