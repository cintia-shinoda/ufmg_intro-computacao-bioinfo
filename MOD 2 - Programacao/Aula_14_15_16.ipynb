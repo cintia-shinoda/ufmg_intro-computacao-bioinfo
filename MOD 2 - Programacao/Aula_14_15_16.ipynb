{
  "nbformat": 4,
  "nbformat_minor": 0,
  "metadata": {
    "colab": {
      "provenance": []
    },
    "kernelspec": {
      "name": "python3",
      "display_name": "Python 3"
    },
    "language_info": {
      "name": "python"
    }
  },
  "cells": [
    {
      "cell_type": "markdown",
      "source": [
        "# Aula 14-15-16 - Listas"
      ],
      "metadata": {
        "id": "t1PXa33j8LH_"
      }
    },
    {
      "cell_type": "markdown",
      "source": [
        "- em outras liguagens: vetores ou arranjos\n",
        "- variável composta heterogênea\n",
        "- estrutura de dados composta por itens organizados de forma linear\n",
        "- sequência mutável\n",
        "- delimitadas por colchetes: ```[]```\n",
        "- acessado por índices (se inicia no índice zero)\n"
      ],
      "metadata": {
        "id": "XUkeJ4Wu8PSB"
      }
    },
    {
      "cell_type": "code",
      "source": [
        "proteinas = ['1A6M', '2MM1', '1CHO', '2PTI', '1A6N']\n",
        "tamanhos = [153, 155, 233, 245, 150]\n",
        "heterogeneo = ['1A6M', 153, '2MM1', 155, '1CHO', 233, '1A6N', 245]"
      ],
      "metadata": {
        "id": "sOnY7Aad8K14"
      },
      "execution_count": null,
      "outputs": []
    },
    {
      "cell_type": "markdown",
      "source": [
        "## Criando Listas"
      ],
      "metadata": {
        "id": "ismvO96OBLqe"
      }
    },
    {
      "cell_type": "code",
      "execution_count": 1,
      "metadata": {
        "id": "s8JEV1F677R8"
      },
      "outputs": [],
      "source": [
        "# lista vazia\n",
        "lista_vazia = []"
      ]
    },
    {
      "cell_type": "code",
      "source": [
        "# lista de listas\n",
        "proteina1 = ['A', 'K', 'G', 'E', 'A']\n",
        "proteina2 = ['A', 'K', 'G', 'E', 'A']\n",
        "uniao = [proteina1, proteina2, 'K', 'G', 'E']\n",
        "print(uniao)"
      ],
      "metadata": {
        "colab": {
          "base_uri": "https://localhost:8080/"
        },
        "id": "9T_P7Nw1BXK7",
        "outputId": "c77885ce-9db4-4ea7-b0f8-0178a30bdb81"
      },
      "execution_count": 3,
      "outputs": [
        {
          "output_type": "stream",
          "name": "stdout",
          "text": [
            "[['A', 'K', 'G', 'E', 'A'], ['A', 'K', 'G', 'E', 'A'], 'K', 'G', 'E']\n"
          ]
        }
      ]
    },
    {
      "cell_type": "markdown",
      "source": [
        "## Acessando itens da Lista\n",
        "- pelos índices"
      ],
      "metadata": {
        "id": "Ycd53f10GU3G"
      }
    },
    {
      "cell_type": "code",
      "source": [
        "print(uniao[0])"
      ],
      "metadata": {
        "colab": {
          "base_uri": "https://localhost:8080/"
        },
        "id": "3UJY84RnBsim",
        "outputId": "54d2c6fb-b6f2-478d-b0ae-c4f8a62a26c5"
      },
      "execution_count": 4,
      "outputs": [
        {
          "output_type": "stream",
          "name": "stdout",
          "text": [
            "['A', 'K', 'G', 'E', 'A']\n"
          ]
        }
      ]
    },
    {
      "cell_type": "code",
      "source": [
        "print(uniao[0][0])"
      ],
      "metadata": {
        "colab": {
          "base_uri": "https://localhost:8080/"
        },
        "id": "vFw5Ad5wGeG9",
        "outputId": "f044c0b2-55e8-4af1-bfae-2f6c68c829ee"
      },
      "execution_count": 5,
      "outputs": [
        {
          "output_type": "stream",
          "name": "stdout",
          "text": [
            "A\n"
          ]
        }
      ]
    },
    {
      "cell_type": "markdown",
      "source": [
        "## Tamanho de uma Lista"
      ],
      "metadata": {
        "id": "pZBDo13AG17U"
      }
    },
    {
      "cell_type": "code",
      "source": [
        "print(len(uniao))"
      ],
      "metadata": {
        "colab": {
          "base_uri": "https://localhost:8080/"
        },
        "id": "gLICT-YZGuHP",
        "outputId": "fdafcbc8-a351-4d58-9176-4a1e57c848b7"
      },
      "execution_count": 6,
      "outputs": [
        {
          "output_type": "stream",
          "name": "stdout",
          "text": [
            "5\n"
          ]
        }
      ]
    },
    {
      "cell_type": "markdown",
      "source": [
        "## Soma e Multiplicação de Listas\n",
        "- concatenação"
      ],
      "metadata": {
        "id": "fhMFxlQsHNHZ"
      }
    },
    {
      "cell_type": "code",
      "source": [
        "soma = proteina1 + proteina2\n",
        "print(soma)"
      ],
      "metadata": {
        "colab": {
          "base_uri": "https://localhost:8080/"
        },
        "id": "UhA4wYRnG8Z6",
        "outputId": "108ad784-7724-46aa-ad10-541a3b4d3aac"
      },
      "execution_count": 7,
      "outputs": [
        {
          "output_type": "stream",
          "name": "stdout",
          "text": [
            "['A', 'K', 'G', 'E', 'A', 'A', 'K', 'G', 'E', 'A']\n"
          ]
        }
      ]
    },
    {
      "cell_type": "code",
      "source": [
        "# multiplicação\n",
        "print(proteina1 * 3)"
      ],
      "metadata": {
        "colab": {
          "base_uri": "https://localhost:8080/"
        },
        "id": "jWToGPZPHbzx",
        "outputId": "9c85e9b9-effa-415c-b90b-c80d4e699078"
      },
      "execution_count": 9,
      "outputs": [
        {
          "output_type": "stream",
          "name": "stdout",
          "text": [
            "['A', 'K', 'G', 'E', 'A', 'A', 'K', 'G', 'E', 'A', 'A', 'K', 'G', 'E', 'A']\n"
          ]
        }
      ]
    },
    {
      "cell_type": "markdown",
      "source": [
        "## Verificação de pertencimento em Listas\n",
        "- operador ```in```"
      ],
      "metadata": {
        "id": "Tt71UN6CIsgP"
      }
    },
    {
      "cell_type": "code",
      "source": [
        "print('G' in proteina1)"
      ],
      "metadata": {
        "colab": {
          "base_uri": "https://localhost:8080/"
        },
        "id": "_yEp992_Hjmc",
        "outputId": "f9cb5f96-be17-4d1d-8d9f-1acadeb43df1"
      },
      "execution_count": 10,
      "outputs": [
        {
          "output_type": "stream",
          "name": "stdout",
          "text": [
            "True\n"
          ]
        }
      ]
    },
    {
      "cell_type": "markdown",
      "source": [
        "## Valores Mínimos, Máximos e Soma em Listas"
      ],
      "metadata": {
        "id": "u3lc5mUJI9_j"
      }
    },
    {
      "cell_type": "code",
      "source": [
        "lista = [1, 2, 3, 4, 5, 6, 7 ]"
      ],
      "metadata": {
        "id": "F9DIkWj6I4tj"
      },
      "execution_count": 11,
      "outputs": []
    },
    {
      "cell_type": "code",
      "source": [
        "# valor mínimo\n",
        "print(min(lista))"
      ],
      "metadata": {
        "colab": {
          "base_uri": "https://localhost:8080/"
        },
        "id": "xSb4dL4SJZOc",
        "outputId": "244d8eb0-7c54-468f-be7c-a92c9993b5d4"
      },
      "execution_count": 12,
      "outputs": [
        {
          "output_type": "stream",
          "name": "stdout",
          "text": [
            "1\n"
          ]
        }
      ]
    },
    {
      "cell_type": "code",
      "source": [
        "# valor máximo\n",
        "print(max(lista))"
      ],
      "metadata": {
        "colab": {
          "base_uri": "https://localhost:8080/"
        },
        "id": "z2oK1fiBJc88",
        "outputId": "cbe340bd-856e-42b0-97c2-f29401560c8a"
      },
      "execution_count": 13,
      "outputs": [
        {
          "output_type": "stream",
          "name": "stdout",
          "text": [
            "7\n"
          ]
        }
      ]
    },
    {
      "cell_type": "code",
      "source": [
        "# soma dos elementos da lista\n",
        "print(sum(lista))"
      ],
      "metadata": {
        "colab": {
          "base_uri": "https://localhost:8080/"
        },
        "id": "BAFEuvvfJgKb",
        "outputId": "ef3ceaf3-be6c-4e20-9705-6fe355a4566f"
      },
      "execution_count": 14,
      "outputs": [
        {
          "output_type": "stream",
          "name": "stdout",
          "text": [
            "28\n"
          ]
        }
      ]
    },
    {
      "cell_type": "markdown",
      "source": [
        "## Métodos de uma Lista"
      ],
      "metadata": {
        "id": "LML21zUvfadS"
      }
    },
    {
      "cell_type": "markdown",
      "source": [
        "### Inclusão de itens ao  final da Lista\n",
        "- ```.append()```\n",
        "- adiciona um novo elemento ao final da lista"
      ],
      "metadata": {
        "id": "h_PtVaGSgglQ"
      }
    },
    {
      "cell_type": "code",
      "source": [
        "print(lista)\n",
        "lista.append(35)\n",
        "print(lista)"
      ],
      "metadata": {
        "colab": {
          "base_uri": "https://localhost:8080/"
        },
        "id": "IsVzsj2eJkwc",
        "outputId": "5aa202cb-e0f0-449f-d848-e810c063e6f3"
      },
      "execution_count": 15,
      "outputs": [
        {
          "output_type": "stream",
          "name": "stdout",
          "text": [
            "[1, 2, 3, 4, 5, 6, 7]\n",
            "[1, 2, 3, 4, 5, 6, 7, 35]\n"
          ]
        }
      ]
    },
    {
      "cell_type": "markdown",
      "source": [
        "### inserir um elemento em posição específica\n",
        "```. insert()```"
      ],
      "metadata": {
        "id": "uQXDwsN8hKgr"
      }
    },
    {
      "cell_type": "code",
      "source": [
        "# inserir 67 na posicao 2\n",
        "# primeiro parâmetro: posição \n",
        "# segundo parâmetro: o que vai ser adicionado\n",
        "lista.insert(2, 99)\n",
        "print(lista)"
      ],
      "metadata": {
        "colab": {
          "base_uri": "https://localhost:8080/"
        },
        "id": "o9452Mt_hBtT",
        "outputId": "fa6bbc06-1dd9-4967-82c1-38ffeed4b628"
      },
      "execution_count": 18,
      "outputs": [
        {
          "output_type": "stream",
          "name": "stdout",
          "text": [
            "[1, 2, 99, 6, 6, 3, 4, 5, 6, 7, 35]\n"
          ]
        }
      ]
    },
    {
      "cell_type": "markdown",
      "source": [
        "### Remoção de itens de uma lista\n",
        "- ```.pop()``` : remove o último item da lista"
      ],
      "metadata": {
        "id": "H7oBxxCFh6Z9"
      }
    },
    {
      "cell_type": "code",
      "source": [
        "print(lista)\n",
        "lista.pop()\n",
        "print(lista)"
      ],
      "metadata": {
        "colab": {
          "base_uri": "https://localhost:8080/"
        },
        "id": "lGsltATNhaj_",
        "outputId": "20cdaa67-939e-4251-f994-3b94ef570cc8"
      },
      "execution_count": 20,
      "outputs": [
        {
          "output_type": "stream",
          "name": "stdout",
          "text": [
            "[1, 2, 99, 6, 6, 3, 4, 5, 6, 7]\n",
            "[1, 2, 99, 6, 6, 3, 4, 5, 6]\n"
          ]
        }
      ]
    },
    {
      "cell_type": "code",
      "source": [
        "elemento = lista.pop()\n",
        "print(elemento)"
      ],
      "metadata": {
        "colab": {
          "base_uri": "https://localhost:8080/"
        },
        "id": "nDUvz-5EiF8L",
        "outputId": "f175205e-2b45-4c5c-9336-bff1bb3124ff"
      },
      "execution_count": 21,
      "outputs": [
        {
          "output_type": "stream",
          "name": "stdout",
          "text": [
            "6\n"
          ]
        }
      ]
    },
    {
      "cell_type": "code",
      "source": [
        "# remover pelo índice\n",
        "lista.pop(2)  # remover o elemento que está na posição 2\n",
        "print(lista)"
      ],
      "metadata": {
        "colab": {
          "base_uri": "https://localhost:8080/"
        },
        "id": "jjfRtEoZijsX",
        "outputId": "69adffd8-2c4a-4318-a2e4-b178784682f2"
      },
      "execution_count": 22,
      "outputs": [
        {
          "output_type": "stream",
          "name": "stdout",
          "text": [
            "[1, 2, 6, 6, 3, 4, 5]\n"
          ]
        }
      ]
    },
    {
      "cell_type": "markdown",
      "source": [
        "- ```.remove(item)```\n",
        "- remove o item a partir do seu valor\n",
        "- remove o primeiro item com o valor desejado"
      ],
      "metadata": {
        "id": "tNaOdEpwjWFx"
      }
    },
    {
      "cell_type": "code",
      "source": [
        "lista.remove(6)\n",
        "print(lista)"
      ],
      "metadata": {
        "colab": {
          "base_uri": "https://localhost:8080/"
        },
        "id": "GD8WQOXFjG5t",
        "outputId": "d9dfd4ed-f91a-443e-859f-096aeb1f5a45"
      },
      "execution_count": 24,
      "outputs": [
        {
          "output_type": "stream",
          "name": "stdout",
          "text": [
            "[1, 6, 3, 4, 5]\n"
          ]
        }
      ]
    },
    {
      "cell_type": "markdown",
      "source": [
        "### Ordenação de itens de uma Lista"
      ],
      "metadata": {
        "id": "mv6V3nQckCQF"
      }
    },
    {
      "cell_type": "markdown",
      "source": [
        "### inverter\n",
        "- ```.reverse()```"
      ],
      "metadata": {
        "id": "Q89Wt2q0kKTJ"
      }
    },
    {
      "cell_type": "code",
      "source": [
        "print(lista)\n",
        "lista.reverse()\n",
        "print(lista)"
      ],
      "metadata": {
        "colab": {
          "base_uri": "https://localhost:8080/"
        },
        "id": "lwYss4b7jkOT",
        "outputId": "8e8316e0-5fa5-48e3-e5fb-9dd768a82efa"
      },
      "execution_count": 25,
      "outputs": [
        {
          "output_type": "stream",
          "name": "stdout",
          "text": [
            "[1, 6, 3, 4, 5]\n",
            "[5, 4, 3, 6, 1]\n"
          ]
        }
      ]
    },
    {
      "cell_type": "markdown",
      "source": [
        "- ```.sort()```\n",
        "- ordena em ordem crescente"
      ],
      "metadata": {
        "id": "trrK1oOGkaH3"
      }
    },
    {
      "cell_type": "code",
      "source": [
        "print(lista)\n",
        "lista.sort()\n",
        "print(lista)"
      ],
      "metadata": {
        "colab": {
          "base_uri": "https://localhost:8080/"
        },
        "id": "JgWx2yFlkYPl",
        "outputId": "2bbc51cd-0b47-4f11-8a60-5813cdac3c7d"
      },
      "execution_count": 26,
      "outputs": [
        {
          "output_type": "stream",
          "name": "stdout",
          "text": [
            "[5, 4, 3, 6, 1]\n",
            "[1, 3, 4, 5, 6]\n"
          ]
        }
      ]
    },
    {
      "cell_type": "markdown",
      "source": [
        "### contar o número de ocorrências"
      ],
      "metadata": {
        "id": "xaqTQNXfk0xw"
      }
    },
    {
      "cell_type": "code",
      "source": [
        "print(lista)\n",
        "lista.count(6)"
      ],
      "metadata": {
        "colab": {
          "base_uri": "https://localhost:8080/"
        },
        "id": "44NGX-UykhXs",
        "outputId": "2cd99ce9-b5c5-4ee4-f167-9f6c6a11ff4d"
      },
      "execution_count": 27,
      "outputs": [
        {
          "output_type": "stream",
          "name": "stdout",
          "text": [
            "[1, 3, 4, 5, 6]\n",
            "[1, 3, 4, 5, 6]\n"
          ]
        }
      ]
    },
    {
      "cell_type": "markdown",
      "source": [
        "## Tuplas x Listas"
      ],
      "metadata": {
        "id": "K1iUnTVRlL-h"
      }
    },
    {
      "cell_type": "markdown",
      "source": [
        "- tuplas são mais rápidas\n",
        "- tuplas são imutáveis\n",
        "\n",
        "- listas tem mais métodos \n",
        "- é mais flexível"
      ],
      "metadata": {
        "id": "CwWiIKdllXyx"
      }
    },
    {
      "cell_type": "code",
      "source": [],
      "metadata": {
        "id": "aRWW7PVGlEOS"
      },
      "execution_count": null,
      "outputs": []
    }
  ]
}